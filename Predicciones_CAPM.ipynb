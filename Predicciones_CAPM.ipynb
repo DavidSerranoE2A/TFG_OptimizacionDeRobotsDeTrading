{
 "cells": [
  {
   "cell_type": "code",
   "execution_count": 9,
   "id": "89b521cf",
   "metadata": {},
   "outputs": [],
   "source": [
    "import math\n",
    "import pickle\n",
    "import yfinance as yf\n",
    "import pandas as pd\n",
    "import numpy as np\n",
    "from datetime import timedelta, datetime\n",
    "import math\n",
    "import statsmodels.api as sm\n",
    "import matplotlib.pyplot as plt\n",
    "from tqdm import tqdm"
   ]
  },
  {
   "cell_type": "code",
   "execution_count": 105,
   "id": "57b79215",
   "metadata": {},
   "outputs": [
    {
     "name": "stdout",
     "output_type": "stream",
     "text": [
      "[*********************100%***********************]  1 of 1 completed\n",
      "[*********************100%***********************]  1 of 1 completed\n"
     ]
    }
   ],
   "source": [
    "# Descargamos y abrimos los datos necesarios\n",
    "file = open(\"Datos/SP500_daily.pkl\", \"rb\")\n",
    "data_SP500 = pickle.load(file)\n",
    "file.close()\n",
    "\n",
    "vix_data = yf.download(tickers=\"^VIX\", end='2022-11-01', \n",
    "                                    start='2000-01-01', interval=\"1d\").Close\n",
    "\n",
    "\n",
    "\n",
    "precios_data = yf.download(\"^GSPC\", end='2022-11-03', \n",
    "                                    start='2000-01-01', interval=\"1d\").Close"
   ]
  },
  {
   "cell_type": "code",
   "execution_count": 112,
   "id": "02d7875a",
   "metadata": {},
   "outputs": [],
   "source": [
    "# Descargamos y cambiamos nombres de un par de tickers que daban problemas\n",
    "lista_tickers = np.load(\"Datos/tickers_yahoo.npy\", allow_pickle = True)\n",
    "lista_tickers = list(map(lambda x: x.replace('BRK.B', 'BRK-B'), lista_tickers))\n",
    "lista_tickers = list(map(lambda x: x.replace('BF.B', 'BF-B'), lista_tickers))"
   ]
  },
  {
   "cell_type": "code",
   "execution_count": 124,
   "id": "67f9e6ce",
   "metadata": {},
   "outputs": [],
   "source": [
    "# Importamos la tasa libre de riesgo\n",
    "rf = pd.read_csv('Datos/risk_free_rate.csv')\n",
    "rf = rf[::-1]\n",
    "rf.index = pd.to_datetime(rf.date)\n",
    "rf.index = rf.index.date\n",
    "rf = rf[\" value\"]/100\n",
    "\n",
    "\n",
    "# Calculamos la Varianza esperada\n",
    "IV = (vix_data / 100) ** 2\n",
    "IV = IV[::-1] \n",
    "IV.index = IV.index.date\n",
    "\n",
    "\n",
    "# Calculamos la aproximacion discreta de la varianza realizada\n",
    "var_diaria = {}\n",
    "for i, date_time in enumerate(data_SP500.index):\n",
    "    if i + 1 == len(data_SP500.index):\n",
    "        break\n",
    "    \n",
    "    if date_time.date() != data_SP500.index[i + 1].date():\n",
    "        continue\n",
    "        \n",
    "    var_diaria[date_time.date()] = var_diaria.get(date_time.date(), 0) + math.log(data_SP500.iloc[i] / data_SP500.iloc[i + 1]) ** 2    \n",
    "var_diaria = pd.DataFrame(var_diaria.items()).rename(columns = {0: 'Date', 1: \"Daily_VAR\"}).set_index(\"Date\")    \n",
    "\n",
    "window = 21\n",
    "RV20 = var_diaria.rolling(window).sum().shift(- (window - 1)).rename(columns = {\"Daily_VAR\": \"RV_20\"})\n",
    "\n",
    "\n",
    "# Calculamos la Prima de Riesgo de la Varianza\n",
    "VRP = IV.subtract(RV20.RV_20).dropna()\n",
    "VRP = VRP[::-1]"
   ]
  },
  {
   "cell_type": "markdown",
   "id": "d3d9229e",
   "metadata": {},
   "source": [
    "# Realizamos las predicciones haciendo uso de los modelos basados en CAPM"
   ]
  },
  {
   "cell_type": "code",
   "execution_count": 109,
   "id": "67c3e911",
   "metadata": {
    "scrolled": false
   },
   "outputs": [
    {
     "name": "stderr",
     "output_type": "stream",
     "text": [
      "100%|███████████████████████████████████████| 2884/2884 [01:42<00:00, 28.07it/s]\n"
     ]
    }
   ],
   "source": [
    "# Definimos la función para calcular betas\n",
    "def beta(stock_ret, market_ret, window = 21):\n",
    "        cov = stock_ret.rolling(window * 24).cov(market_ret).shift(- window * 24)\n",
    "        market_var = market_ret.rolling(window * 24).var().shift(- window * 24)\n",
    "        beta = cov / market_var\n",
    "        return beta\n",
    "    \n",
    "stocks = pd.read_csv(\"Datos/tabla_precios.csv\")\n",
    "stocks.index = pd.to_datetime(stocks.Date)\n",
    "stocks = stocks.drop(\"Date\", axis = 1)\n",
    "stocks.index = stocks.index.date\n",
    "\n",
    "fechas = VRP.index\n",
    "data_VRP = VRP\n",
    "\n",
    "# Empezamos con las predicciones\n",
    "predicciones =  {ticker: {} for ticker in lista_tickers}\n",
    "for fecha in tqdm(fechas[::-1][21*24:]):\n",
    "    VRP_forpredict = data_VRP.loc[fecha]\n",
    "    precios = precios_data[::-1]\n",
    "    precios.index = precios.index.date\n",
    "    precios = precios.loc[fecha:] # Cogemos solamente fechas anteriores a la prediccion\n",
    "    \n",
    "    window = 21\n",
    "    NextMonthReturn_byDay = np.log(precios.shift(window) / precios).dropna()\n",
    "    NM_Excess_MR = NextMonthReturn_byDay.subtract(rf).dropna()\n",
    "    NM_Excess_MR = NM_Excess_MR[::-1]\n",
    "\n",
    "    # Igualamos tamaños\n",
    "    NM_Excess_MR = NM_Excess_MR.subtract(VRP * 0).dropna()\n",
    "    NM_Excess_MR = NM_Excess_MR[::-1]\n",
    "    VRP = VRP.subtract(NM_Excess_MR * 0).dropna()\n",
    "    VRP = VRP.rename(\"VRP\")\n",
    "    \n",
    "    \n",
    "    #Primera regresion para calcular rentabilidad del mercado esperada\n",
    "    X = VRP[::-1]\n",
    "    Y = NM_Excess_MR\n",
    "\n",
    "    X = sm.add_constant(X)\n",
    "    model_1 = sm.OLS(Y, X).fit()\n",
    "    \n",
    "    c1 = model_1.params[0]\n",
    "    c2 = model_1.params[1]\n",
    "\n",
    "    E_MR_1 = c1 + c2 * VRP\n",
    "    E_MR_1 = E_MR_1[::-1]\n",
    "    \n",
    "    \n",
    "    window = 21\n",
    "    MarketReturn_Past_og = np.log(precios / precios.shift(-21)).dropna()\n",
    "    \n",
    "    for ticker in lista_tickers:\n",
    "        if np.isnan(stocks.loc[fecha, ticker]):\n",
    "            continue\n",
    "        #print(ticker)\n",
    "        stock = stocks.loc[:, ticker]\n",
    "        stock = stock[::-1]\n",
    "\n",
    "        # Calculamos las rentabilidades originales para ajustar el modelo\n",
    "        window = 21\n",
    "        stock_ret = np.log(stock / stock.shift(-21)).dropna()\n",
    "\n",
    "\n",
    "\n",
    "        # Tener mismos tamaños\n",
    "        stock_ret = stock_ret.subtract(MarketReturn_Past_og * 0).dropna()\n",
    "        MarketReturn_Past = MarketReturn_Past_og.subtract(stock_ret * 0).dropna()\n",
    "        stock_ret = stock_ret[::-1]\n",
    "        MarketReturn_Past = MarketReturn_Past[::-1]\n",
    "\n",
    "        stock_beta = beta(stock_ret, MarketReturn_Past).dropna()\n",
    "        if len(stock_beta) == 0:\n",
    "            continue\n",
    "        \n",
    "        \n",
    "        #Segunda regresión para calular la rentabilidad esperada de las acciones\n",
    "        X = (stock_beta * E_MR_1).dropna()\n",
    "        X = X.rename(\"Beta * E_MR_1\")\n",
    "        X = X[::-1]\n",
    "        \n",
    "        window = 21\n",
    "        NM_stock_ret = np.log(stock.shift(window) / stock).dropna()\n",
    "\n",
    "        NM_stock_excess_ret = NM_stock_ret.subtract(rf).dropna()\n",
    "        NM_stock_excess_ret = NM_stock_excess_ret[::-1]\n",
    "\n",
    "        Y = NM_stock_excess_ret.subtract(X * 0).dropna()\n",
    "        Y = Y[::-1]\n",
    "\n",
    "        X = sm.add_constant(X)\n",
    "        model_beta = sm.OLS(Y, X).fit()\n",
    "        \n",
    "\n",
    "        b1 = model_beta.params[0]\n",
    "        b2 = model_beta.params[1]\n",
    "        \n",
    "        \n",
    "        pred_EMR1 = c1 + c2 * VRP_forpredict\n",
    "        pred_ER1 = b1 + b2 * (stock_beta[0] * pred_EMR1)\n",
    "        #print(fecha, ticker, pred_ER1)\n",
    "        predicciones[ticker][fecha] = pred_ER1\n",
    "        #print(predicciones)"
   ]
  },
  {
   "cell_type": "code",
   "execution_count": null,
   "id": "c8759848",
   "metadata": {},
   "outputs": [],
   "source": [
    "# Este archivo alimentará a nuestro robot para operar en función de las predicciones según cada momento en el tiempo\n",
    "with open(\"/PrediccionesCAPM.pkl\", 'wb') as file:\n",
    "    pickle.dump(predicciones, file)"
   ]
  },
  {
   "cell_type": "markdown",
   "id": "2d8fc885",
   "metadata": {},
   "source": [
    "## Analizamos las Betas a lo largo del tiempo"
   ]
  },
  {
   "cell_type": "code",
   "execution_count": 126,
   "id": "b3fd9140",
   "metadata": {},
   "outputs": [
    {
     "name": "stderr",
     "output_type": "stream",
     "text": [
      "100%|█████████████████████████████████████████████| 1/1 [00:04<00:00,  4.08s/it]\n"
     ]
    }
   ],
   "source": [
    "# Definimos la función para calcular betas\n",
    "def beta(stock_ret, market_ret, window = 21):\n",
    "        cov = stock_ret.rolling(window * 24).cov(market_ret).shift(- window * 24)\n",
    "        market_var = market_ret.rolling(window * 24).var().shift(- window * 24)\n",
    "        beta = cov / market_var\n",
    "        return beta\n",
    "    \n",
    "stocks = pd.read_csv(\"Datos/tabla_precios.csv\")\n",
    "stocks.index = pd.to_datetime(stocks.Date)\n",
    "stocks = stocks.drop(\"Date\", axis = 1)\n",
    "stocks.index = stocks.index.date\n",
    "\n",
    "fechas = VRP.index\n",
    "data_VRP = VRP\n",
    "betas = np.array([])\n",
    "\n",
    "# Empezamos con las predicciones\n",
    "predicciones =  {ticker: {} for ticker in lista_tickers}\n",
    "for fecha in tqdm(fechas[::-1][-1:]):\n",
    "    VRP_forpredict = data_VRP.loc[fecha]\n",
    "    precios = precios_data[::-1]\n",
    "    precios.index = precios.index.date\n",
    "    precios = precios.loc[fecha:] # Cogemos solamente fechas anteriores a la prediccion\n",
    "    \n",
    "    window = 21\n",
    "    NextMonthReturn_byDay = np.log(precios.shift(window) / precios).dropna()\n",
    "    NM_Excess_MR = NextMonthReturn_byDay.subtract(rf).dropna()\n",
    "    NM_Excess_MR = NM_Excess_MR[::-1]\n",
    "\n",
    "    # Igualamos tamaños\n",
    "    NM_Excess_MR = NM_Excess_MR.subtract(VRP * 0).dropna()\n",
    "    NM_Excess_MR = NM_Excess_MR[::-1]\n",
    "    VRP = VRP.subtract(NM_Excess_MR * 0).dropna()\n",
    "    VRP = VRP.rename(\"VRP\")\n",
    "    \n",
    "    \n",
    "    #Primera regresion para calcular rentabilidad del mercado esperada\n",
    "    X = VRP[::-1]\n",
    "    Y = NM_Excess_MR\n",
    "\n",
    "    X = sm.add_constant(X)\n",
    "    model_1 = sm.OLS(Y, X).fit()\n",
    "    \n",
    "    c1 = model_1.params[0]\n",
    "    c2 = model_1.params[1]\n",
    "\n",
    "    E_MR_1 = c1 + c2 * VRP\n",
    "    E_MR_1 = E_MR_1[::-1]\n",
    "    \n",
    "    \n",
    "    window = 21\n",
    "    MarketReturn_Past_og = np.log(precios / precios.shift(-21)).dropna()\n",
    "    \n",
    "    for ticker in lista_tickers:\n",
    "        if np.isnan(stocks.loc[fecha, ticker]):\n",
    "            continue\n",
    "        #print(ticker)\n",
    "        stock = stocks.loc[:, ticker]\n",
    "        stock = stock[::-1]\n",
    "\n",
    "        # Calculamos las rentabilidades originales para ajustar el modelo\n",
    "        window = 21\n",
    "        stock_ret = np.log(stock / stock.shift(-21)).dropna()\n",
    "\n",
    "\n",
    "\n",
    "        # Tener mismos tamaños\n",
    "        stock_ret = stock_ret.subtract(MarketReturn_Past_og * 0).dropna()\n",
    "        MarketReturn_Past = MarketReturn_Past_og.subtract(stock_ret * 0).dropna()\n",
    "        stock_ret = stock_ret[::-1]\n",
    "        MarketReturn_Past = MarketReturn_Past[::-1]\n",
    "\n",
    "        stock_beta = beta(stock_ret, MarketReturn_Past).dropna()\n",
    "        betas = np.concatenate((betas,stock_beta))"
   ]
  },
  {
   "cell_type": "code",
   "execution_count": 136,
   "id": "7303cb6a",
   "metadata": {},
   "outputs": [
    {
     "data": {
      "image/png": "[encoded data removed]",
      "text/plain": [
       "<Figure size 1152x576 with 1 Axes>"
      ]
     },
     "metadata": {
      "needs_background": "light"
     },
     "output_type": "display_data"
    }
   ],
   "source": [
    "plt.figure(figsize=(16, 8))    \n",
    "pd.Series(betas).hist(bins = 1000)\n",
    "plt.xlim(-2, 5.5)\n",
    "plt.yticks([])\n",
    "plt.ylabel(\"Frecuencia\", fontsize=12)\n",
    "plt.xlabel(\"Valor de Beta\", fontsize=12)\n",
    "plt.show()"
   ]
  }
 ],
 "metadata": {
  "kernelspec": {
   "display_name": "Python 3 (ipykernel)",
   "language": "python",
   "name": "python3"
  },
  "language_info": {
   "codemirror_mode": {
    "name": "ipython",
    "version": 3
   },
   "file_extension": ".py",
   "mimetype": "text/x-python",
   "name": "python",
   "nbconvert_exporter": "python",
   "pygments_lexer": "ipython3",
   "version": "3.9.12"
  }
 },
 "nbformat": 4,
 "nbformat_minor": 5
}

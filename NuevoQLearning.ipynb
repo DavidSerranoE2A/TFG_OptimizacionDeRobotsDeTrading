{
 "cells": [
  {
   "cell_type": "markdown",
   "id": "5468e871",
   "metadata": {},
   "source": [
    "# Robot Q-Learning, segunda aprox"
   ]
  },
  {
   "cell_type": "markdown",
   "id": "f8a21350",
   "metadata": {},
   "source": [
    "## Importamos todos los paquetes necesarios"
   ]
  },
  {
   "cell_type": "code",
   "execution_count": 10,
   "id": "e72be582",
   "metadata": {},
   "outputs": [],
   "source": [
    "import numpy as np\n",
    "import pandas as pd\n",
    "import random\n",
    "import yfinance as yf\n",
    "from tqdm import tqdm\n",
    "import pickle\n",
    "from datetime import datetime, timedelta\n",
    "import matplotlib.pyplot as plt\n",
    "import matplotlib.ticker as mtick"
   ]
  },
  {
   "cell_type": "markdown",
   "id": "b5a3fe6e",
   "metadata": {},
   "source": [
    "## Definimos todas las funciones para el preproceso de datos"
   ]
  },
  {
   "cell_type": "code",
   "execution_count": 2,
   "id": "989d7a59",
   "metadata": {},
   "outputs": [],
   "source": [
    "# Descarga del ticker\n",
    "def get_stock_data(ticker, start_date, end_date):\n",
    "    stock_data = yf.download(ticker, start=start_date, end=end_date)\n",
    "    stock_data = stock_data.dropna()\n",
    "    return stock_data\n",
    "\n",
    "# Cálculo ratio de media móvil y ancho ponderado de las bandas de bollinger (1std)\n",
    "def get_smaratio_bandwidth(values, window):\n",
    "    sma = values.rolling(window = window).mean()\n",
    "    mstd = values.rolling(window = window).std()\n",
    "    \n",
    "    band_width = 2 * mstd / sma\n",
    "    smaratio = values / sma\n",
    "    return smaratio, band_width\n",
    "\n",
    "# Obtenemos el ratio de media móvil a largo plazo\n",
    "def get_smaratio_lt(values, window_lt):\n",
    "    sma_lt = values.rolling(window = window_lt).mean()\n",
    "    lt_ratio_values = values / sma_lt\n",
    "    return lt_ratio_values\n",
    "\n",
    "# Creamos dataframe general, datos descargados + calculos anteriores\n",
    "def create_dataframe(stock_data, window, window_lt):\n",
    "    values = stock_data[\"Adj Close\"]\n",
    "    stock_data[\"sma_ratio\"], stock_data[\"BB_Width\"] = get_smaratio_bandwidth(values, window)\n",
    "    stock_data[\"Adj_Close_lt\"] = get_smaratio_lt(values, window_lt)\n",
    "    return stock_data\n",
    "    \n",
    "\n",
    "# Discretizamos (calculamos los rangos para las variables, que definirán los estados), creamos estructura estados\n",
    "def discretize(values, num_states=10):\n",
    "    states_value = dict()\n",
    "    step_size = 1 / num_states\n",
    "    for i in range(num_states):\n",
    "        if i == num_states - 1:\n",
    "            states_value[i] = values.max()\n",
    "        else:\n",
    "            states_value[i] = values.quantile((i+1) * step_size)\n",
    "    return states_value\n",
    "\n",
    "\n",
    "# Calculamos estado específico de cada entrada temporal\n",
    "def generate_states(df, num_states = 10, train = True, states_smaratio = 0, states_bbwidth = 0, states_adjclose = 0):\n",
    "    if train:\n",
    "        states_smaratio = pd.Series(discretize(df[\"sma_ratio\"], num_states))\n",
    "        states_bbwidth = pd.Series(discretize(df[\"BB_Width\"], num_states))\n",
    "        states_adjclose = pd.Series(discretize(df[\"Adj_Close_lt\"], num_states))\n",
    "    \n",
    "    df[\"state_sma_ratio\"] =  df[\"sma_ratio\"].apply(lambda x: np.min(states_smaratio[states_smaratio > x].index)).fillna(9)\n",
    "    df[\"state_BB_Width\"] =  df[\"BB_Width\"].apply(lambda x: np.min(states_bbwidth[states_bbwidth > x].index)).fillna(9)\n",
    "    df[\"state_Adj_Close\"] =  df[\"Adj_Close_lt\"].apply(lambda x: np.min(states_adjclose[states_adjclose > x].index)).fillna(9)\n",
    "    \n",
    "    df = df.dropna()\n",
    "    \n",
    "    df[\"state\"] = df[\"state_sma_ratio\"].astype(int).astype(str) + df[\"state_BB_Width\"].astype(int).astype(str) + df[\"state_Adj_Close\"].astype(int).astype(str)\n",
    "    return df, states_smaratio, states_bbwidth, states_adjclose\n",
    "    \n",
    "    "
   ]
  },
  {
   "cell_type": "markdown",
   "id": "8f0b9c10",
   "metadata": {},
   "source": [
    "## Definimos funciones para el trading"
   ]
  },
  {
   "cell_type": "code",
   "execution_count": 3,
   "id": "ac25907f",
   "metadata": {},
   "outputs": [],
   "source": [
    "# Parámetros para el algoritmo de Q-Learning\n",
    "GAMMA = 0.99 # Factor de descuento de recompensas futuras\n",
    "EPSILON = 1.0 # Para tomar acciones aleatorias (e-greedy)\n",
    "EPSILON_DECAY = 0.\n",
    "EPSILON_MIN = 0.3\n",
    "ALPHA = 0.1  # Learning Rate\n",
    "\n",
    "class QLearningAgent:\n",
    "    def __init__(self, gamma=GAMMA, epsilon=EPSILON, epsilon_decay=EPSILON_DECAY, epsilon_min=EPSILON_MIN, alpha=ALPHA):\n",
    "        self.gamma = gamma\n",
    "        self.epsilon = epsilon\n",
    "        self.epsilon_decay = epsilon_decay\n",
    "        self.epsilon_min = epsilon_min\n",
    "        self.alpha = alpha\n",
    "        self.q_table = pd.DataFrame()\n",
    "    \n",
    "    # Creamos la matriz q con indices del 000 al 999 y acciones 0, 1, 2\n",
    "    def create_q_table(self):\n",
    "        rows = [str(i).zfill(3) for i in range(1000)]\n",
    "        self.q_table = pd.DataFrame(index = rows, columns=[0, 1, 2]).fillna(0.)\n",
    "        return\n",
    "    \n",
    "    # Seleccionamos una accion (comprar, vender o mantener)\n",
    "    def act(self, state):\n",
    "        if np.random.rand() <= self.epsilon:\n",
    "            return random.randrange(len(self.q_table.columns))\n",
    "        q_values = self.q_table.loc[state]\n",
    "        return np.argmax(q_values)\n",
    "    \n",
    "    # Actualizamos la matriz Q\n",
    "    def update_q_table(self, state, action, reward, next_state):\n",
    "        old_value = self.q_table.loc[state][action]\n",
    "        next_max = np.max(self.q_table.loc[next_state])\n",
    "\n",
    "        # Actualizar la matriz Q usando la ecuacion de Bellman para actualizar los valores\n",
    "        new_value = old_value + self.alpha * (reward + self.gamma * next_max - old_value)\n",
    "        self.q_table.loc[state][action] = new_value\n",
    "        return\n",
    "\n",
    "    # Reducimos el epsilon (menos aleatoriedad en la toma de decisiones) Se mantendrá constante en 0.3\n",
    "    def decay_epsilon(self):\n",
    "        self.epsilon *= self.epsilon_decay\n",
    "        self.epsilon = max(self.epsilon, self.epsilon_min)\n",
    "        return\n",
    "\n",
    "def train_agent(ticker, initial_cash, initial_stock, n_episodes, df):\n",
    "    print(f\"Entrenando para {ticker}...\\n\")\n",
    "    agent = QLearningAgent()\n",
    "    agent.create_q_table()\n",
    "    \n",
    "    cash_initial = initial_cash\n",
    "    stock_initial = initial_stock\n",
    "    current_capital = initial_cash\n",
    "\n",
    "    for e in tqdm(range(n_episodes)):\n",
    "        cash = cash_initial\n",
    "        stock = stock_initial\n",
    "        capitals = []\n",
    "\n",
    "        for t in range(len(df) - 1):\n",
    "            state = df.iloc[t][\"state\"]\n",
    "            action = agent.act(state)\n",
    "            next_state = df.iloc[t + 1][\"state\"]\n",
    "            actual_price = df.iloc[t][\"Adj Close\"]\n",
    "\n",
    "            if action == 1:  # Comprar\n",
    "                if stock < 0:\n",
    "                    stock_to_buy = - stock\n",
    "                    cash -= stock_to_buy * actual_price\n",
    "                    stock += stock_to_buy\n",
    "                    \n",
    "                elif stock > 0:\n",
    "                    pass\n",
    "                \n",
    "                elif stock == 0:\n",
    "                    stock_to_buy = cash / actual_price\n",
    "                    cash -= stock_to_buy * actual_price\n",
    "                    stock += stock_to_buy\n",
    "                    \n",
    "            elif action == 2:  # Vender en corto\n",
    "                if stock > 0:\n",
    "                    stock_to_sell = stock\n",
    "                    cash += stock_to_sell * actual_price\n",
    "                    stock -= stock_to_sell\n",
    "                    \n",
    "                elif stock < 0:\n",
    "                    pass\n",
    "                \n",
    "                elif stock == 0:\n",
    "                    stock_to_sell = cash / actual_price\n",
    "                    cash += stock_to_sell * actual_price\n",
    "                    stock -= stock_to_sell\n",
    "                    \n",
    "            # Calcular la recompensa y actualizar la tabla Q\n",
    "            future_capital = cash + stock * df.iloc[t + 1][\"Adj Close\"]\n",
    "            base = (100 * ((future_capital - current_capital) / np.abs(current_capital)))\n",
    "            \n",
    "            if base < 0:\n",
    "                reward = - ((- base) ** 1.5)\n",
    "            else:\n",
    "                reward = base ** 1.5\n",
    "            \n",
    "            #print(\"previous_capital\", previous_capital, \"\\n\",\n",
    "            #     \"current_capital\", current_capital, \"\\n\",\n",
    "            #     \"reward\", reward, \"\\n\",\n",
    "            #     \"action\", action, \"\\n\",\n",
    "            #     \"stock\", stock, \"\\n\",\n",
    "            #     \"cash\", cash, \"\\n\")\n",
    "            \n",
    "            current_capital = future_capital\n",
    "            \n",
    "            agent.update_q_table(state, action, reward, next_state)\n",
    "            state = next_state\n",
    "            capitals.append(current_capital)\n",
    "\n",
    "        agent.decay_epsilon()\n",
    "\n",
    "    return agent, current_capital, capitals\n",
    "\n",
    "\n",
    "def test_agent(agent, ticker, initial_cash, initial_stock, df):\n",
    "    cash = initial_cash\n",
    "    stock = initial_stock\n",
    "    current_capital = initial_cash\n",
    "    agent.epsilon = 0\n",
    "    agent.epsilon_decay = 0\n",
    "    agent.epsilon_min = 0\n",
    "    trading_history = pd.DataFrame({\"Cash\": [], \"Stock money\": [], \"Capital\" : []})\n",
    "    \n",
    "    for t in range(len(df) - 1):\n",
    "        state = df.iloc[t][\"state\"]\n",
    "        action = agent.act(state)\n",
    "        actual_price = df.iloc[t][\"Adj Close\"]\n",
    "\n",
    "        if action == 1:  # Comprar\n",
    "            if stock < 0:\n",
    "                stock_to_buy = - stock\n",
    "                cash -= stock_to_buy * actual_price\n",
    "                stock += stock_to_buy\n",
    "\n",
    "            elif stock > 0:\n",
    "                pass\n",
    "\n",
    "            elif stock == 0:\n",
    "                stock_to_buy = cash / actual_price\n",
    "                cash -= stock_to_buy * actual_price\n",
    "                stock += stock_to_buy\n",
    "\n",
    "        elif action == 2:  # Vender en corto\n",
    "            if stock > 0:\n",
    "                stock_to_sell = stock\n",
    "                cash += stock_to_sell * actual_price\n",
    "                stock -= stock_to_sell\n",
    "\n",
    "            elif stock < 0:\n",
    "                pass\n",
    "\n",
    "            elif stock == 0:\n",
    "                stock_to_sell = cash / actual_price\n",
    "                cash += stock_to_sell * actual_price\n",
    "                stock -= stock_to_sell\n",
    "        \n",
    "        current_capital = cash + stock * actual_price\n",
    "        trading_history.at[df.iloc[t].name, \"Cash\"] = cash\n",
    "        trading_history.at[df.iloc[t].name, \"Stock money\"] = stock * actual_price\n",
    "        trading_history.at[df.iloc[t].name, \"Capital\"]= current_capital   \n",
    "        \n",
    "    return agent, current_capital, trading_history\n",
    "\n",
    "    \n",
    "\n",
    "def train_test_agent(ticker, initial_cash, initial_stock, n_episodes,\n",
    "                     start_date_train, end_date_train, start_date_test, end_date_test,\n",
    "                     window = 3, window_lt = 252):\n",
    "    \n",
    "    stock_data_train = get_stock_data(ticker, start_date_train, end_date_train)\n",
    "    df_train, states_smaratio, states_bbwidth, states_adjclose = generate_states(create_dataframe(stock_data_train, window = window, window_lt = window_lt))\n",
    "    agent, current_capital, capitals = train_agent(ticker, initial_cash, initial_stock, n_episodes, df_train)\n",
    "    \n",
    "    stock_data_test = get_stock_data(ticker, start_date_test - timedelta(days = 252), end_date_test)\n",
    "    df_test, _, _, _ = generate_states(create_dataframe(stock_data_test, window = window, window_lt = window_lt),\n",
    "                                       train = False, states_smaratio = states_smaratio, \n",
    "                                       states_bbwidth = states_bbwidth, states_adjclose = states_adjclose)\n",
    "    agent, current_capital, trading_history = test_agent(agent, ticker, initial_cash, initial_stock, df_test)\n",
    "    return current_capital, trading_history\n",
    "    "
   ]
  },
  {
   "cell_type": "markdown",
   "id": "cefcce2b",
   "metadata": {},
   "source": [
    "## Entrenamos y probamos el robot con múltiples acciones"
   ]
  },
  {
   "cell_type": "markdown",
   "id": "4f736c99",
   "metadata": {},
   "source": [
    "### Cuidado con ejecutar la siguiente celda, tarda 6 horas aprox."
   ]
  },
  {
   "cell_type": "code",
   "execution_count": 8,
   "id": "aeb7daa8",
   "metadata": {
    "scrolled": true
   },
   "outputs": [
    {
     "name": "stdout",
     "output_type": "stream",
     "text": [
      "[*********************100%***********************]  1 of 1 completed\n",
      "Entrenando para A...\n",
      "\n"
     ]
    },
    {
     "name": "stderr",
     "output_type": "stream",
     "text": [
      "100%|█████████████████████████████████████████| 100/100 [00:43<00:00,  2.32it/s]\n"
     ]
    },
    {
     "name": "stdout",
     "output_type": "stream",
     "text": [
      "[*********************100%***********************]  1 of 1 completed\n",
      "Ticker: A\n",
      "Rentabilidad: 34.8%\n",
      "\n",
      "[*********************100%***********************]  1 of 1 completed\n",
      "Entrenando para AAL...\n",
      "\n"
     ]
    },
    {
     "name": "stderr",
     "output_type": "stream",
     "text": [
      "100%|█████████████████████████████████████████| 100/100 [00:43<00:00,  2.32it/s]\n"
     ]
    },
    {
     "name": "stdout",
     "output_type": "stream",
     "text": [
      "[*********************100%***********************]  1 of 1 completed\n",
      "Ticker: AAL\n",
      "Rentabilidad: 70.53%\n",
      "\n",
      "[*********************100%***********************]  1 of 1 completed\n",
      "Entrenando para AAP...\n",
      "\n"
     ]
    },
    {
     "name": "stderr",
     "output_type": "stream",
     "text": [
      "100%|█████████████████████████████████████████| 100/100 [00:42<00:00,  2.33it/s]"
     ]
    },
    {
     "name": "stdout",
     "output_type": "stream",
     "text": [
      "\r",
      "[*********************100%***********************]  1 of 1 completed"
     ]
    },
    {
     "name": "stderr",
     "output_type": "stream",
     "text": [
      "\n"
     ]
    },
    {
     "name": "stdout",
     "output_type": "stream",
     "text": [
      "\n",
      "Ticker: AAP\n",
      "Rentabilidad: -56.92%\n",
      "\n",
      "[*********************100%***********************]  1 of 1 completed\n",
      "Entrenando para AAPL...\n",
      "\n"
     ]
    },
    {
     "name": "stderr",
     "output_type": "stream",
     "text": [
      "100%|█████████████████████████████████████████| 100/100 [00:43<00:00,  2.32it/s]\n"
     ]
    },
    {
     "name": "stdout",
     "output_type": "stream",
     "text": [
      "[*********************100%***********************]  1 of 1 completed\n",
      "Ticker: AAPL\n",
      "Rentabilidad: 177.92%\n",
      "\n",
      "[*********************100%***********************]  1 of 1 completed\n",
      "Entrenando para ABC...\n",
      "\n"
     ]
    },
    {
     "name": "stderr",
     "output_type": "stream",
     "text": [
      "100%|█████████████████████████████████████████| 100/100 [00:43<00:00,  2.32it/s]\n"
     ]
    },
    {
     "name": "stdout",
     "output_type": "stream",
     "text": [
      "[*********************100%***********************]  1 of 1 completed\n",
      "Ticker: ABC\n",
      "Rentabilidad: -51.67%\n",
      "\n",
      "[*********************100%***********************]  1 of 1 completed\n",
      "Entrenando para ABMD...\n",
      "\n"
     ]
    },
    {
     "name": "stderr",
     "output_type": "stream",
     "text": [
      "100%|█████████████████████████████████████████| 100/100 [00:43<00:00,  2.32it/s]"
     ]
    },
    {
     "name": "stdout",
     "output_type": "stream",
     "text": [
      "\r",
      "[*********************100%***********************]  1 of 1 completed"
     ]
    },
    {
     "name": "stderr",
     "output_type": "stream",
     "text": [
      "\n"
     ]
    },
    {
     "name": "stdout",
     "output_type": "stream",
     "text": [
      "\n",
      "Ticker: ABMD\n",
      "Rentabilidad: -13.54%\n",
      "\n",
      "[*********************100%***********************]  1 of 1 completed\n",
      "Entrenando para ABT...\n",
      "\n"
     ]
    },
    {
     "name": "stderr",
     "output_type": "stream",
     "text": [
      "100%|█████████████████████████████████████████| 100/100 [00:43<00:00,  2.31it/s]\n"
     ]
    },
    {
     "name": "stdout",
     "output_type": "stream",
     "text": [
      "[*********************100%***********************]  1 of 1 completed\n",
      "Ticker: ABT\n",
      "Rentabilidad: 20.03%\n",
      "\n",
      "[*********************100%***********************]  1 of 1 completed\n",
      "Entrenando para ACN...\n",
      "\n"
     ]
    },
    {
     "name": "stderr",
     "output_type": "stream",
     "text": [
      "100%|█████████████████████████████████████████| 100/100 [00:42<00:00,  2.33it/s]\n"
     ]
    },
    {
     "name": "stdout",
     "output_type": "stream",
     "text": [
      "[*********************100%***********************]  1 of 1 completed\n",
      "Ticker: ACN\n",
      "Rentabilidad: -20.5%\n",
      "\n",
      "[*********************100%***********************]  1 of 1 completed\n",
      "Entrenando para ADBE...\n",
      "\n"
     ]
    },
    {
     "name": "stderr",
     "output_type": "stream",
     "text": [
      "100%|█████████████████████████████████████████| 100/100 [00:42<00:00,  2.33it/s]\n"
     ]
    },
    {
     "name": "stdout",
     "output_type": "stream",
     "text": [
      "[*********************100%***********************]  1 of 1 completed\n",
      "Ticker: ADBE\n",
      "Rentabilidad: 578.71%\n",
      "\n",
      "[*********************100%***********************]  1 of 1 completed\n",
      "Entrenando para ADI...\n",
      "\n"
     ]
    },
    {
     "name": "stderr",
     "output_type": "stream",
     "text": [
      "100%|█████████████████████████████████████████| 100/100 [00:42<00:00,  2.33it/s]\n"
     ]
    },
    {
     "name": "stdout",
     "output_type": "stream",
     "text": [
      "[*********************100%***********************]  1 of 1 completed\n",
      "Ticker: ADI\n",
      "Rentabilidad: 25.85%\n",
      "\n",
      "[*********************100%***********************]  1 of 1 completed\n",
      "Entrenando para ADM...\n",
      "\n"
     ]
    },
    {
     "name": "stderr",
     "output_type": "stream",
     "text": [
      "100%|█████████████████████████████████████████| 100/100 [00:42<00:00,  2.33it/s]"
     ]
    },
    {
     "name": "stdout",
     "output_type": "stream",
     "text": [
      "\r",
      "[*********************100%***********************]  1 of 1 completed"
     ]
    },
    {
     "name": "stderr",
     "output_type": "stream",
     "text": [
      "\n"
     ]
    },
    {
     "name": "stdout",
     "output_type": "stream",
     "text": [
      "\n",
      "Ticker: ADM\n",
      "Rentabilidad: 8.1%\n",
      "\n",
      "[*********************100%***********************]  1 of 1 completed\n",
      "Entrenando para ADP...\n",
      "\n"
     ]
    },
    {
     "name": "stderr",
     "output_type": "stream",
     "text": [
      "100%|█████████████████████████████████████████| 100/100 [00:42<00:00,  2.33it/s]"
     ]
    },
    {
     "name": "stdout",
     "output_type": "stream",
     "text": [
      "\r",
      "[*********************100%***********************]  1 of 1 completed"
     ]
    },
    {
     "name": "stderr",
     "output_type": "stream",
     "text": [
      "\n"
     ]
    },
    {
     "name": "stdout",
     "output_type": "stream",
     "text": [
      "\n",
      "Ticker: ADP\n",
      "Rentabilidad: 5.85%\n",
      "\n",
      "[*********************100%***********************]  1 of 1 completed\n",
      "Entrenando para ADSK...\n",
      "\n"
     ]
    },
    {
     "name": "stderr",
     "output_type": "stream",
     "text": [
      "100%|█████████████████████████████████████████| 100/100 [00:43<00:00,  2.32it/s]\n"
     ]
    },
    {
     "name": "stdout",
     "output_type": "stream",
     "text": [
      "[*********************100%***********************]  1 of 1 completed\n",
      "Ticker: ADSK\n",
      "Rentabilidad: 177.26%\n",
      "\n",
      "[*********************100%***********************]  1 of 1 completed\n",
      "Entrenando para AEE...\n",
      "\n"
     ]
    },
    {
     "name": "stderr",
     "output_type": "stream",
     "text": [
      "100%|█████████████████████████████████████████| 100/100 [00:43<00:00,  2.32it/s]"
     ]
    },
    {
     "name": "stdout",
     "output_type": "stream",
     "text": [
      "\r",
      "[*********************100%***********************]  1 of 1 completed"
     ]
    },
    {
     "name": "stderr",
     "output_type": "stream",
     "text": [
      "\n"
     ]
    },
    {
     "name": "stdout",
     "output_type": "stream",
     "text": [
      "\n",
      "Ticker: AEE\n",
      "Rentabilidad: 10.5%\n",
      "\n",
      "[*********************100%***********************]  1 of 1 completed\n",
      "Entrenando para AEP...\n",
      "\n"
     ]
    },
    {
     "name": "stderr",
     "output_type": "stream",
     "text": [
      "100%|█████████████████████████████████████████| 100/100 [00:43<00:00,  2.31it/s]\n"
     ]
    },
    {
     "name": "stdout",
     "output_type": "stream",
     "text": [
      "[*********************100%***********************]  1 of 1 completed\n",
      "Ticker: AEP\n",
      "Rentabilidad: 148.01%\n",
      "\n",
      "[*********************100%***********************]  1 of 1 completed\n",
      "Entrenando para AES...\n",
      "\n"
     ]
    },
    {
     "name": "stderr",
     "output_type": "stream",
     "text": [
      "100%|█████████████████████████████████████████| 100/100 [00:43<00:00,  2.30it/s]\n"
     ]
    },
    {
     "name": "stdout",
     "output_type": "stream",
     "text": [
      "[*********************100%***********************]  1 of 1 completed\n",
      "Ticker: AES\n",
      "Rentabilidad: 125.95%\n",
      "\n",
      "[*********************100%***********************]  1 of 1 completed\n",
      "Entrenando para AFL...\n",
      "\n"
     ]
    },
    {
     "name": "stderr",
     "output_type": "stream",
     "text": [
      "100%|█████████████████████████████████████████| 100/100 [00:43<00:00,  2.29it/s]\n"
     ]
    },
    {
     "name": "stdout",
     "output_type": "stream",
     "text": [
      "[*********************100%***********************]  1 of 1 completed\n",
      "Ticker: AFL\n",
      "Rentabilidad: -42.13%\n",
      "\n",
      "[*********************100%***********************]  1 of 1 completed\n",
      "Entrenando para AIG...\n",
      "\n"
     ]
    },
    {
     "name": "stderr",
     "output_type": "stream",
     "text": [
      "100%|█████████████████████████████████████████| 100/100 [00:43<00:00,  2.32it/s]\n"
     ]
    },
    {
     "name": "stdout",
     "output_type": "stream",
     "text": [
      "[*********************100%***********************]  1 of 1 completed\n",
      "Ticker: AIG\n",
      "Rentabilidad: -66.76%\n",
      "\n",
      "[*********************100%***********************]  1 of 1 completed\n",
      "Entrenando para AIZ...\n",
      "\n"
     ]
    },
    {
     "name": "stderr",
     "output_type": "stream",
     "text": [
      "100%|█████████████████████████████████████████| 100/100 [00:43<00:00,  2.32it/s]\n"
     ]
    },
    {
     "name": "stdout",
     "output_type": "stream",
     "text": [
      "[*********************100%***********************]  1 of 1 completed\n",
      "Ticker: AIZ\n",
      "Rentabilidad: 138.13%\n",
      "\n",
      "[*********************100%***********************]  1 of 1 completed\n",
      "Entrenando para AJG...\n",
      "\n"
     ]
    },
    {
     "name": "stderr",
     "output_type": "stream",
     "text": [
      "100%|█████████████████████████████████████████| 100/100 [00:43<00:00,  2.32it/s]\n"
     ]
    },
    {
     "name": "stdout",
     "output_type": "stream",
     "text": [
      "[*********************100%***********************]  1 of 1 completed\n",
      "Ticker: AJG\n",
      "Rentabilidad: 41.28%\n",
      "\n",
      "[*********************100%***********************]  1 of 1 completed\n",
      "Entrenando para AKAM...\n",
      "\n"
     ]
    },
    {
     "name": "stderr",
     "output_type": "stream",
     "text": [
      "100%|█████████████████████████████████████████| 100/100 [00:43<00:00,  2.32it/s]"
     ]
    },
    {
     "name": "stdout",
     "output_type": "stream",
     "text": [
      "\r",
      "[*********************100%***********************]  1 of 1 completed"
     ]
    },
    {
     "name": "stderr",
     "output_type": "stream",
     "text": [
      "\n"
     ]
    },
    {
     "name": "stdout",
     "output_type": "stream",
     "text": [
      "\n",
      "Ticker: AKAM\n",
      "Rentabilidad: -39.5%\n",
      "\n",
      "[*********************100%***********************]  1 of 1 completed\n",
      "Entrenando para ALB...\n",
      "\n"
     ]
    },
    {
     "name": "stderr",
     "output_type": "stream",
     "text": [
      "100%|█████████████████████████████████████████| 100/100 [00:42<00:00,  2.33it/s]\n"
     ]
    },
    {
     "name": "stdout",
     "output_type": "stream",
     "text": [
      "[*********************100%***********************]  1 of 1 completed\n",
      "Ticker: ALB\n",
      "Rentabilidad: 99.48%\n",
      "\n",
      "[*********************100%***********************]  1 of 1 completed\n",
      "Entrenando para ALGN...\n",
      "\n"
     ]
    },
    {
     "name": "stderr",
     "output_type": "stream",
     "text": [
      "100%|█████████████████████████████████████████| 100/100 [00:43<00:00,  2.28it/s]\n"
     ]
    },
    {
     "name": "stdout",
     "output_type": "stream",
     "text": [
      "[*********************100%***********************]  1 of 1 completed\n",
      "Ticker: ALGN\n",
      "Rentabilidad: -55.21%\n",
      "\n",
      "[*********************100%***********************]  1 of 1 completed\n",
      "Entrenando para ALK...\n",
      "\n"
     ]
    },
    {
     "name": "stderr",
     "output_type": "stream",
     "text": [
      "100%|█████████████████████████████████████████| 100/100 [00:42<00:00,  2.33it/s]\n"
     ]
    },
    {
     "name": "stdout",
     "output_type": "stream",
     "text": [
      "[*********************100%***********************]  1 of 1 completed\n",
      "Ticker: ALK\n",
      "Rentabilidad: -59.23%\n",
      "\n",
      "[*********************100%***********************]  1 of 1 completed\n",
      "Entrenando para ALL...\n",
      "\n"
     ]
    },
    {
     "name": "stderr",
     "output_type": "stream",
     "text": [
      "100%|█████████████████████████████████████████| 100/100 [00:42<00:00,  2.33it/s]\n"
     ]
    },
    {
     "name": "stdout",
     "output_type": "stream",
     "text": [
      "[*********************100%***********************]  1 of 1 completed\n",
      "Ticker: ALL\n",
      "Rentabilidad: -50.31%\n",
      "\n",
      "[*********************100%***********************]  1 of 1 completed\n",
      "Entrenando para AMAT...\n",
      "\n"
     ]
    },
    {
     "name": "stderr",
     "output_type": "stream",
     "text": [
      "100%|█████████████████████████████████████████| 100/100 [00:43<00:00,  2.32it/s]\n"
     ]
    },
    {
     "name": "stdout",
     "output_type": "stream",
     "text": [
      "[*********************100%***********************]  1 of 1 completed\n",
      "Ticker: AMAT\n",
      "Rentabilidad: -32.49%\n",
      "\n",
      "[*********************100%***********************]  1 of 1 completed\n",
      "Entrenando para AMD...\n",
      "\n"
     ]
    },
    {
     "name": "stderr",
     "output_type": "stream",
     "text": [
      "100%|█████████████████████████████████████████| 100/100 [00:43<00:00,  2.30it/s]"
     ]
    },
    {
     "name": "stdout",
     "output_type": "stream",
     "text": [
      "\r",
      "[*********************100%***********************]  1 of 1 completed"
     ]
    },
    {
     "name": "stderr",
     "output_type": "stream",
     "text": [
      "\n"
     ]
    },
    {
     "name": "stdout",
     "output_type": "stream",
     "text": [
      "\n",
      "Ticker: AMD\n",
      "Rentabilidad: 727.76%\n",
      "\n",
      "[*********************100%***********************]  1 of 1 completed\n",
      "Entrenando para AME...\n",
      "\n"
     ]
    },
    {
     "name": "stderr",
     "output_type": "stream",
     "text": [
      "100%|█████████████████████████████████████████| 100/100 [00:43<00:00,  2.30it/s]\n"
     ]
    },
    {
     "name": "stdout",
     "output_type": "stream",
     "text": [
      "[*********************100%***********************]  1 of 1 completed\n",
      "Ticker: AME\n",
      "Rentabilidad: 10.56%\n",
      "\n",
      "[*********************100%***********************]  1 of 1 completed\n",
      "Entrenando para AMGN...\n",
      "\n"
     ]
    },
    {
     "name": "stderr",
     "output_type": "stream",
     "text": [
      "100%|█████████████████████████████████████████| 100/100 [00:43<00:00,  2.32it/s]\n"
     ]
    },
    {
     "name": "stdout",
     "output_type": "stream",
     "text": [
      "[*********************100%***********************]  1 of 1 completed\n",
      "Ticker: AMGN\n",
      "Rentabilidad: -32.56%\n",
      "\n",
      "[*********************100%***********************]  1 of 1 completed\n",
      "Entrenando para AMP...\n",
      "\n"
     ]
    },
    {
     "name": "stderr",
     "output_type": "stream",
     "text": [
      "100%|█████████████████████████████████████████| 100/100 [00:43<00:00,  2.31it/s]\n"
     ]
    },
    {
     "name": "stdout",
     "output_type": "stream",
     "text": [
      "[*********************100%***********************]  1 of 1 completed\n",
      "Ticker: AMP\n",
      "Rentabilidad: 179.12%\n",
      "\n",
      "[*********************100%***********************]  1 of 1 completed\n",
      "Entrenando para AMT...\n",
      "\n"
     ]
    },
    {
     "name": "stderr",
     "output_type": "stream",
     "text": [
      "100%|█████████████████████████████████████████| 100/100 [00:43<00:00,  2.30it/s]\n"
     ]
    },
    {
     "name": "stdout",
     "output_type": "stream",
     "text": [
      "[*********************100%***********************]  1 of 1 completed\n",
      "Ticker: AMT\n",
      "Rentabilidad: 48.1%\n",
      "\n",
      "[*********************100%***********************]  1 of 1 completed\n",
      "Entrenando para AMZN...\n",
      "\n"
     ]
    },
    {
     "name": "stderr",
     "output_type": "stream",
     "text": [
      "100%|█████████████████████████████████████████| 100/100 [00:43<00:00,  2.31it/s]\n"
     ]
    },
    {
     "name": "stdout",
     "output_type": "stream",
     "text": [
      "[*********************100%***********************]  1 of 1 completed\n",
      "Ticker: AMZN\n",
      "Rentabilidad: 64.29%\n",
      "\n",
      "[*********************100%***********************]  1 of 1 completed\n",
      "Entrenando para ANSS...\n",
      "\n"
     ]
    },
    {
     "name": "stderr",
     "output_type": "stream",
     "text": [
      "100%|█████████████████████████████████████████| 100/100 [00:43<00:00,  2.32it/s]"
     ]
    },
    {
     "name": "stdout",
     "output_type": "stream",
     "text": [
      "\r",
      "[*********************100%***********************]  1 of 1 completed"
     ]
    },
    {
     "name": "stderr",
     "output_type": "stream",
     "text": [
      "\n"
     ]
    },
    {
     "name": "stdout",
     "output_type": "stream",
     "text": [
      "\n",
      "Ticker: ANSS\n",
      "Rentabilidad: -82.67%\n",
      "\n",
      "[*********************100%***********************]  1 of 1 completed\n",
      "Entrenando para AON...\n",
      "\n"
     ]
    },
    {
     "name": "stderr",
     "output_type": "stream",
     "text": [
      "100%|█████████████████████████████████████████| 100/100 [00:43<00:00,  2.33it/s]\n"
     ]
    },
    {
     "name": "stdout",
     "output_type": "stream",
     "text": [
      "[*********************100%***********************]  1 of 1 completed\n",
      "Ticker: AON\n",
      "Rentabilidad: 52.08%\n",
      "\n",
      "[*********************100%***********************]  1 of 1 completed\n",
      "Entrenando para AOS...\n",
      "\n"
     ]
    },
    {
     "name": "stderr",
     "output_type": "stream",
     "text": [
      "100%|█████████████████████████████████████████| 100/100 [00:43<00:00,  2.30it/s]\n"
     ]
    },
    {
     "name": "stdout",
     "output_type": "stream",
     "text": [
      "[*********************100%***********************]  1 of 1 completed\n",
      "Ticker: AOS\n",
      "Rentabilidad: -41.76%\n",
      "\n",
      "[*********************100%***********************]  1 of 1 completed\n",
      "Entrenando para APA...\n",
      "\n"
     ]
    },
    {
     "name": "stderr",
     "output_type": "stream",
     "text": [
      "100%|█████████████████████████████████████████| 100/100 [00:43<00:00,  2.30it/s]\n"
     ]
    },
    {
     "name": "stdout",
     "output_type": "stream",
     "text": [
      "[*********************100%***********************]  1 of 1 completed\n",
      "Ticker: APA\n",
      "Rentabilidad: -27.81%\n",
      "\n",
      "[*********************100%***********************]  1 of 1 completed\n",
      "Entrenando para APD...\n",
      "\n"
     ]
    },
    {
     "name": "stderr",
     "output_type": "stream",
     "text": [
      "100%|█████████████████████████████████████████| 100/100 [00:43<00:00,  2.30it/s]\n"
     ]
    },
    {
     "name": "stdout",
     "output_type": "stream",
     "text": [
      "[*********************100%***********************]  1 of 1 completed\n",
      "Ticker: APD\n",
      "Rentabilidad: -25.83%\n",
      "\n",
      "[*********************100%***********************]  1 of 1 completed\n",
      "Entrenando para APH...\n",
      "\n"
     ]
    },
    {
     "name": "stderr",
     "output_type": "stream",
     "text": [
      "100%|█████████████████████████████████████████| 100/100 [00:43<00:00,  2.28it/s]\n"
     ]
    },
    {
     "name": "stdout",
     "output_type": "stream",
     "text": [
      "[*********************100%***********************]  1 of 1 completed\n",
      "Ticker: APH\n",
      "Rentabilidad: 43.72%\n",
      "\n",
      "[*********************100%***********************]  1 of 1 completed\n",
      "Entrenando para APTV...\n",
      "\n"
     ]
    },
    {
     "name": "stderr",
     "output_type": "stream",
     "text": [
      "100%|█████████████████████████████████████████| 100/100 [00:43<00:00,  2.29it/s]"
     ]
    },
    {
     "name": "stdout",
     "output_type": "stream",
     "text": [
      "\r",
      "[*********************100%***********************]  1 of 1 completed"
     ]
    },
    {
     "name": "stderr",
     "output_type": "stream",
     "text": [
      "\n"
     ]
    },
    {
     "name": "stdout",
     "output_type": "stream",
     "text": [
      "\n",
      "Ticker: APTV\n",
      "Rentabilidad: 60.68%\n",
      "\n",
      "[*********************100%***********************]  1 of 1 completed\n",
      "Entrenando para ARE...\n",
      "\n"
     ]
    },
    {
     "name": "stderr",
     "output_type": "stream",
     "text": [
      "100%|█████████████████████████████████████████| 100/100 [00:43<00:00,  2.30it/s]\n"
     ]
    },
    {
     "name": "stdout",
     "output_type": "stream",
     "text": [
      "[*********************100%***********************]  1 of 1 completed\n",
      "Ticker: ARE\n",
      "Rentabilidad: 11.77%\n",
      "\n",
      "[*********************100%***********************]  1 of 1 completed\n",
      "Entrenando para ATO...\n",
      "\n"
     ]
    },
    {
     "name": "stderr",
     "output_type": "stream",
     "text": [
      "100%|█████████████████████████████████████████| 100/100 [00:43<00:00,  2.31it/s]\n"
     ]
    },
    {
     "name": "stdout",
     "output_type": "stream",
     "text": [
      "[*********************100%***********************]  1 of 1 completed\n",
      "Ticker: ATO\n",
      "Rentabilidad: 37.42%\n",
      "\n",
      "[*********************100%***********************]  1 of 1 completed\n",
      "Entrenando para ATVI...\n",
      "\n"
     ]
    },
    {
     "name": "stderr",
     "output_type": "stream",
     "text": [
      "100%|█████████████████████████████████████████| 100/100 [00:43<00:00,  2.32it/s]"
     ]
    },
    {
     "name": "stdout",
     "output_type": "stream",
     "text": [
      "\r",
      "[*********************100%***********************]  1 of 1 completed"
     ]
    },
    {
     "name": "stderr",
     "output_type": "stream",
     "text": [
      "\n"
     ]
    },
    {
     "name": "stdout",
     "output_type": "stream",
     "text": [
      "\n",
      "Ticker: ATVI\n",
      "Rentabilidad: 67.86%\n",
      "\n",
      "[*********************100%***********************]  1 of 1 completed\n",
      "Entrenando para AVB...\n",
      "\n"
     ]
    },
    {
     "name": "stderr",
     "output_type": "stream",
     "text": [
      "100%|█████████████████████████████████████████| 100/100 [00:42<00:00,  2.33it/s]\n"
     ]
    },
    {
     "name": "stdout",
     "output_type": "stream",
     "text": [
      "[*********************100%***********************]  1 of 1 completed\n",
      "Ticker: AVB\n",
      "Rentabilidad: 4.17%\n",
      "\n",
      "[*********************100%***********************]  1 of 1 completed\n",
      "Entrenando para AVGO...\n",
      "\n"
     ]
    },
    {
     "name": "stderr",
     "output_type": "stream",
     "text": [
      "100%|█████████████████████████████████████████| 100/100 [00:43<00:00,  2.32it/s]"
     ]
    },
    {
     "name": "stdout",
     "output_type": "stream",
     "text": [
      "\r",
      "[*********************100%***********************]  1 of 1 completed"
     ]
    },
    {
     "name": "stderr",
     "output_type": "stream",
     "text": [
      "\n"
     ]
    },
    {
     "name": "stdout",
     "output_type": "stream",
     "text": [
      "\n",
      "Ticker: AVGO\n",
      "Rentabilidad: 16.76%\n",
      "\n",
      "[*********************100%***********************]  1 of 1 completed\n",
      "Entrenando para AVY...\n",
      "\n"
     ]
    },
    {
     "name": "stderr",
     "output_type": "stream",
     "text": [
      "100%|█████████████████████████████████████████| 100/100 [00:43<00:00,  2.32it/s]\n"
     ]
    },
    {
     "name": "stdout",
     "output_type": "stream",
     "text": [
      "[*********************100%***********************]  1 of 1 completed\n",
      "Ticker: AVY\n",
      "Rentabilidad: 50.76%\n",
      "\n",
      "[*********************100%***********************]  1 of 1 completed\n",
      "Entrenando para AWK...\n",
      "\n"
     ]
    },
    {
     "name": "stderr",
     "output_type": "stream",
     "text": [
      "100%|█████████████████████████████████████████| 100/100 [00:42<00:00,  2.33it/s]"
     ]
    },
    {
     "name": "stdout",
     "output_type": "stream",
     "text": [
      "\r",
      "[*********************100%***********************]  1 of 1 completed"
     ]
    },
    {
     "name": "stderr",
     "output_type": "stream",
     "text": [
      "\n"
     ]
    },
    {
     "name": "stdout",
     "output_type": "stream",
     "text": [
      "\n",
      "Ticker: AWK\n",
      "Rentabilidad: 45.43%\n",
      "\n",
      "[*********************100%***********************]  1 of 1 completed\n",
      "Entrenando para AXP...\n",
      "\n"
     ]
    },
    {
     "name": "stderr",
     "output_type": "stream",
     "text": [
      "100%|█████████████████████████████████████████| 100/100 [00:42<00:00,  2.33it/s]\n"
     ]
    },
    {
     "name": "stdout",
     "output_type": "stream",
     "text": [
      "[*********************100%***********************]  1 of 1 completed\n",
      "Ticker: AXP\n",
      "Rentabilidad: 32.86%\n",
      "\n",
      "[*********************100%***********************]  1 of 1 completed\n",
      "Entrenando para AZO...\n",
      "\n"
     ]
    },
    {
     "name": "stderr",
     "output_type": "stream",
     "text": [
      "100%|█████████████████████████████████████████| 100/100 [00:43<00:00,  2.32it/s]"
     ]
    },
    {
     "name": "stdout",
     "output_type": "stream",
     "text": [
      "\r",
      "[*********************100%***********************]  1 of 1 completed"
     ]
    },
    {
     "name": "stderr",
     "output_type": "stream",
     "text": [
      "\n"
     ]
    },
    {
     "name": "stdout",
     "output_type": "stream",
     "text": [
      "\n",
      "Ticker: AZO\n",
      "Rentabilidad: 13.85%\n",
      "\n",
      "[*********************100%***********************]  1 of 1 completed\n",
      "Entrenando para BA...\n",
      "\n"
     ]
    },
    {
     "name": "stderr",
     "output_type": "stream",
     "text": [
      "100%|█████████████████████████████████████████| 100/100 [00:43<00:00,  2.31it/s]\n"
     ]
    },
    {
     "name": "stdout",
     "output_type": "stream",
     "text": [
      "[*********************100%***********************]  1 of 1 completed\n",
      "Ticker: BA\n",
      "Rentabilidad: -76.81%\n",
      "\n",
      "[*********************100%***********************]  1 of 1 completed\n",
      "Entrenando para BAC...\n",
      "\n"
     ]
    },
    {
     "name": "stderr",
     "output_type": "stream",
     "text": [
      "100%|█████████████████████████████████████████| 100/100 [00:42<00:00,  2.34it/s]\n"
     ]
    },
    {
     "name": "stdout",
     "output_type": "stream",
     "text": [
      "[*********************100%***********************]  1 of 1 completed\n",
      "Ticker: BAC\n",
      "Rentabilidad: 22.57%\n",
      "\n",
      "[*********************100%***********************]  1 of 1 completed\n",
      "Entrenando para BALL...\n",
      "\n"
     ]
    },
    {
     "name": "stderr",
     "output_type": "stream",
     "text": [
      "100%|█████████████████████████████████████████| 100/100 [00:42<00:00,  2.34it/s]\n"
     ]
    },
    {
     "name": "stdout",
     "output_type": "stream",
     "text": [
      "[*********************100%***********************]  1 of 1 completed\n",
      "Ticker: BALL\n",
      "Rentabilidad: 23.76%\n",
      "\n",
      "[*********************100%***********************]  1 of 1 completed\n",
      "Entrenando para BAX...\n",
      "\n"
     ]
    },
    {
     "name": "stderr",
     "output_type": "stream",
     "text": [
      "100%|█████████████████████████████████████████| 100/100 [00:43<00:00,  2.32it/s]\n"
     ]
    },
    {
     "name": "stdout",
     "output_type": "stream",
     "text": [
      "[*********************100%***********************]  1 of 1 completed\n",
      "Ticker: BAX\n",
      "Rentabilidad: -55.07%\n",
      "\n",
      "[*********************100%***********************]  1 of 1 completed\n",
      "Entrenando para BBWI...\n",
      "\n"
     ]
    },
    {
     "name": "stderr",
     "output_type": "stream",
     "text": [
      "100%|█████████████████████████████████████████| 100/100 [00:42<00:00,  2.33it/s]\n"
     ]
    },
    {
     "name": "stdout",
     "output_type": "stream",
     "text": [
      "[*********************100%***********************]  1 of 1 completed\n",
      "Ticker: BBWI\n",
      "Rentabilidad: -75.56%\n",
      "\n",
      "[*********************100%***********************]  1 of 1 completed\n",
      "Entrenando para BBY...\n",
      "\n"
     ]
    },
    {
     "name": "stderr",
     "output_type": "stream",
     "text": [
      "100%|█████████████████████████████████████████| 100/100 [00:42<00:00,  2.33it/s]\n"
     ]
    },
    {
     "name": "stdout",
     "output_type": "stream",
     "text": [
      "[*********************100%***********************]  1 of 1 completed\n",
      "Ticker: BBY\n",
      "Rentabilidad: -56.6%\n",
      "\n",
      "[*********************100%***********************]  1 of 1 completed\n",
      "Entrenando para BDX...\n",
      "\n"
     ]
    },
    {
     "name": "stderr",
     "output_type": "stream",
     "text": [
      "100%|█████████████████████████████████████████| 100/100 [00:43<00:00,  2.32it/s]\n"
     ]
    },
    {
     "name": "stdout",
     "output_type": "stream",
     "text": [
      "[*********************100%***********************]  1 of 1 completed\n",
      "Ticker: BDX\n",
      "Rentabilidad: -69.24%\n",
      "\n",
      "[*********************100%***********************]  1 of 1 completed\n",
      "Entrenando para BEN...\n",
      "\n"
     ]
    },
    {
     "name": "stderr",
     "output_type": "stream",
     "text": [
      "100%|█████████████████████████████████████████| 100/100 [00:42<00:00,  2.33it/s]\n"
     ]
    },
    {
     "name": "stdout",
     "output_type": "stream",
     "text": [
      "[*********************100%***********************]  1 of 1 completed\n",
      "Ticker: BEN\n",
      "Rentabilidad: -65.06%\n",
      "\n",
      "[*********************100%***********************]  1 of 1 completed\n",
      "Entrenando para BF-B...\n",
      "\n"
     ]
    },
    {
     "name": "stderr",
     "output_type": "stream",
     "text": [
      "100%|█████████████████████████████████████████| 100/100 [00:42<00:00,  2.33it/s]\n"
     ]
    },
    {
     "name": "stdout",
     "output_type": "stream",
     "text": [
      "[*********************100%***********************]  1 of 1 completed\n",
      "Ticker: BF-B\n",
      "Rentabilidad: -5.9%\n",
      "\n",
      "[*********************100%***********************]  1 of 1 completed\n",
      "Entrenando para BIIB...\n",
      "\n"
     ]
    },
    {
     "name": "stderr",
     "output_type": "stream",
     "text": [
      "100%|█████████████████████████████████████████| 100/100 [00:42<00:00,  2.33it/s]"
     ]
    },
    {
     "name": "stdout",
     "output_type": "stream",
     "text": [
      "\r",
      "[*********************100%***********************]  1 of 1 completed"
     ]
    },
    {
     "name": "stderr",
     "output_type": "stream",
     "text": [
      "\n"
     ]
    },
    {
     "name": "stdout",
     "output_type": "stream",
     "text": [
      "\n",
      "Ticker: BIIB\n",
      "Rentabilidad: -29.52%\n",
      "\n",
      "[*********************100%***********************]  1 of 1 completed\n",
      "Entrenando para BIO...\n",
      "\n"
     ]
    },
    {
     "name": "stderr",
     "output_type": "stream",
     "text": [
      "100%|█████████████████████████████████████████| 100/100 [00:42<00:00,  2.33it/s]"
     ]
    },
    {
     "name": "stdout",
     "output_type": "stream",
     "text": [
      "\r",
      "[*********************100%***********************]  1 of 1 completed"
     ]
    },
    {
     "name": "stderr",
     "output_type": "stream",
     "text": [
      "\n"
     ]
    },
    {
     "name": "stdout",
     "output_type": "stream",
     "text": [
      "\n",
      "Ticker: BIO\n",
      "Rentabilidad: -63.23%\n",
      "\n",
      "[*********************100%***********************]  1 of 1 completed\n",
      "Entrenando para BK...\n",
      "\n"
     ]
    },
    {
     "name": "stderr",
     "output_type": "stream",
     "text": [
      "100%|█████████████████████████████████████████| 100/100 [00:42<00:00,  2.34it/s]\n"
     ]
    },
    {
     "name": "stdout",
     "output_type": "stream",
     "text": [
      "[*********************100%***********************]  1 of 1 completed\n",
      "Ticker: BK\n",
      "Rentabilidad: -21.96%\n",
      "\n",
      "[*********************100%***********************]  1 of 1 completed\n",
      "Entrenando para BKNG...\n",
      "\n"
     ]
    },
    {
     "name": "stderr",
     "output_type": "stream",
     "text": [
      "100%|█████████████████████████████████████████| 100/100 [00:43<00:00,  2.32it/s]"
     ]
    },
    {
     "name": "stdout",
     "output_type": "stream",
     "text": [
      "\r",
      "[*********************100%***********************]  1 of 1 completed"
     ]
    },
    {
     "name": "stderr",
     "output_type": "stream",
     "text": [
      "\n"
     ]
    },
    {
     "name": "stdout",
     "output_type": "stream",
     "text": [
      "\n",
      "Ticker: BKNG\n",
      "Rentabilidad: -48.82%\n",
      "\n",
      "[*********************100%***********************]  1 of 1 completed\n",
      "Entrenando para BKR...\n",
      "\n"
     ]
    },
    {
     "name": "stderr",
     "output_type": "stream",
     "text": [
      "100%|█████████████████████████████████████████| 100/100 [00:43<00:00,  2.29it/s]\n"
     ]
    },
    {
     "name": "stdout",
     "output_type": "stream",
     "text": [
      "[*********************100%***********************]  1 of 1 completed\n",
      "Ticker: BKR\n",
      "Rentabilidad: 234.1%\n",
      "\n",
      "[*********************100%***********************]  1 of 1 completed\n",
      "Entrenando para BLK...\n",
      "\n"
     ]
    },
    {
     "name": "stderr",
     "output_type": "stream",
     "text": [
      "100%|█████████████████████████████████████████| 100/100 [00:43<00:00,  2.27it/s]\n"
     ]
    },
    {
     "name": "stdout",
     "output_type": "stream",
     "text": [
      "[*********************100%***********************]  1 of 1 completed\n",
      "Ticker: BLK\n",
      "Rentabilidad: 5.61%\n",
      "\n",
      "[*********************100%***********************]  1 of 1 completed\n",
      "Entrenando para BMY...\n",
      "\n"
     ]
    },
    {
     "name": "stderr",
     "output_type": "stream",
     "text": [
      "100%|█████████████████████████████████████████| 100/100 [00:42<00:00,  2.34it/s]\n"
     ]
    },
    {
     "name": "stdout",
     "output_type": "stream",
     "text": [
      "[*********************100%***********************]  1 of 1 completed\n",
      "Ticker: BMY\n",
      "Rentabilidad: 62.59%\n",
      "\n",
      "[*********************100%***********************]  1 of 1 completed\n",
      "Entrenando para BR...\n",
      "\n"
     ]
    },
    {
     "name": "stderr",
     "output_type": "stream",
     "text": [
      "100%|█████████████████████████████████████████| 100/100 [00:42<00:00,  2.34it/s]\n"
     ]
    },
    {
     "name": "stdout",
     "output_type": "stream",
     "text": [
      "[*********************100%***********************]  1 of 1 completed\n",
      "Ticker: BR\n",
      "Rentabilidad: -18.31%\n",
      "\n",
      "[*********************100%***********************]  1 of 1 completed\n",
      "Entrenando para BRK-B...\n",
      "\n"
     ]
    },
    {
     "name": "stderr",
     "output_type": "stream",
     "text": [
      "100%|█████████████████████████████████████████| 100/100 [00:42<00:00,  2.33it/s]"
     ]
    },
    {
     "name": "stdout",
     "output_type": "stream",
     "text": [
      "\r",
      "[*********************100%***********************]  1 of 1 completed"
     ]
    },
    {
     "name": "stderr",
     "output_type": "stream",
     "text": [
      "\n"
     ]
    },
    {
     "name": "stdout",
     "output_type": "stream",
     "text": [
      "\n",
      "Ticker: BRK-B\n",
      "Rentabilidad: 66.51%\n",
      "\n",
      "[*********************100%***********************]  1 of 1 completed\n",
      "Entrenando para BRO...\n",
      "\n"
     ]
    },
    {
     "name": "stderr",
     "output_type": "stream",
     "text": [
      "100%|█████████████████████████████████████████| 100/100 [00:43<00:00,  2.29it/s]\n"
     ]
    },
    {
     "name": "stdout",
     "output_type": "stream",
     "text": [
      "[*********************100%***********************]  1 of 1 completed\n",
      "Ticker: BRO\n",
      "Rentabilidad: 148.6%\n",
      "\n",
      "[*********************100%***********************]  1 of 1 completed\n",
      "Entrenando para BSX...\n",
      "\n"
     ]
    },
    {
     "name": "stderr",
     "output_type": "stream",
     "text": [
      "100%|█████████████████████████████████████████| 100/100 [00:43<00:00,  2.31it/s]"
     ]
    },
    {
     "name": "stdout",
     "output_type": "stream",
     "text": [
      "\r",
      "[*********************100%***********************]  1 of 1 completed"
     ]
    },
    {
     "name": "stderr",
     "output_type": "stream",
     "text": [
      "\n"
     ]
    },
    {
     "name": "stdout",
     "output_type": "stream",
     "text": [
      "\n",
      "Ticker: BSX\n",
      "Rentabilidad: 13.24%\n",
      "\n",
      "[*********************100%***********************]  1 of 1 completed\n",
      "Entrenando para BWA...\n",
      "\n"
     ]
    },
    {
     "name": "stderr",
     "output_type": "stream",
     "text": [
      "100%|█████████████████████████████████████████| 100/100 [00:43<00:00,  2.32it/s]\n"
     ]
    },
    {
     "name": "stdout",
     "output_type": "stream",
     "text": [
      "[*********************100%***********************]  1 of 1 completed\n",
      "Ticker: BWA\n",
      "Rentabilidad: 18.02%\n",
      "\n",
      "[*********************100%***********************]  1 of 1 completed\n",
      "Entrenando para BXP...\n",
      "\n"
     ]
    },
    {
     "name": "stderr",
     "output_type": "stream",
     "text": [
      "100%|█████████████████████████████████████████| 100/100 [00:43<00:00,  2.27it/s]\n"
     ]
    },
    {
     "name": "stdout",
     "output_type": "stream",
     "text": [
      "[*********************100%***********************]  1 of 1 completed\n",
      "Ticker: BXP\n",
      "Rentabilidad: -16.38%\n",
      "\n",
      "[*********************100%***********************]  1 of 1 completed\n",
      "Entrenando para C...\n",
      "\n"
     ]
    },
    {
     "name": "stderr",
     "output_type": "stream",
     "text": [
      "100%|█████████████████████████████████████████| 100/100 [00:43<00:00,  2.29it/s]\n"
     ]
    },
    {
     "name": "stdout",
     "output_type": "stream",
     "text": [
      "[*********************100%***********************]  1 of 1 completed\n",
      "Ticker: C\n",
      "Rentabilidad: -11.66%\n",
      "\n",
      "[*********************100%***********************]  1 of 1 completed\n",
      "Entrenando para CAG...\n",
      "\n"
     ]
    },
    {
     "name": "stderr",
     "output_type": "stream",
     "text": [
      "100%|█████████████████████████████████████████| 100/100 [00:43<00:00,  2.28it/s]\n"
     ]
    },
    {
     "name": "stdout",
     "output_type": "stream",
     "text": [
      "[*********************100%***********************]  1 of 1 completed\n",
      "Ticker: CAG\n",
      "Rentabilidad: -45.29%\n",
      "\n",
      "[*********************100%***********************]  1 of 1 completed\n",
      "Entrenando para CAH...\n",
      "\n"
     ]
    },
    {
     "name": "stderr",
     "output_type": "stream",
     "text": [
      "100%|█████████████████████████████████████████| 100/100 [00:43<00:00,  2.30it/s]\n"
     ]
    },
    {
     "name": "stdout",
     "output_type": "stream",
     "text": [
      "[*********************100%***********************]  1 of 1 completed\n",
      "Ticker: CAH\n",
      "Rentabilidad: 71.06%\n",
      "\n",
      "[*********************100%***********************]  1 of 1 completed\n",
      "Entrenando para CAT...\n",
      "\n"
     ]
    },
    {
     "name": "stderr",
     "output_type": "stream",
     "text": [
      "100%|█████████████████████████████████████████| 100/100 [00:43<00:00,  2.28it/s]\n"
     ]
    },
    {
     "name": "stdout",
     "output_type": "stream",
     "text": [
      "[*********************100%***********************]  1 of 1 completed\n",
      "Ticker: CAT\n",
      "Rentabilidad: -40.4%\n",
      "\n",
      "[*********************100%***********************]  1 of 1 completed\n",
      "Entrenando para CB...\n",
      "\n"
     ]
    },
    {
     "name": "stderr",
     "output_type": "stream",
     "text": [
      "100%|█████████████████████████████████████████| 100/100 [00:43<00:00,  2.29it/s]\n"
     ]
    },
    {
     "name": "stdout",
     "output_type": "stream",
     "text": [
      "[*********************100%***********************]  1 of 1 completed\n",
      "Ticker: CB\n",
      "Rentabilidad: -48.99%\n",
      "\n",
      "[*********************100%***********************]  1 of 1 completed\n",
      "Entrenando para CBOE...\n",
      "\n"
     ]
    },
    {
     "name": "stderr",
     "output_type": "stream",
     "text": [
      "100%|█████████████████████████████████████████| 100/100 [00:43<00:00,  2.29it/s]\n"
     ]
    },
    {
     "name": "stdout",
     "output_type": "stream",
     "text": [
      "[*********************100%***********************]  1 of 1 completed\n",
      "Ticker: CBOE\n",
      "Rentabilidad: 14.06%\n",
      "\n",
      "[*********************100%***********************]  1 of 1 completed\n",
      "Entrenando para CBRE...\n",
      "\n"
     ]
    },
    {
     "name": "stderr",
     "output_type": "stream",
     "text": [
      "100%|█████████████████████████████████████████| 100/100 [00:43<00:00,  2.30it/s]"
     ]
    },
    {
     "name": "stdout",
     "output_type": "stream",
     "text": [
      "\r",
      "[*********************100%***********************]  1 of 1 completed"
     ]
    },
    {
     "name": "stderr",
     "output_type": "stream",
     "text": [
      "\n"
     ]
    },
    {
     "name": "stdout",
     "output_type": "stream",
     "text": [
      "\n",
      "Ticker: CBRE\n",
      "Rentabilidad: 99.5%\n",
      "\n",
      "[*********************100%***********************]  1 of 1 completed\n",
      "Entrenando para CCI...\n",
      "\n"
     ]
    },
    {
     "name": "stderr",
     "output_type": "stream",
     "text": [
      "100%|█████████████████████████████████████████| 100/100 [00:43<00:00,  2.29it/s]\n"
     ]
    },
    {
     "name": "stdout",
     "output_type": "stream",
     "text": [
      "[*********************100%***********************]  1 of 1 completed\n",
      "Ticker: CCI\n",
      "Rentabilidad: 47.38%\n",
      "\n",
      "[*********************100%***********************]  1 of 1 completed\n",
      "Entrenando para CCL...\n",
      "\n"
     ]
    },
    {
     "name": "stderr",
     "output_type": "stream",
     "text": [
      "100%|█████████████████████████████████████████| 100/100 [00:43<00:00,  2.29it/s]\n"
     ]
    },
    {
     "name": "stdout",
     "output_type": "stream",
     "text": [
      "[*********************100%***********************]  1 of 1 completed\n",
      "Ticker: CCL\n",
      "Rentabilidad: -77.0%\n",
      "\n",
      "[*********************100%***********************]  1 of 1 completed\n",
      "Entrenando para CDNS...\n",
      "\n"
     ]
    },
    {
     "name": "stderr",
     "output_type": "stream",
     "text": [
      "100%|█████████████████████████████████████████| 100/100 [00:43<00:00,  2.30it/s]"
     ]
    },
    {
     "name": "stdout",
     "output_type": "stream",
     "text": [
      "\r",
      "[*********************100%***********************]  1 of 1 completed"
     ]
    },
    {
     "name": "stderr",
     "output_type": "stream",
     "text": [
      "\n"
     ]
    },
    {
     "name": "stdout",
     "output_type": "stream",
     "text": [
      "\n",
      "Ticker: CDNS\n",
      "Rentabilidad: -70.67%\n",
      "\n",
      "[*********************100%***********************]  1 of 1 completed\n",
      "Entrenando para CE...\n",
      "\n"
     ]
    },
    {
     "name": "stderr",
     "output_type": "stream",
     "text": [
      "100%|█████████████████████████████████████████| 100/100 [00:43<00:00,  2.32it/s]\n"
     ]
    },
    {
     "name": "stdout",
     "output_type": "stream",
     "text": [
      "[*********************100%***********************]  1 of 1 completed\n",
      "Ticker: CE\n",
      "Rentabilidad: -0.43%\n",
      "\n",
      "[*********************100%***********************]  1 of 1 completed\n",
      "Entrenando para CF...\n",
      "\n"
     ]
    },
    {
     "name": "stderr",
     "output_type": "stream",
     "text": [
      "100%|█████████████████████████████████████████| 100/100 [00:43<00:00,  2.32it/s]\n"
     ]
    },
    {
     "name": "stdout",
     "output_type": "stream",
     "text": [
      "[*********************100%***********************]  1 of 1 completed\n",
      "Ticker: CF\n",
      "Rentabilidad: -60.14%\n",
      "\n",
      "[*********************100%***********************]  1 of 1 completed\n",
      "Entrenando para CHD...\n",
      "\n"
     ]
    },
    {
     "name": "stderr",
     "output_type": "stream",
     "text": [
      "100%|█████████████████████████████████████████| 100/100 [00:43<00:00,  2.28it/s]\n"
     ]
    },
    {
     "name": "stdout",
     "output_type": "stream",
     "text": [
      "[*********************100%***********************]  1 of 1 completed\n",
      "Ticker: CHD\n",
      "Rentabilidad: -6.68%\n",
      "\n",
      "[*********************100%***********************]  1 of 1 completed\n",
      "Entrenando para CHRW...\n",
      "\n"
     ]
    },
    {
     "name": "stderr",
     "output_type": "stream",
     "text": [
      "100%|█████████████████████████████████████████| 100/100 [00:44<00:00,  2.25it/s]\n"
     ]
    },
    {
     "name": "stdout",
     "output_type": "stream",
     "text": [
      "[*********************100%***********************]  1 of 1 completed\n",
      "Ticker: CHRW\n",
      "Rentabilidad: 70.55%\n",
      "\n",
      "[*********************100%***********************]  1 of 1 completed\n",
      "Entrenando para CHTR...\n",
      "\n"
     ]
    },
    {
     "name": "stderr",
     "output_type": "stream",
     "text": [
      "100%|█████████████████████████████████████████| 100/100 [00:43<00:00,  2.27it/s]"
     ]
    },
    {
     "name": "stdout",
     "output_type": "stream",
     "text": [
      "\r",
      "[*********************100%***********************]  1 of 1 completed"
     ]
    },
    {
     "name": "stderr",
     "output_type": "stream",
     "text": [
      "\n"
     ]
    },
    {
     "name": "stdout",
     "output_type": "stream",
     "text": [
      "\n",
      "Ticker: CHTR\n",
      "Rentabilidad: -60.78%\n",
      "\n",
      "[*********************100%***********************]  1 of 1 completed\n",
      "Entrenando para CI...\n",
      "\n"
     ]
    },
    {
     "name": "stderr",
     "output_type": "stream",
     "text": [
      "100%|█████████████████████████████████████████| 100/100 [00:44<00:00,  2.27it/s]\n"
     ]
    },
    {
     "name": "stdout",
     "output_type": "stream",
     "text": [
      "[*********************100%***********************]  1 of 1 completed\n",
      "Ticker: CI\n",
      "Rentabilidad: 59.02%\n",
      "\n",
      "[*********************100%***********************]  1 of 1 completed\n",
      "Entrenando para CINF...\n",
      "\n"
     ]
    },
    {
     "name": "stderr",
     "output_type": "stream",
     "text": [
      "100%|█████████████████████████████████████████| 100/100 [00:44<00:00,  2.27it/s]\n"
     ]
    },
    {
     "name": "stdout",
     "output_type": "stream",
     "text": [
      "[*********************100%***********************]  1 of 1 completed\n",
      "Ticker: CINF\n",
      "Rentabilidad: -32.9%\n",
      "\n",
      "[*********************100%***********************]  1 of 1 completed\n",
      "Entrenando para CL...\n",
      "\n"
     ]
    },
    {
     "name": "stderr",
     "output_type": "stream",
     "text": [
      "100%|█████████████████████████████████████████| 100/100 [00:44<00:00,  2.27it/s]\n"
     ]
    },
    {
     "name": "stdout",
     "output_type": "stream",
     "text": [
      "[*********************100%***********************]  1 of 1 completed\n",
      "Ticker: CL\n",
      "Rentabilidad: 30.78%\n",
      "\n",
      "[*********************100%***********************]  1 of 1 completed\n",
      "Entrenando para CLX...\n",
      "\n"
     ]
    },
    {
     "name": "stderr",
     "output_type": "stream",
     "text": [
      "100%|█████████████████████████████████████████| 100/100 [00:44<00:00,  2.27it/s]\n"
     ]
    },
    {
     "name": "stdout",
     "output_type": "stream",
     "text": [
      "[*********************100%***********************]  1 of 1 completed\n",
      "Ticker: CLX\n",
      "Rentabilidad: -49.71%\n",
      "\n",
      "[*********************100%***********************]  1 of 1 completed\n",
      "Entrenando para CMA...\n",
      "\n"
     ]
    },
    {
     "name": "stderr",
     "output_type": "stream",
     "text": [
      "100%|█████████████████████████████████████████| 100/100 [00:44<00:00,  2.27it/s]\n"
     ]
    },
    {
     "name": "stdout",
     "output_type": "stream",
     "text": [
      "[*********************100%***********************]  1 of 1 completed\n",
      "Ticker: CMA\n",
      "Rentabilidad: -1.46%\n",
      "\n",
      "[*********************100%***********************]  1 of 1 completed\n",
      "Entrenando para CMCSA...\n",
      "\n"
     ]
    },
    {
     "name": "stderr",
     "output_type": "stream",
     "text": [
      "100%|█████████████████████████████████████████| 100/100 [00:44<00:00,  2.27it/s]\n"
     ]
    },
    {
     "name": "stdout",
     "output_type": "stream",
     "text": [
      "[*********************100%***********************]  1 of 1 completed\n",
      "Ticker: CMCSA\n",
      "Rentabilidad: 32.78%\n",
      "\n",
      "[*********************100%***********************]  1 of 1 completed\n",
      "Entrenando para CME...\n",
      "\n"
     ]
    },
    {
     "name": "stderr",
     "output_type": "stream",
     "text": [
      "100%|█████████████████████████████████████████| 100/100 [00:43<00:00,  2.29it/s]\n"
     ]
    },
    {
     "name": "stdout",
     "output_type": "stream",
     "text": [
      "[*********************100%***********************]  1 of 1 completed\n",
      "Ticker: CME\n",
      "Rentabilidad: 0.3%\n",
      "\n",
      "[*********************100%***********************]  1 of 1 completed\n",
      "Entrenando para CMG...\n",
      "\n"
     ]
    },
    {
     "name": "stderr",
     "output_type": "stream",
     "text": [
      "100%|█████████████████████████████████████████| 100/100 [00:44<00:00,  2.27it/s]"
     ]
    },
    {
     "name": "stdout",
     "output_type": "stream",
     "text": [
      "\r",
      "[*********************100%***********************]  1 of 1 completed"
     ]
    },
    {
     "name": "stderr",
     "output_type": "stream",
     "text": [
      "\n"
     ]
    },
    {
     "name": "stdout",
     "output_type": "stream",
     "text": [
      "\n",
      "Ticker: CMG\n",
      "Rentabilidad: 121.72%\n",
      "\n",
      "[*********************100%***********************]  1 of 1 completed\n",
      "Entrenando para CMI...\n",
      "\n"
     ]
    },
    {
     "name": "stderr",
     "output_type": "stream",
     "text": [
      "100%|█████████████████████████████████████████| 100/100 [00:44<00:00,  2.26it/s]\n"
     ]
    },
    {
     "name": "stdout",
     "output_type": "stream",
     "text": [
      "[*********************100%***********************]  1 of 1 completed\n",
      "Ticker: CMI\n",
      "Rentabilidad: -29.14%\n",
      "\n",
      "[*********************100%***********************]  1 of 1 completed\n",
      "Entrenando para CMS...\n",
      "\n"
     ]
    },
    {
     "name": "stderr",
     "output_type": "stream",
     "text": [
      "100%|█████████████████████████████████████████| 100/100 [00:44<00:00,  2.27it/s]\n"
     ]
    },
    {
     "name": "stdout",
     "output_type": "stream",
     "text": [
      "[*********************100%***********************]  1 of 1 completed\n",
      "Ticker: CMS\n",
      "Rentabilidad: -21.33%\n",
      "\n",
      "[*********************100%***********************]  1 of 1 completed\n",
      "Entrenando para CNC...\n",
      "\n"
     ]
    },
    {
     "name": "stderr",
     "output_type": "stream",
     "text": [
      "100%|█████████████████████████████████████████| 100/100 [00:45<00:00,  2.22it/s]"
     ]
    },
    {
     "name": "stdout",
     "output_type": "stream",
     "text": [
      "\r",
      "[*********************100%***********************]  1 of 1 completed"
     ]
    },
    {
     "name": "stderr",
     "output_type": "stream",
     "text": [
      "\n"
     ]
    },
    {
     "name": "stdout",
     "output_type": "stream",
     "text": [
      "\n",
      "Ticker: CNC\n",
      "Rentabilidad: -62.06%\n",
      "\n",
      "[*********************100%***********************]  1 of 1 completed\n",
      "Entrenando para CNP...\n",
      "\n"
     ]
    },
    {
     "name": "stderr",
     "output_type": "stream",
     "text": [
      "100%|█████████████████████████████████████████| 100/100 [00:43<00:00,  2.28it/s]\n"
     ]
    },
    {
     "name": "stdout",
     "output_type": "stream",
     "text": [
      "[*********************100%***********************]  1 of 1 completed\n",
      "Ticker: CNP\n",
      "Rentabilidad: 36.3%\n",
      "\n",
      "[*********************100%***********************]  1 of 1 completed\n",
      "Entrenando para COF...\n",
      "\n"
     ]
    },
    {
     "name": "stderr",
     "output_type": "stream",
     "text": [
      "100%|█████████████████████████████████████████| 100/100 [00:43<00:00,  2.29it/s]\n"
     ]
    },
    {
     "name": "stdout",
     "output_type": "stream",
     "text": [
      "[*********************100%***********************]  1 of 1 completed\n",
      "Ticker: COF\n",
      "Rentabilidad: -1.24%\n",
      "\n",
      "[*********************100%***********************]  1 of 1 completed\n",
      "Entrenando para COO...\n",
      "\n"
     ]
    },
    {
     "name": "stderr",
     "output_type": "stream",
     "text": [
      "100%|█████████████████████████████████████████| 100/100 [00:43<00:00,  2.27it/s]\n"
     ]
    },
    {
     "name": "stdout",
     "output_type": "stream",
     "text": [
      "[*********************100%***********************]  1 of 1 completed\n",
      "Ticker: COO\n",
      "Rentabilidad: -29.33%\n",
      "\n",
      "[*********************100%***********************]  1 of 1 completed\n",
      "Entrenando para COP...\n",
      "\n"
     ]
    },
    {
     "name": "stderr",
     "output_type": "stream",
     "text": [
      "100%|█████████████████████████████████████████| 100/100 [00:44<00:00,  2.26it/s]\n"
     ]
    },
    {
     "name": "stdout",
     "output_type": "stream",
     "text": [
      "[*********************100%***********************]  1 of 1 completed\n",
      "Ticker: COP\n",
      "Rentabilidad: -65.36%\n",
      "\n",
      "[*********************100%***********************]  1 of 1 completed\n",
      "Entrenando para COST...\n",
      "\n"
     ]
    },
    {
     "name": "stderr",
     "output_type": "stream",
     "text": [
      "100%|█████████████████████████████████████████| 100/100 [00:43<00:00,  2.29it/s]\n"
     ]
    },
    {
     "name": "stdout",
     "output_type": "stream",
     "text": [
      "[*********************100%***********************]  1 of 1 completed\n",
      "Ticker: COST\n",
      "Rentabilidad: -7.39%\n",
      "\n",
      "[*********************100%***********************]  1 of 1 completed\n",
      "Entrenando para CPB...\n",
      "\n"
     ]
    },
    {
     "name": "stderr",
     "output_type": "stream",
     "text": [
      "100%|█████████████████████████████████████████| 100/100 [00:44<00:00,  2.27it/s]\n"
     ]
    },
    {
     "name": "stdout",
     "output_type": "stream",
     "text": [
      "[*********************100%***********************]  1 of 1 completed\n",
      "Ticker: CPB\n",
      "Rentabilidad: 8.61%\n",
      "\n",
      "[*********************100%***********************]  1 of 1 completed\n",
      "Entrenando para CPRT...\n",
      "\n"
     ]
    },
    {
     "name": "stderr",
     "output_type": "stream",
     "text": [
      "100%|█████████████████████████████████████████| 100/100 [00:44<00:00,  2.27it/s]"
     ]
    },
    {
     "name": "stdout",
     "output_type": "stream",
     "text": [
      "\r",
      "[*********************100%***********************]  1 of 1 completed"
     ]
    },
    {
     "name": "stderr",
     "output_type": "stream",
     "text": [
      "\n"
     ]
    },
    {
     "name": "stdout",
     "output_type": "stream",
     "text": [
      "\n",
      "Ticker: CPRT\n",
      "Rentabilidad: 76.75%\n",
      "\n",
      "[*********************100%***********************]  1 of 1 completed\n",
      "Entrenando para CPT...\n",
      "\n"
     ]
    },
    {
     "name": "stderr",
     "output_type": "stream",
     "text": [
      "100%|█████████████████████████████████████████| 100/100 [00:44<00:00,  2.24it/s]\n"
     ]
    },
    {
     "name": "stdout",
     "output_type": "stream",
     "text": [
      "[*********************100%***********************]  1 of 1 completed\n",
      "Ticker: CPT\n",
      "Rentabilidad: 66.25%\n",
      "\n",
      "[*********************100%***********************]  1 of 1 completed\n",
      "Entrenando para CRL...\n",
      "\n"
     ]
    },
    {
     "name": "stderr",
     "output_type": "stream",
     "text": [
      "100%|█████████████████████████████████████████| 100/100 [00:43<00:00,  2.28it/s]"
     ]
    },
    {
     "name": "stdout",
     "output_type": "stream",
     "text": [
      "\r",
      "[*********************100%***********************]  1 of 1 completed"
     ]
    },
    {
     "name": "stderr",
     "output_type": "stream",
     "text": [
      "\n"
     ]
    },
    {
     "name": "stdout",
     "output_type": "stream",
     "text": [
      "\n",
      "Ticker: CRL\n",
      "Rentabilidad: 29.99%\n",
      "\n",
      "[*********************100%***********************]  1 of 1 completed\n",
      "Entrenando para CRM...\n",
      "\n"
     ]
    },
    {
     "name": "stderr",
     "output_type": "stream",
     "text": [
      "100%|█████████████████████████████████████████| 100/100 [00:44<00:00,  2.25it/s]"
     ]
    },
    {
     "name": "stdout",
     "output_type": "stream",
     "text": [
      "\r",
      "[*********************100%***********************]  1 of 1 completed"
     ]
    },
    {
     "name": "stderr",
     "output_type": "stream",
     "text": [
      "\n"
     ]
    },
    {
     "name": "stdout",
     "output_type": "stream",
     "text": [
      "\n",
      "Ticker: CRM\n",
      "Rentabilidad: -12.24%\n",
      "\n",
      "[*********************100%***********************]  1 of 1 completed\n",
      "Entrenando para CSCO...\n",
      "\n"
     ]
    },
    {
     "name": "stderr",
     "output_type": "stream",
     "text": [
      "100%|█████████████████████████████████████████| 100/100 [00:43<00:00,  2.28it/s]"
     ]
    },
    {
     "name": "stdout",
     "output_type": "stream",
     "text": [
      "\r",
      "[*********************100%***********************]  1 of 1 completed"
     ]
    },
    {
     "name": "stderr",
     "output_type": "stream",
     "text": [
      "\n"
     ]
    },
    {
     "name": "stdout",
     "output_type": "stream",
     "text": [
      "\n",
      "Ticker: CSCO\n",
      "Rentabilidad: -56.3%\n",
      "\n",
      "[*********************100%***********************]  1 of 1 completed\n",
      "Entrenando para CSGP...\n",
      "\n"
     ]
    },
    {
     "name": "stderr",
     "output_type": "stream",
     "text": [
      "100%|█████████████████████████████████████████| 100/100 [00:45<00:00,  2.21it/s]"
     ]
    },
    {
     "name": "stdout",
     "output_type": "stream",
     "text": [
      "\r",
      "[*********************100%***********************]  1 of 1 completed"
     ]
    },
    {
     "name": "stderr",
     "output_type": "stream",
     "text": [
      "\n"
     ]
    },
    {
     "name": "stdout",
     "output_type": "stream",
     "text": [
      "\n",
      "Ticker: CSGP\n",
      "Rentabilidad: -39.89%\n",
      "\n",
      "[*********************100%***********************]  1 of 1 completed\n",
      "Entrenando para CSX...\n",
      "\n"
     ]
    },
    {
     "name": "stderr",
     "output_type": "stream",
     "text": [
      "100%|█████████████████████████████████████████| 100/100 [00:48<00:00,  2.08it/s]\n"
     ]
    },
    {
     "name": "stdout",
     "output_type": "stream",
     "text": [
      "[*********************100%***********************]  1 of 1 completed\n",
      "Ticker: CSX\n",
      "Rentabilidad: -43.11%\n",
      "\n",
      "[*********************100%***********************]  1 of 1 completed\n",
      "Entrenando para CTAS...\n",
      "\n"
     ]
    },
    {
     "name": "stderr",
     "output_type": "stream",
     "text": [
      "100%|█████████████████████████████████████████| 100/100 [00:47<00:00,  2.09it/s]\n"
     ]
    },
    {
     "name": "stdout",
     "output_type": "stream",
     "text": [
      "[*********************100%***********************]  1 of 1 completed\n",
      "Ticker: CTAS\n",
      "Rentabilidad: 29.3%\n",
      "\n",
      "[*********************100%***********************]  1 of 1 completed\n",
      "Entrenando para CTRA...\n",
      "\n"
     ]
    },
    {
     "name": "stderr",
     "output_type": "stream",
     "text": [
      "100%|█████████████████████████████████████████| 100/100 [00:44<00:00,  2.26it/s]\n"
     ]
    },
    {
     "name": "stdout",
     "output_type": "stream",
     "text": [
      "[*********************100%***********************]  1 of 1 completed\n",
      "Ticker: CTRA\n",
      "Rentabilidad: 137.54%\n",
      "\n",
      "[*********************100%***********************]  1 of 1 completed\n",
      "Entrenando para CTSH...\n",
      "\n"
     ]
    },
    {
     "name": "stderr",
     "output_type": "stream",
     "text": [
      "100%|█████████████████████████████████████████| 100/100 [00:44<00:00,  2.25it/s]\n"
     ]
    },
    {
     "name": "stdout",
     "output_type": "stream",
     "text": [
      "[*********************100%***********************]  1 of 1 completed\n",
      "Ticker: CTSH\n",
      "Rentabilidad: 90.41%\n",
      "\n",
      "[*********************100%***********************]  1 of 1 completed\n",
      "Entrenando para CVS...\n",
      "\n"
     ]
    },
    {
     "name": "stderr",
     "output_type": "stream",
     "text": [
      "100%|█████████████████████████████████████████| 100/100 [00:44<00:00,  2.26it/s]"
     ]
    },
    {
     "name": "stdout",
     "output_type": "stream",
     "text": [
      "\r",
      "[*********************100%***********************]  1 of 1 completed"
     ]
    },
    {
     "name": "stderr",
     "output_type": "stream",
     "text": [
      "\n"
     ]
    },
    {
     "name": "stdout",
     "output_type": "stream",
     "text": [
      "\n",
      "Ticker: CVS\n",
      "Rentabilidad: 155.24%\n",
      "\n",
      "[*********************100%***********************]  1 of 1 completed\n",
      "Entrenando para CVX...\n",
      "\n"
     ]
    },
    {
     "name": "stderr",
     "output_type": "stream",
     "text": [
      "100%|█████████████████████████████████████████| 100/100 [00:46<00:00,  2.15it/s]\n"
     ]
    },
    {
     "name": "stdout",
     "output_type": "stream",
     "text": [
      "[*********************100%***********************]  1 of 1 completed\n",
      "Ticker: CVX\n",
      "Rentabilidad: 66.72%\n",
      "\n",
      "[*********************100%***********************]  1 of 1 completed\n",
      "Entrenando para D...\n",
      "\n"
     ]
    },
    {
     "name": "stderr",
     "output_type": "stream",
     "text": [
      "100%|█████████████████████████████████████████| 100/100 [00:44<00:00,  2.25it/s]\n"
     ]
    },
    {
     "name": "stdout",
     "output_type": "stream",
     "text": [
      "[*********************100%***********************]  1 of 1 completed\n",
      "Ticker: D\n",
      "Rentabilidad: 10.05%\n",
      "\n",
      "[*********************100%***********************]  1 of 1 completed\n",
      "Entrenando para DAL...\n",
      "\n"
     ]
    },
    {
     "name": "stderr",
     "output_type": "stream",
     "text": [
      "100%|█████████████████████████████████████████| 100/100 [00:44<00:00,  2.24it/s]\n"
     ]
    },
    {
     "name": "stdout",
     "output_type": "stream",
     "text": [
      "[*********************100%***********************]  1 of 1 completed\n",
      "Ticker: DAL\n",
      "Rentabilidad: -27.31%\n",
      "\n",
      "[*********************100%***********************]  1 of 1 completed\n",
      "Entrenando para DD...\n",
      "\n"
     ]
    },
    {
     "name": "stderr",
     "output_type": "stream",
     "text": [
      "100%|█████████████████████████████████████████| 100/100 [00:44<00:00,  2.26it/s]\n"
     ]
    },
    {
     "name": "stdout",
     "output_type": "stream",
     "text": [
      "[*********************100%***********************]  1 of 1 completed\n",
      "Ticker: DD\n",
      "Rentabilidad: -45.58%\n",
      "\n",
      "[*********************100%***********************]  1 of 1 completed\n",
      "Entrenando para DE...\n",
      "\n"
     ]
    },
    {
     "name": "stderr",
     "output_type": "stream",
     "text": [
      "100%|█████████████████████████████████████████| 100/100 [00:44<00:00,  2.27it/s]\n"
     ]
    },
    {
     "name": "stdout",
     "output_type": "stream",
     "text": [
      "[*********************100%***********************]  1 of 1 completed\n",
      "Ticker: DE\n",
      "Rentabilidad: -80.53%\n",
      "\n",
      "[*********************100%***********************]  1 of 1 completed\n",
      "Entrenando para DFS...\n",
      "\n"
     ]
    },
    {
     "name": "stderr",
     "output_type": "stream",
     "text": [
      "100%|█████████████████████████████████████████| 100/100 [00:44<00:00,  2.26it/s]\n"
     ]
    },
    {
     "name": "stdout",
     "output_type": "stream",
     "text": [
      "[*********************100%***********************]  1 of 1 completed\n",
      "Ticker: DFS\n",
      "Rentabilidad: 33.06%\n",
      "\n",
      "[*********************100%***********************]  1 of 1 completed\n",
      "Entrenando para DG...\n",
      "\n"
     ]
    },
    {
     "name": "stderr",
     "output_type": "stream",
     "text": [
      "100%|█████████████████████████████████████████| 100/100 [00:44<00:00,  2.26it/s]\n"
     ]
    },
    {
     "name": "stdout",
     "output_type": "stream",
     "text": [
      "[*********************100%***********************]  1 of 1 completed\n",
      "Ticker: DG\n",
      "Rentabilidad: -7.8%\n",
      "\n",
      "[*********************100%***********************]  1 of 1 completed\n",
      "Entrenando para DGX...\n",
      "\n"
     ]
    },
    {
     "name": "stderr",
     "output_type": "stream",
     "text": [
      "100%|█████████████████████████████████████████| 100/100 [00:44<00:00,  2.26it/s]\n"
     ]
    },
    {
     "name": "stdout",
     "output_type": "stream",
     "text": [
      "[*********************100%***********************]  1 of 1 completed\n",
      "Ticker: DGX\n",
      "Rentabilidad: 243.45%\n",
      "\n",
      "[*********************100%***********************]  1 of 1 completed\n",
      "Entrenando para DHI...\n",
      "\n"
     ]
    },
    {
     "name": "stderr",
     "output_type": "stream",
     "text": [
      "100%|█████████████████████████████████████████| 100/100 [00:43<00:00,  2.28it/s]\n"
     ]
    },
    {
     "name": "stdout",
     "output_type": "stream",
     "text": [
      "[*********************100%***********************]  1 of 1 completed\n",
      "Ticker: DHI\n",
      "Rentabilidad: 36.56%\n",
      "\n",
      "[*********************100%***********************]  1 of 1 completed\n",
      "Entrenando para DHR...\n",
      "\n"
     ]
    },
    {
     "name": "stderr",
     "output_type": "stream",
     "text": [
      "100%|█████████████████████████████████████████| 100/100 [00:44<00:00,  2.27it/s]"
     ]
    },
    {
     "name": "stdout",
     "output_type": "stream",
     "text": [
      "\r",
      "[*********************100%***********************]  1 of 1 completed"
     ]
    },
    {
     "name": "stderr",
     "output_type": "stream",
     "text": [
      "\n"
     ]
    },
    {
     "name": "stdout",
     "output_type": "stream",
     "text": [
      "\n",
      "Ticker: DHR\n",
      "Rentabilidad: 96.86%\n",
      "\n",
      "[*********************100%***********************]  1 of 1 completed\n",
      "Entrenando para DIS...\n",
      "\n"
     ]
    },
    {
     "name": "stderr",
     "output_type": "stream",
     "text": [
      "100%|█████████████████████████████████████████| 100/100 [00:44<00:00,  2.26it/s]\n"
     ]
    },
    {
     "name": "stdout",
     "output_type": "stream",
     "text": [
      "[*********************100%***********************]  1 of 1 completed\n",
      "Ticker: DIS\n",
      "Rentabilidad: -31.77%\n",
      "\n",
      "[*********************100%***********************]  1 of 1 completed\n",
      "Entrenando para DISH...\n",
      "\n"
     ]
    },
    {
     "name": "stderr",
     "output_type": "stream",
     "text": [
      "100%|█████████████████████████████████████████| 100/100 [00:44<00:00,  2.27it/s]"
     ]
    },
    {
     "name": "stdout",
     "output_type": "stream",
     "text": [
      "\r",
      "[*********************100%***********************]  1 of 1 completed"
     ]
    },
    {
     "name": "stderr",
     "output_type": "stream",
     "text": [
      "\n"
     ]
    },
    {
     "name": "stdout",
     "output_type": "stream",
     "text": [
      "\n",
      "Ticker: DISH\n",
      "Rentabilidad: -78.71%\n",
      "\n",
      "[*********************100%***********************]  1 of 1 completed\n",
      "Entrenando para DLR...\n",
      "\n"
     ]
    },
    {
     "name": "stderr",
     "output_type": "stream",
     "text": [
      "100%|█████████████████████████████████████████| 100/100 [00:44<00:00,  2.27it/s]\n"
     ]
    },
    {
     "name": "stdout",
     "output_type": "stream",
     "text": [
      "[*********************100%***********************]  1 of 1 completed\n",
      "Ticker: DLR\n",
      "Rentabilidad: 54.74%\n",
      "\n",
      "[*********************100%***********************]  1 of 1 completed\n",
      "Entrenando para DLTR...\n",
      "\n"
     ]
    },
    {
     "name": "stderr",
     "output_type": "stream",
     "text": [
      "100%|█████████████████████████████████████████| 100/100 [00:43<00:00,  2.30it/s]"
     ]
    },
    {
     "name": "stdout",
     "output_type": "stream",
     "text": [
      "\r",
      "[*********************100%***********************]  1 of 1 completed"
     ]
    },
    {
     "name": "stderr",
     "output_type": "stream",
     "text": [
      "\n"
     ]
    },
    {
     "name": "stdout",
     "output_type": "stream",
     "text": [
      "\n",
      "Ticker: DLTR\n",
      "Rentabilidad: -44.78%\n",
      "\n",
      "[*********************100%***********************]  1 of 1 completed\n",
      "Entrenando para DOV...\n",
      "\n"
     ]
    },
    {
     "name": "stderr",
     "output_type": "stream",
     "text": [
      "100%|█████████████████████████████████████████| 100/100 [00:44<00:00,  2.27it/s]\n"
     ]
    },
    {
     "name": "stdout",
     "output_type": "stream",
     "text": [
      "[*********************100%***********************]  1 of 1 completed\n",
      "Ticker: DOV\n",
      "Rentabilidad: 176.77%\n",
      "\n",
      "[*********************100%***********************]  1 of 1 completed\n",
      "Entrenando para DPZ...\n",
      "\n"
     ]
    },
    {
     "name": "stderr",
     "output_type": "stream",
     "text": [
      "100%|█████████████████████████████████████████| 100/100 [00:44<00:00,  2.26it/s]\n"
     ]
    },
    {
     "name": "stdout",
     "output_type": "stream",
     "text": [
      "[*********************100%***********************]  1 of 1 completed\n",
      "Ticker: DPZ\n",
      "Rentabilidad: -43.79%\n",
      "\n",
      "[*********************100%***********************]  1 of 1 completed\n",
      "Entrenando para DRI...\n",
      "\n"
     ]
    },
    {
     "name": "stderr",
     "output_type": "stream",
     "text": [
      "100%|█████████████████████████████████████████| 100/100 [00:44<00:00,  2.26it/s]\n"
     ]
    },
    {
     "name": "stdout",
     "output_type": "stream",
     "text": [
      "[*********************100%***********************]  1 of 1 completed\n",
      "Ticker: DRI\n",
      "Rentabilidad: -48.29%\n",
      "\n",
      "[*********************100%***********************]  1 of 1 completed\n",
      "Entrenando para DTE...\n",
      "\n"
     ]
    },
    {
     "name": "stderr",
     "output_type": "stream",
     "text": [
      "100%|█████████████████████████████████████████| 100/100 [00:44<00:00,  2.27it/s]\n"
     ]
    },
    {
     "name": "stdout",
     "output_type": "stream",
     "text": [
      "[*********************100%***********************]  1 of 1 completed\n",
      "Ticker: DTE\n",
      "Rentabilidad: -33.18%\n",
      "\n",
      "[*********************100%***********************]  1 of 1 completed\n",
      "Entrenando para DUK...\n",
      "\n"
     ]
    },
    {
     "name": "stderr",
     "output_type": "stream",
     "text": [
      "100%|█████████████████████████████████████████| 100/100 [00:44<00:00,  2.27it/s]\n"
     ]
    },
    {
     "name": "stdout",
     "output_type": "stream",
     "text": [
      "[*********************100%***********************]  1 of 1 completed\n",
      "Ticker: DUK\n",
      "Rentabilidad: -27.62%\n",
      "\n",
      "[*********************100%***********************]  1 of 1 completed\n",
      "Entrenando para DVA...\n",
      "\n"
     ]
    },
    {
     "name": "stderr",
     "output_type": "stream",
     "text": [
      "100%|█████████████████████████████████████████| 100/100 [00:43<00:00,  2.27it/s]"
     ]
    },
    {
     "name": "stdout",
     "output_type": "stream",
     "text": [
      "\r",
      "[*********************100%***********************]  1 of 1 completed"
     ]
    },
    {
     "name": "stderr",
     "output_type": "stream",
     "text": [
      "\n"
     ]
    },
    {
     "name": "stdout",
     "output_type": "stream",
     "text": [
      "\n",
      "Ticker: DVA\n",
      "Rentabilidad: -74.49%\n",
      "\n",
      "[*********************100%***********************]  1 of 1 completed\n",
      "Entrenando para DVN...\n",
      "\n"
     ]
    },
    {
     "name": "stderr",
     "output_type": "stream",
     "text": [
      "100%|█████████████████████████████████████████| 100/100 [00:44<00:00,  2.26it/s]\n"
     ]
    },
    {
     "name": "stdout",
     "output_type": "stream",
     "text": [
      "[*********************100%***********************]  1 of 1 completed\n",
      "Ticker: DVN\n",
      "Rentabilidad: -51.23%\n",
      "\n",
      "[*********************100%***********************]  1 of 1 completed\n",
      "Entrenando para DXC...\n",
      "\n"
     ]
    },
    {
     "name": "stderr",
     "output_type": "stream",
     "text": [
      "100%|█████████████████████████████████████████| 100/100 [00:44<00:00,  2.25it/s]\n"
     ]
    },
    {
     "name": "stdout",
     "output_type": "stream",
     "text": [
      "[*********************100%***********************]  1 of 1 completed\n",
      "Ticker: DXC\n",
      "Rentabilidad: -51.85%\n",
      "\n",
      "[*********************100%***********************]  1 of 1 completed\n",
      "Entrenando para DXCM...\n",
      "\n"
     ]
    },
    {
     "name": "stderr",
     "output_type": "stream",
     "text": [
      "100%|█████████████████████████████████████████| 100/100 [00:43<00:00,  2.30it/s]\n"
     ]
    },
    {
     "name": "stdout",
     "output_type": "stream",
     "text": [
      "[*********************100%***********************]  1 of 1 completed\n",
      "Ticker: DXCM\n",
      "Rentabilidad: -22.77%\n",
      "\n",
      "[*********************100%***********************]  1 of 1 completed\n",
      "Entrenando para EA...\n",
      "\n"
     ]
    },
    {
     "name": "stderr",
     "output_type": "stream",
     "text": [
      "100%|█████████████████████████████████████████| 100/100 [00:43<00:00,  2.30it/s]"
     ]
    },
    {
     "name": "stdout",
     "output_type": "stream",
     "text": [
      "\r",
      "[*********************100%***********************]  1 of 1 completed"
     ]
    },
    {
     "name": "stderr",
     "output_type": "stream",
     "text": [
      "\n"
     ]
    },
    {
     "name": "stdout",
     "output_type": "stream",
     "text": [
      "\n",
      "Ticker: EA\n",
      "Rentabilidad: -5.15%\n",
      "\n",
      "[*********************100%***********************]  1 of 1 completed\n",
      "Entrenando para EBAY...\n",
      "\n"
     ]
    },
    {
     "name": "stderr",
     "output_type": "stream",
     "text": [
      "100%|█████████████████████████████████████████| 100/100 [00:43<00:00,  2.30it/s]"
     ]
    },
    {
     "name": "stdout",
     "output_type": "stream",
     "text": [
      "\r",
      "[*********************100%***********************]  1 of 1 completed"
     ]
    },
    {
     "name": "stderr",
     "output_type": "stream",
     "text": [
      "\n"
     ]
    },
    {
     "name": "stdout",
     "output_type": "stream",
     "text": [
      "\n",
      "Ticker: EBAY\n",
      "Rentabilidad: -14.4%\n",
      "\n",
      "[*********************100%***********************]  1 of 1 completed\n",
      "Entrenando para ECL...\n",
      "\n"
     ]
    },
    {
     "name": "stderr",
     "output_type": "stream",
     "text": [
      "100%|█████████████████████████████████████████| 100/100 [00:43<00:00,  2.30it/s]\n"
     ]
    },
    {
     "name": "stdout",
     "output_type": "stream",
     "text": [
      "[*********************100%***********************]  1 of 1 completed\n",
      "Ticker: ECL\n",
      "Rentabilidad: -22.66%\n",
      "\n",
      "[*********************100%***********************]  1 of 1 completed\n",
      "Entrenando para ED...\n",
      "\n"
     ]
    },
    {
     "name": "stderr",
     "output_type": "stream",
     "text": [
      "100%|█████████████████████████████████████████| 100/100 [00:43<00:00,  2.29it/s]\n"
     ]
    },
    {
     "name": "stdout",
     "output_type": "stream",
     "text": [
      "[*********************100%***********************]  1 of 1 completed\n",
      "Ticker: ED\n",
      "Rentabilidad: -30.92%\n",
      "\n",
      "[*********************100%***********************]  1 of 1 completed\n",
      "Entrenando para EFX...\n",
      "\n"
     ]
    },
    {
     "name": "stderr",
     "output_type": "stream",
     "text": [
      "100%|█████████████████████████████████████████| 100/100 [00:43<00:00,  2.28it/s]\n"
     ]
    },
    {
     "name": "stdout",
     "output_type": "stream",
     "text": [
      "[*********************100%***********************]  1 of 1 completed\n",
      "Ticker: EFX\n",
      "Rentabilidad: 221.22%\n",
      "\n",
      "[*********************100%***********************]  1 of 1 completed\n",
      "Entrenando para EIX...\n",
      "\n"
     ]
    },
    {
     "name": "stderr",
     "output_type": "stream",
     "text": [
      "100%|█████████████████████████████████████████| 100/100 [00:43<00:00,  2.28it/s]\n"
     ]
    },
    {
     "name": "stdout",
     "output_type": "stream",
     "text": [
      "[*********************100%***********************]  1 of 1 completed\n",
      "Ticker: EIX\n",
      "Rentabilidad: -27.58%\n",
      "\n",
      "[*********************100%***********************]  1 of 1 completed\n",
      "Entrenando para EL...\n",
      "\n"
     ]
    },
    {
     "name": "stderr",
     "output_type": "stream",
     "text": [
      "100%|█████████████████████████████████████████| 100/100 [00:44<00:00,  2.26it/s]\n"
     ]
    },
    {
     "name": "stdout",
     "output_type": "stream",
     "text": [
      "[*********************100%***********************]  1 of 1 completed\n",
      "Ticker: EL\n",
      "Rentabilidad: -35.91%\n",
      "\n",
      "[*********************100%***********************]  1 of 1 completed\n",
      "Entrenando para ELV...\n",
      "\n"
     ]
    },
    {
     "name": "stderr",
     "output_type": "stream",
     "text": [
      "100%|█████████████████████████████████████████| 100/100 [00:44<00:00,  2.26it/s]"
     ]
    },
    {
     "name": "stdout",
     "output_type": "stream",
     "text": [
      "\r",
      "[*********************100%***********************]  1 of 1 completed"
     ]
    },
    {
     "name": "stderr",
     "output_type": "stream",
     "text": [
      "\n"
     ]
    },
    {
     "name": "stdout",
     "output_type": "stream",
     "text": [
      "\n",
      "Ticker: ELV\n",
      "Rentabilidad: 10.88%\n",
      "\n",
      "[*********************100%***********************]  1 of 1 completed\n",
      "Entrenando para EMN...\n",
      "\n"
     ]
    },
    {
     "name": "stderr",
     "output_type": "stream",
     "text": [
      "100%|█████████████████████████████████████████| 100/100 [00:44<00:00,  2.25it/s]\n"
     ]
    },
    {
     "name": "stdout",
     "output_type": "stream",
     "text": [
      "[*********************100%***********************]  1 of 1 completed\n",
      "Ticker: EMN\n",
      "Rentabilidad: -32.01%\n",
      "\n",
      "[*********************100%***********************]  1 of 1 completed\n",
      "Entrenando para EMR...\n",
      "\n"
     ]
    },
    {
     "name": "stderr",
     "output_type": "stream",
     "text": [
      "100%|█████████████████████████████████████████| 100/100 [00:44<00:00,  2.25it/s]\n"
     ]
    },
    {
     "name": "stdout",
     "output_type": "stream",
     "text": [
      "[*********************100%***********************]  1 of 1 completed\n",
      "Ticker: EMR\n",
      "Rentabilidad: 121.32%\n",
      "\n",
      "[*********************100%***********************]  1 of 1 completed\n",
      "Entrenando para EOG...\n",
      "\n"
     ]
    },
    {
     "name": "stderr",
     "output_type": "stream",
     "text": [
      "100%|█████████████████████████████████████████| 100/100 [00:43<00:00,  2.28it/s]\n"
     ]
    },
    {
     "name": "stdout",
     "output_type": "stream",
     "text": [
      "[*********************100%***********************]  1 of 1 completed\n",
      "Ticker: EOG\n",
      "Rentabilidad: 142.43%\n",
      "\n",
      "[*********************100%***********************]  1 of 1 completed\n",
      "Entrenando para EQIX...\n",
      "\n"
     ]
    },
    {
     "name": "stderr",
     "output_type": "stream",
     "text": [
      "100%|█████████████████████████████████████████| 100/100 [00:44<00:00,  2.26it/s]"
     ]
    },
    {
     "name": "stdout",
     "output_type": "stream",
     "text": [
      "\r",
      "[*********************100%***********************]  1 of 1 completed"
     ]
    },
    {
     "name": "stderr",
     "output_type": "stream",
     "text": [
      "\n"
     ]
    },
    {
     "name": "stdout",
     "output_type": "stream",
     "text": [
      "\n",
      "Ticker: EQIX\n",
      "Rentabilidad: 175.12%\n",
      "\n",
      "[*********************100%***********************]  1 of 1 completed\n",
      "Entrenando para EQR...\n",
      "\n"
     ]
    },
    {
     "name": "stderr",
     "output_type": "stream",
     "text": [
      "100%|█████████████████████████████████████████| 100/100 [00:44<00:00,  2.27it/s]\n"
     ]
    },
    {
     "name": "stdout",
     "output_type": "stream",
     "text": [
      "[*********************100%***********************]  1 of 1 completed\n",
      "Ticker: EQR\n",
      "Rentabilidad: -37.54%\n",
      "\n",
      "[*********************100%***********************]  1 of 1 completed\n",
      "Entrenando para EQT...\n",
      "\n"
     ]
    },
    {
     "name": "stderr",
     "output_type": "stream",
     "text": [
      "100%|█████████████████████████████████████████| 100/100 [00:44<00:00,  2.25it/s]"
     ]
    },
    {
     "name": "stdout",
     "output_type": "stream",
     "text": [
      "\r",
      "[*********************100%***********************]  1 of 1 completed"
     ]
    },
    {
     "name": "stderr",
     "output_type": "stream",
     "text": [
      "\n"
     ]
    },
    {
     "name": "stdout",
     "output_type": "stream",
     "text": [
      "\n",
      "Ticker: EQT\n",
      "Rentabilidad: -76.19%\n",
      "\n",
      "[*********************100%***********************]  1 of 1 completed\n",
      "Entrenando para ES...\n",
      "\n"
     ]
    },
    {
     "name": "stderr",
     "output_type": "stream",
     "text": [
      "100%|█████████████████████████████████████████| 100/100 [00:44<00:00,  2.25it/s]\n"
     ]
    },
    {
     "name": "stdout",
     "output_type": "stream",
     "text": [
      "[*********************100%***********************]  1 of 1 completed\n",
      "Ticker: ES\n",
      "Rentabilidad: -14.53%\n",
      "\n",
      "[*********************100%***********************]  1 of 1 completed\n",
      "Entrenando para ESS...\n",
      "\n"
     ]
    },
    {
     "name": "stderr",
     "output_type": "stream",
     "text": [
      "100%|█████████████████████████████████████████| 100/100 [00:44<00:00,  2.27it/s]\n"
     ]
    },
    {
     "name": "stdout",
     "output_type": "stream",
     "text": [
      "[*********************100%***********************]  1 of 1 completed\n",
      "Ticker: ESS\n",
      "Rentabilidad: -16.25%\n",
      "\n",
      "[*********************100%***********************]  1 of 1 completed\n",
      "Entrenando para ETN...\n",
      "\n"
     ]
    },
    {
     "name": "stderr",
     "output_type": "stream",
     "text": [
      "100%|█████████████████████████████████████████| 100/100 [00:43<00:00,  2.28it/s]\n"
     ]
    },
    {
     "name": "stdout",
     "output_type": "stream",
     "text": [
      "[*********************100%***********************]  1 of 1 completed\n",
      "Ticker: ETN\n",
      "Rentabilidad: -53.24%\n",
      "\n",
      "[*********************100%***********************]  1 of 1 completed\n",
      "Entrenando para ETR...\n",
      "\n"
     ]
    },
    {
     "name": "stderr",
     "output_type": "stream",
     "text": [
      "100%|█████████████████████████████████████████| 100/100 [00:44<00:00,  2.27it/s]\n"
     ]
    },
    {
     "name": "stdout",
     "output_type": "stream",
     "text": [
      "[*********************100%***********************]  1 of 1 completed\n",
      "Ticker: ETR\n",
      "Rentabilidad: 104.21%\n",
      "\n",
      "[*********************100%***********************]  1 of 1 completed\n",
      "Entrenando para EVRG...\n",
      "\n"
     ]
    },
    {
     "name": "stderr",
     "output_type": "stream",
     "text": [
      "100%|█████████████████████████████████████████| 100/100 [00:44<00:00,  2.26it/s]\n"
     ]
    },
    {
     "name": "stdout",
     "output_type": "stream",
     "text": [
      "[*********************100%***********************]  1 of 1 completed\n",
      "Ticker: EVRG\n",
      "Rentabilidad: -13.84%\n",
      "\n",
      "[*********************100%***********************]  1 of 1 completed\n",
      "Entrenando para EW...\n",
      "\n"
     ]
    },
    {
     "name": "stderr",
     "output_type": "stream",
     "text": [
      "100%|█████████████████████████████████████████| 100/100 [00:43<00:00,  2.29it/s]\n"
     ]
    },
    {
     "name": "stdout",
     "output_type": "stream",
     "text": [
      "[*********************100%***********************]  1 of 1 completed\n",
      "Ticker: EW\n",
      "Rentabilidad: -63.35%\n",
      "\n",
      "[*********************100%***********************]  1 of 1 completed\n",
      "Entrenando para EXC...\n",
      "\n"
     ]
    },
    {
     "name": "stderr",
     "output_type": "stream",
     "text": [
      "100%|█████████████████████████████████████████| 100/100 [00:43<00:00,  2.27it/s]\n"
     ]
    },
    {
     "name": "stdout",
     "output_type": "stream",
     "text": [
      "[*********************100%***********************]  1 of 1 completed\n",
      "Ticker: EXC\n",
      "Rentabilidad: 60.52%\n",
      "\n",
      "[*********************100%***********************]  1 of 1 completed\n",
      "Entrenando para EXPD...\n",
      "\n"
     ]
    },
    {
     "name": "stderr",
     "output_type": "stream",
     "text": [
      "100%|█████████████████████████████████████████| 100/100 [00:43<00:00,  2.27it/s]"
     ]
    },
    {
     "name": "stdout",
     "output_type": "stream",
     "text": [
      "\r",
      "[*********************100%***********************]  1 of 1 completed"
     ]
    },
    {
     "name": "stderr",
     "output_type": "stream",
     "text": [
      "\n"
     ]
    },
    {
     "name": "stdout",
     "output_type": "stream",
     "text": [
      "\n",
      "Ticker: EXPD\n",
      "Rentabilidad: 237.58%\n",
      "\n",
      "[*********************100%***********************]  1 of 1 completed\n",
      "Entrenando para EXPE...\n",
      "\n"
     ]
    },
    {
     "name": "stderr",
     "output_type": "stream",
     "text": [
      "100%|█████████████████████████████████████████| 100/100 [00:44<00:00,  2.26it/s]"
     ]
    },
    {
     "name": "stdout",
     "output_type": "stream",
     "text": [
      "\r",
      "[*********************100%***********************]  1 of 1 completed"
     ]
    },
    {
     "name": "stderr",
     "output_type": "stream",
     "text": [
      "\n"
     ]
    },
    {
     "name": "stdout",
     "output_type": "stream",
     "text": [
      "\n",
      "Ticker: EXPE\n",
      "Rentabilidad: -68.15%\n",
      "\n",
      "[*********************100%***********************]  1 of 1 completed\n",
      "Entrenando para EXR...\n",
      "\n"
     ]
    },
    {
     "name": "stderr",
     "output_type": "stream",
     "text": [
      "100%|█████████████████████████████████████████| 100/100 [00:44<00:00,  2.26it/s]\n"
     ]
    },
    {
     "name": "stdout",
     "output_type": "stream",
     "text": [
      "[*********************100%***********************]  1 of 1 completed\n",
      "Ticker: EXR\n",
      "Rentabilidad: 96.7%\n",
      "\n",
      "[*********************100%***********************]  1 of 1 completed\n",
      "Entrenando para F...\n",
      "\n"
     ]
    },
    {
     "name": "stderr",
     "output_type": "stream",
     "text": [
      "100%|█████████████████████████████████████████| 100/100 [00:44<00:00,  2.26it/s]\n"
     ]
    },
    {
     "name": "stdout",
     "output_type": "stream",
     "text": [
      "[*********************100%***********************]  1 of 1 completed\n",
      "Ticker: F\n",
      "Rentabilidad: 61.3%\n",
      "\n",
      "[*********************100%***********************]  1 of 1 completed\n",
      "Entrenando para FAST...\n",
      "\n"
     ]
    },
    {
     "name": "stderr",
     "output_type": "stream",
     "text": [
      "100%|█████████████████████████████████████████| 100/100 [00:44<00:00,  2.27it/s]\n"
     ]
    },
    {
     "name": "stdout",
     "output_type": "stream",
     "text": [
      "[*********************100%***********************]  1 of 1 completed\n",
      "Ticker: FAST\n",
      "Rentabilidad: -4.87%\n",
      "\n",
      "[*********************100%***********************]  1 of 1 completed\n",
      "\n",
      "1 Failed download:\n",
      "- FBHS: No data found, symbol may be delisted\n",
      "Entrenando para FBHS...\n",
      "\n"
     ]
    },
    {
     "name": "stderr",
     "output_type": "stream",
     "text": [
      "100%|█████████████████████████████████████| 100/100 [00:00<00:00, 621378.37it/s]"
     ]
    },
    {
     "name": "stdout",
     "output_type": "stream",
     "text": [
      "[*********************100%***********************]  1 of 1 completed\n",
      "\n",
      "1 Failed download:\n",
      "- FBHS: No data found, symbol may be delisted\n",
      "Ticker: FBHS\n",
      "Rentabilidad: 0.0%\n",
      "\n"
     ]
    },
    {
     "name": "stderr",
     "output_type": "stream",
     "text": [
      "\n"
     ]
    },
    {
     "name": "stdout",
     "output_type": "stream",
     "text": [
      "[*********************100%***********************]  1 of 1 completed\n",
      "Entrenando para FCX...\n",
      "\n"
     ]
    },
    {
     "name": "stderr",
     "output_type": "stream",
     "text": [
      "100%|█████████████████████████████████████████| 100/100 [00:44<00:00,  2.25it/s]"
     ]
    },
    {
     "name": "stdout",
     "output_type": "stream",
     "text": [
      "\r",
      "[*********************100%***********************]  1 of 1 completed"
     ]
    },
    {
     "name": "stderr",
     "output_type": "stream",
     "text": [
      "\n"
     ]
    },
    {
     "name": "stdout",
     "output_type": "stream",
     "text": [
      "\n",
      "Ticker: FCX\n",
      "Rentabilidad: 111.54%\n",
      "\n",
      "[*********************100%***********************]  1 of 1 completed\n",
      "Entrenando para FDS...\n",
      "\n"
     ]
    },
    {
     "name": "stderr",
     "output_type": "stream",
     "text": [
      "100%|█████████████████████████████████████████| 100/100 [00:44<00:00,  2.26it/s]\n"
     ]
    },
    {
     "name": "stdout",
     "output_type": "stream",
     "text": [
      "[*********************100%***********************]  1 of 1 completed\n",
      "Ticker: FDS\n",
      "Rentabilidad: 25.25%\n",
      "\n",
      "[*********************100%***********************]  1 of 1 completed\n",
      "Entrenando para FDX...\n",
      "\n"
     ]
    },
    {
     "name": "stderr",
     "output_type": "stream",
     "text": [
      "100%|█████████████████████████████████████████| 100/100 [00:43<00:00,  2.28it/s]\n"
     ]
    },
    {
     "name": "stdout",
     "output_type": "stream",
     "text": [
      "[*********************100%***********************]  1 of 1 completed\n",
      "Ticker: FDX\n",
      "Rentabilidad: 165.64%\n",
      "\n",
      "[*********************100%***********************]  1 of 1 completed\n",
      "Entrenando para FE...\n",
      "\n"
     ]
    },
    {
     "name": "stderr",
     "output_type": "stream",
     "text": [
      "100%|█████████████████████████████████████████| 100/100 [00:43<00:00,  2.29it/s]"
     ]
    },
    {
     "name": "stdout",
     "output_type": "stream",
     "text": [
      "\r",
      "[*********************100%***********************]  1 of 1 completed"
     ]
    },
    {
     "name": "stderr",
     "output_type": "stream",
     "text": [
      "\n"
     ]
    },
    {
     "name": "stdout",
     "output_type": "stream",
     "text": [
      "\n",
      "Ticker: FE\n",
      "Rentabilidad: 31.19%\n",
      "\n",
      "[*********************100%***********************]  1 of 1 completed\n",
      "Entrenando para FFIV...\n",
      "\n"
     ]
    },
    {
     "name": "stderr",
     "output_type": "stream",
     "text": [
      "100%|█████████████████████████████████████████| 100/100 [00:43<00:00,  2.29it/s]"
     ]
    },
    {
     "name": "stdout",
     "output_type": "stream",
     "text": [
      "\r",
      "[*********************100%***********************]  1 of 1 completed"
     ]
    },
    {
     "name": "stderr",
     "output_type": "stream",
     "text": [
      "\n"
     ]
    },
    {
     "name": "stdout",
     "output_type": "stream",
     "text": [
      "\n",
      "Ticker: FFIV\n",
      "Rentabilidad: -60.68%\n",
      "\n",
      "[*********************100%***********************]  1 of 1 completed\n",
      "Entrenando para FIS...\n",
      "\n"
     ]
    },
    {
     "name": "stderr",
     "output_type": "stream",
     "text": [
      "100%|█████████████████████████████████████████| 100/100 [00:43<00:00,  2.30it/s]"
     ]
    },
    {
     "name": "stdout",
     "output_type": "stream",
     "text": [
      "\r",
      "[*********************100%***********************]  1 of 1 completed"
     ]
    },
    {
     "name": "stderr",
     "output_type": "stream",
     "text": [
      "\n"
     ]
    },
    {
     "name": "stdout",
     "output_type": "stream",
     "text": [
      "\n",
      "Ticker: FIS\n",
      "Rentabilidad: -25.85%\n",
      "\n",
      "[*********************100%***********************]  1 of 1 completed\n",
      "Entrenando para FISV...\n",
      "\n"
     ]
    },
    {
     "name": "stderr",
     "output_type": "stream",
     "text": [
      "100%|█████████████████████████████████████████| 100/100 [00:43<00:00,  2.30it/s]"
     ]
    },
    {
     "name": "stdout",
     "output_type": "stream",
     "text": [
      "\r",
      "[*********************100%***********************]  1 of 1 completed"
     ]
    },
    {
     "name": "stderr",
     "output_type": "stream",
     "text": [
      "\n"
     ]
    },
    {
     "name": "stdout",
     "output_type": "stream",
     "text": [
      "\n",
      "Ticker: FISV\n",
      "Rentabilidad: 88.0%\n",
      "\n",
      "[*********************100%***********************]  1 of 1 completed\n",
      "Entrenando para FITB...\n",
      "\n"
     ]
    },
    {
     "name": "stderr",
     "output_type": "stream",
     "text": [
      "100%|█████████████████████████████████████████| 100/100 [00:43<00:00,  2.29it/s]\n"
     ]
    },
    {
     "name": "stdout",
     "output_type": "stream",
     "text": [
      "[*********************100%***********************]  1 of 1 completed\n",
      "Ticker: FITB\n",
      "Rentabilidad: -64.2%\n",
      "\n",
      "[*********************100%***********************]  1 of 1 completed\n",
      "Entrenando para FLT...\n",
      "\n"
     ]
    },
    {
     "name": "stderr",
     "output_type": "stream",
     "text": [
      "100%|█████████████████████████████████████████| 100/100 [00:43<00:00,  2.29it/s]"
     ]
    },
    {
     "name": "stdout",
     "output_type": "stream",
     "text": [
      "\r",
      "[*********************100%***********************]  1 of 1 completed"
     ]
    },
    {
     "name": "stderr",
     "output_type": "stream",
     "text": [
      "\n"
     ]
    },
    {
     "name": "stdout",
     "output_type": "stream",
     "text": [
      "\n",
      "Ticker: FLT\n",
      "Rentabilidad: 208.21%\n",
      "\n",
      "[*********************100%***********************]  1 of 1 completed\n",
      "Entrenando para FMC...\n",
      "\n"
     ]
    },
    {
     "name": "stderr",
     "output_type": "stream",
     "text": [
      "100%|█████████████████████████████████████████| 100/100 [00:43<00:00,  2.29it/s]\n"
     ]
    },
    {
     "name": "stdout",
     "output_type": "stream",
     "text": [
      "[*********************100%***********************]  1 of 1 completed\n",
      "Ticker: FMC\n",
      "Rentabilidad: -2.72%\n",
      "\n",
      "[*********************100%***********************]  1 of 1 completed\n",
      "\n",
      "1 Failed download:\n",
      "- FRC: Data doesn't exist for startDate = 1325372400, endDate = 1483225200\n",
      "Entrenando para FRC...\n",
      "\n"
     ]
    },
    {
     "name": "stderr",
     "output_type": "stream",
     "text": [
      "100%|█████████████████████████████████████| 100/100 [00:00<00:00, 628831.18it/s]"
     ]
    },
    {
     "name": "stdout",
     "output_type": "stream",
     "text": [
      "[*********************100%***********************]  1 of 1 completed\n",
      "\n",
      "1 Failed download:\n",
      "- FRC: Data doesn't exist for startDate = 1461448800, endDate = 1667080800\n",
      "Ticker: FRC\n",
      "Rentabilidad: 0.0%\n",
      "\n"
     ]
    },
    {
     "name": "stderr",
     "output_type": "stream",
     "text": [
      "\n"
     ]
    },
    {
     "name": "stdout",
     "output_type": "stream",
     "text": [
      "[*********************100%***********************]  1 of 1 completed\n",
      "Entrenando para FRT...\n",
      "\n"
     ]
    },
    {
     "name": "stderr",
     "output_type": "stream",
     "text": [
      "100%|█████████████████████████████████████████| 100/100 [00:43<00:00,  2.30it/s]\n"
     ]
    },
    {
     "name": "stdout",
     "output_type": "stream",
     "text": [
      "[*********************100%***********************]  1 of 1 completed\n",
      "Ticker: FRT\n",
      "Rentabilidad: -17.59%\n",
      "\n",
      "[*********************100%***********************]  1 of 1 completed\n",
      "Entrenando para FTNT...\n",
      "\n"
     ]
    },
    {
     "name": "stderr",
     "output_type": "stream",
     "text": [
      "100%|█████████████████████████████████████████| 100/100 [00:43<00:00,  2.30it/s]\n"
     ]
    },
    {
     "name": "stdout",
     "output_type": "stream",
     "text": [
      "[*********************100%***********************]  1 of 1 completed\n",
      "Ticker: FTNT\n",
      "Rentabilidad: 7.88%\n",
      "\n",
      "[*********************100%***********************]  1 of 1 completed\n",
      "Entrenando para GD...\n",
      "\n"
     ]
    },
    {
     "name": "stderr",
     "output_type": "stream",
     "text": [
      "100%|█████████████████████████████████████████| 100/100 [00:43<00:00,  2.30it/s]\n"
     ]
    },
    {
     "name": "stdout",
     "output_type": "stream",
     "text": [
      "[*********************100%***********************]  1 of 1 completed\n",
      "Ticker: GD\n",
      "Rentabilidad: 2.94%\n",
      "\n",
      "[*********************100%***********************]  1 of 1 completed\n",
      "Entrenando para GE...\n",
      "\n"
     ]
    },
    {
     "name": "stderr",
     "output_type": "stream",
     "text": [
      "100%|█████████████████████████████████████████| 100/100 [00:43<00:00,  2.31it/s]\n"
     ]
    },
    {
     "name": "stdout",
     "output_type": "stream",
     "text": [
      "[*********************100%***********************]  1 of 1 completed\n",
      "Ticker: GE\n",
      "Rentabilidad: -79.89%\n",
      "\n",
      "[*********************100%***********************]  1 of 1 completed\n",
      "Entrenando para GILD...\n",
      "\n"
     ]
    },
    {
     "name": "stderr",
     "output_type": "stream",
     "text": [
      "100%|█████████████████████████████████████████| 100/100 [00:43<00:00,  2.30it/s]\n"
     ]
    },
    {
     "name": "stdout",
     "output_type": "stream",
     "text": [
      "[*********************100%***********************]  1 of 1 completed\n",
      "Ticker: GILD\n",
      "Rentabilidad: 19.74%\n",
      "\n",
      "[*********************100%***********************]  1 of 1 completed\n",
      "Entrenando para GIS...\n",
      "\n"
     ]
    },
    {
     "name": "stderr",
     "output_type": "stream",
     "text": [
      "100%|█████████████████████████████████████████| 100/100 [00:43<00:00,  2.30it/s]\n"
     ]
    },
    {
     "name": "stdout",
     "output_type": "stream",
     "text": [
      "[*********************100%***********************]  1 of 1 completed\n",
      "Ticker: GIS\n",
      "Rentabilidad: 27.74%\n",
      "\n",
      "[*********************100%***********************]  1 of 1 completed\n",
      "Entrenando para GL...\n",
      "\n"
     ]
    },
    {
     "name": "stderr",
     "output_type": "stream",
     "text": [
      "100%|█████████████████████████████████████████| 100/100 [00:43<00:00,  2.30it/s]\n"
     ]
    },
    {
     "name": "stdout",
     "output_type": "stream",
     "text": [
      "[*********************100%***********************]  1 of 1 completed\n",
      "Ticker: GL\n",
      "Rentabilidad: -30.9%\n",
      "\n",
      "[*********************100%***********************]  1 of 1 completed\n",
      "Entrenando para GLW...\n",
      "\n"
     ]
    },
    {
     "name": "stderr",
     "output_type": "stream",
     "text": [
      "100%|█████████████████████████████████████████| 100/100 [00:43<00:00,  2.30it/s]\n"
     ]
    },
    {
     "name": "stdout",
     "output_type": "stream",
     "text": [
      "[*********************100%***********************]  1 of 1 completed\n",
      "Ticker: GLW\n",
      "Rentabilidad: -47.05%\n",
      "\n",
      "[*********************100%***********************]  1 of 1 completed\n",
      "Entrenando para GM...\n",
      "\n"
     ]
    },
    {
     "name": "stderr",
     "output_type": "stream",
     "text": [
      "100%|█████████████████████████████████████████| 100/100 [00:43<00:00,  2.29it/s]\n"
     ]
    },
    {
     "name": "stdout",
     "output_type": "stream",
     "text": [
      "[*********************100%***********************]  1 of 1 completed\n",
      "Ticker: GM\n",
      "Rentabilidad: -27.18%\n",
      "\n",
      "[*********************100%***********************]  1 of 1 completed\n",
      "Entrenando para GNRC...\n",
      "\n"
     ]
    },
    {
     "name": "stderr",
     "output_type": "stream",
     "text": [
      "100%|█████████████████████████████████████████| 100/100 [00:43<00:00,  2.30it/s]"
     ]
    },
    {
     "name": "stdout",
     "output_type": "stream",
     "text": [
      "\r",
      "[*********************100%***********************]  1 of 1 completed"
     ]
    },
    {
     "name": "stderr",
     "output_type": "stream",
     "text": [
      "\n"
     ]
    },
    {
     "name": "stdout",
     "output_type": "stream",
     "text": [
      "\n",
      "Ticker: GNRC\n",
      "Rentabilidad: 282.66%\n",
      "\n",
      "[*********************100%***********************]  1 of 1 completed\n",
      "Entrenando para GOOG...\n",
      "\n"
     ]
    },
    {
     "name": "stderr",
     "output_type": "stream",
     "text": [
      "100%|█████████████████████████████████████████| 100/100 [00:43<00:00,  2.30it/s]"
     ]
    },
    {
     "name": "stdout",
     "output_type": "stream",
     "text": [
      "\r",
      "[*********************100%***********************]  1 of 1 completed"
     ]
    },
    {
     "name": "stderr",
     "output_type": "stream",
     "text": [
      "\n"
     ]
    },
    {
     "name": "stdout",
     "output_type": "stream",
     "text": [
      "\n",
      "Ticker: GOOG\n",
      "Rentabilidad: 48.11%\n",
      "\n",
      "[*********************100%***********************]  1 of 1 completed\n",
      "Entrenando para GOOGL...\n",
      "\n"
     ]
    },
    {
     "name": "stderr",
     "output_type": "stream",
     "text": [
      "100%|█████████████████████████████████████████| 100/100 [00:43<00:00,  2.30it/s]\n"
     ]
    },
    {
     "name": "stdout",
     "output_type": "stream",
     "text": [
      "[*********************100%***********************]  1 of 1 completed\n",
      "Ticker: GOOGL\n",
      "Rentabilidad: -13.34%\n",
      "\n",
      "[*********************100%***********************]  1 of 1 completed\n",
      "Entrenando para GPC...\n",
      "\n"
     ]
    },
    {
     "name": "stderr",
     "output_type": "stream",
     "text": [
      "100%|█████████████████████████████████████████| 100/100 [00:43<00:00,  2.30it/s]\n"
     ]
    },
    {
     "name": "stdout",
     "output_type": "stream",
     "text": [
      "[*********************100%***********************]  1 of 1 completed\n",
      "Ticker: GPC\n",
      "Rentabilidad: 56.04%\n",
      "\n",
      "[*********************100%***********************]  1 of 1 completed\n",
      "Entrenando para GPN...\n",
      "\n"
     ]
    },
    {
     "name": "stderr",
     "output_type": "stream",
     "text": [
      "100%|█████████████████████████████████████████| 100/100 [00:43<00:00,  2.30it/s]\n"
     ]
    },
    {
     "name": "stdout",
     "output_type": "stream",
     "text": [
      "[*********************100%***********************]  1 of 1 completed\n",
      "Ticker: GPN\n",
      "Rentabilidad: -0.4%\n",
      "\n",
      "[*********************100%***********************]  1 of 1 completed\n",
      "Entrenando para GRMN...\n",
      "\n"
     ]
    },
    {
     "name": "stderr",
     "output_type": "stream",
     "text": [
      "100%|█████████████████████████████████████████| 100/100 [00:43<00:00,  2.29it/s]\n"
     ]
    },
    {
     "name": "stdout",
     "output_type": "stream",
     "text": [
      "[*********************100%***********************]  1 of 1 completed\n",
      "Ticker: GRMN\n",
      "Rentabilidad: -36.52%\n",
      "\n",
      "[*********************100%***********************]  1 of 1 completed\n",
      "Entrenando para GS...\n",
      "\n"
     ]
    },
    {
     "name": "stderr",
     "output_type": "stream",
     "text": [
      "100%|█████████████████████████████████████████| 100/100 [00:43<00:00,  2.31it/s]\n"
     ]
    },
    {
     "name": "stdout",
     "output_type": "stream",
     "text": [
      "[*********************100%***********************]  1 of 1 completed\n",
      "Ticker: GS\n",
      "Rentabilidad: 354.13%\n",
      "\n",
      "[*********************100%***********************]  1 of 1 completed\n",
      "Entrenando para GWW...\n",
      "\n"
     ]
    },
    {
     "name": "stderr",
     "output_type": "stream",
     "text": [
      "100%|█████████████████████████████████████████| 100/100 [00:43<00:00,  2.30it/s]\n"
     ]
    },
    {
     "name": "stdout",
     "output_type": "stream",
     "text": [
      "[*********************100%***********************]  1 of 1 completed\n",
      "Ticker: GWW\n",
      "Rentabilidad: 193.02%\n",
      "\n",
      "[*********************100%***********************]  1 of 1 completed\n",
      "Entrenando para HAL...\n",
      "\n"
     ]
    },
    {
     "name": "stderr",
     "output_type": "stream",
     "text": [
      "100%|█████████████████████████████████████████| 100/100 [00:43<00:00,  2.31it/s]\n"
     ]
    },
    {
     "name": "stdout",
     "output_type": "stream",
     "text": [
      "[*********************100%***********************]  1 of 1 completed\n",
      "Ticker: HAL\n",
      "Rentabilidad: -70.75%\n",
      "\n",
      "[*********************100%***********************]  1 of 1 completed\n",
      "Entrenando para HAS...\n",
      "\n"
     ]
    },
    {
     "name": "stderr",
     "output_type": "stream",
     "text": [
      "100%|█████████████████████████████████████████| 100/100 [00:43<00:00,  2.31it/s]\n"
     ]
    },
    {
     "name": "stdout",
     "output_type": "stream",
     "text": [
      "[*********************100%***********************]  1 of 1 completed\n",
      "Ticker: HAS\n",
      "Rentabilidad: 9.2%\n",
      "\n",
      "[*********************100%***********************]  1 of 1 completed\n",
      "Entrenando para HBAN...\n",
      "\n"
     ]
    },
    {
     "name": "stderr",
     "output_type": "stream",
     "text": [
      "100%|█████████████████████████████████████████| 100/100 [00:43<00:00,  2.31it/s]\n"
     ]
    },
    {
     "name": "stdout",
     "output_type": "stream",
     "text": [
      "[*********************100%***********************]  1 of 1 completed\n",
      "Ticker: HBAN\n",
      "Rentabilidad: 101.78%\n",
      "\n",
      "[*********************100%***********************]  1 of 1 completed\n",
      "Entrenando para HCA...\n",
      "\n"
     ]
    },
    {
     "name": "stderr",
     "output_type": "stream",
     "text": [
      "100%|█████████████████████████████████████████| 100/100 [00:43<00:00,  2.30it/s]\n"
     ]
    },
    {
     "name": "stdout",
     "output_type": "stream",
     "text": [
      "[*********************100%***********************]  1 of 1 completed\n",
      "Ticker: HCA\n",
      "Rentabilidad: -48.93%\n",
      "\n",
      "[*********************100%***********************]  1 of 1 completed\n",
      "Entrenando para HD...\n",
      "\n"
     ]
    },
    {
     "name": "stderr",
     "output_type": "stream",
     "text": [
      "100%|█████████████████████████████████████████| 100/100 [00:43<00:00,  2.31it/s]\n"
     ]
    },
    {
     "name": "stdout",
     "output_type": "stream",
     "text": [
      "[*********************100%***********************]  1 of 1 completed\n",
      "Ticker: HD\n",
      "Rentabilidad: -17.48%\n",
      "\n",
      "[*********************100%***********************]  1 of 1 completed\n",
      "Entrenando para HES...\n",
      "\n"
     ]
    },
    {
     "name": "stderr",
     "output_type": "stream",
     "text": [
      "100%|█████████████████████████████████████████| 100/100 [00:43<00:00,  2.31it/s]\n"
     ]
    },
    {
     "name": "stdout",
     "output_type": "stream",
     "text": [
      "[*********************100%***********************]  1 of 1 completed\n",
      "Ticker: HES\n",
      "Rentabilidad: -81.81%\n",
      "\n",
      "[*********************100%***********************]  1 of 1 completed\n",
      "Entrenando para HIG...\n",
      "\n"
     ]
    },
    {
     "name": "stderr",
     "output_type": "stream",
     "text": [
      "100%|█████████████████████████████████████████| 100/100 [00:43<00:00,  2.31it/s]\n"
     ]
    },
    {
     "name": "stdout",
     "output_type": "stream",
     "text": [
      "[*********************100%***********************]  1 of 1 completed\n",
      "Ticker: HIG\n",
      "Rentabilidad: 43.11%\n",
      "\n",
      "[*********************100%***********************]  1 of 1 completed\n",
      "Entrenando para HII...\n",
      "\n"
     ]
    },
    {
     "name": "stderr",
     "output_type": "stream",
     "text": [
      "100%|█████████████████████████████████████████| 100/100 [00:43<00:00,  2.31it/s]"
     ]
    },
    {
     "name": "stdout",
     "output_type": "stream",
     "text": [
      "\r",
      "[*********************100%***********************]  1 of 1 completed"
     ]
    },
    {
     "name": "stderr",
     "output_type": "stream",
     "text": [
      "\n"
     ]
    },
    {
     "name": "stdout",
     "output_type": "stream",
     "text": [
      "\n",
      "Ticker: HII\n",
      "Rentabilidad: 12.05%\n",
      "\n",
      "[*********************100%***********************]  1 of 1 completed\n",
      "Entrenando para HOLX...\n",
      "\n"
     ]
    },
    {
     "name": "stderr",
     "output_type": "stream",
     "text": [
      "100%|█████████████████████████████████████████| 100/100 [00:43<00:00,  2.30it/s]"
     ]
    },
    {
     "name": "stdout",
     "output_type": "stream",
     "text": [
      "\r",
      "[*********************100%***********************]  1 of 1 completed"
     ]
    },
    {
     "name": "stderr",
     "output_type": "stream",
     "text": [
      "\n"
     ]
    },
    {
     "name": "stdout",
     "output_type": "stream",
     "text": [
      "\n",
      "Ticker: HOLX\n",
      "Rentabilidad: 39.66%\n",
      "\n",
      "[*********************100%***********************]  1 of 1 completed\n",
      "Entrenando para HON...\n",
      "\n"
     ]
    },
    {
     "name": "stderr",
     "output_type": "stream",
     "text": [
      "100%|█████████████████████████████████████████| 100/100 [00:43<00:00,  2.30it/s]\n"
     ]
    },
    {
     "name": "stdout",
     "output_type": "stream",
     "text": [
      "[*********************100%***********************]  1 of 1 completed\n",
      "Ticker: HON\n",
      "Rentabilidad: 12.51%\n",
      "\n",
      "[*********************100%***********************]  1 of 1 completed\n",
      "Entrenando para HPQ...\n",
      "\n"
     ]
    },
    {
     "name": "stderr",
     "output_type": "stream",
     "text": [
      "100%|█████████████████████████████████████████| 100/100 [00:43<00:00,  2.31it/s]\n"
     ]
    },
    {
     "name": "stdout",
     "output_type": "stream",
     "text": [
      "[*********************100%***********************]  1 of 1 completed\n",
      "Ticker: HPQ\n",
      "Rentabilidad: -4.53%\n",
      "\n",
      "[*********************100%***********************]  1 of 1 completed\n",
      "Entrenando para HRL...\n",
      "\n"
     ]
    },
    {
     "name": "stderr",
     "output_type": "stream",
     "text": [
      "100%|█████████████████████████████████████████| 100/100 [00:43<00:00,  2.32it/s]\n"
     ]
    },
    {
     "name": "stdout",
     "output_type": "stream",
     "text": [
      "[*********************100%***********************]  1 of 1 completed\n",
      "Ticker: HRL\n",
      "Rentabilidad: 83.88%\n",
      "\n",
      "[*********************100%***********************]  1 of 1 completed\n",
      "Entrenando para HSIC...\n",
      "\n"
     ]
    },
    {
     "name": "stderr",
     "output_type": "stream",
     "text": [
      "100%|█████████████████████████████████████████| 100/100 [00:43<00:00,  2.31it/s]"
     ]
    },
    {
     "name": "stdout",
     "output_type": "stream",
     "text": [
      "\r",
      "[*********************100%***********************]  1 of 1 completed"
     ]
    },
    {
     "name": "stderr",
     "output_type": "stream",
     "text": [
      "\n"
     ]
    },
    {
     "name": "stdout",
     "output_type": "stream",
     "text": [
      "\n",
      "Ticker: HSIC\n",
      "Rentabilidad: 74.78%\n",
      "\n",
      "[*********************100%***********************]  1 of 1 completed\n",
      "Entrenando para HST...\n",
      "\n"
     ]
    },
    {
     "name": "stderr",
     "output_type": "stream",
     "text": [
      "100%|█████████████████████████████████████████| 100/100 [00:43<00:00,  2.31it/s]\n"
     ]
    },
    {
     "name": "stdout",
     "output_type": "stream",
     "text": [
      "[*********************100%***********************]  1 of 1 completed\n",
      "Ticker: HST\n",
      "Rentabilidad: 68.61%\n",
      "\n",
      "[*********************100%***********************]  1 of 1 completed\n",
      "Entrenando para HSY...\n",
      "\n"
     ]
    },
    {
     "name": "stderr",
     "output_type": "stream",
     "text": [
      "100%|█████████████████████████████████████████| 100/100 [00:43<00:00,  2.32it/s]\n"
     ]
    },
    {
     "name": "stdout",
     "output_type": "stream",
     "text": [
      "[*********************100%***********************]  1 of 1 completed\n",
      "Ticker: HSY\n",
      "Rentabilidad: 36.12%\n",
      "\n",
      "[*********************100%***********************]  1 of 1 completed\n",
      "Entrenando para HUM...\n",
      "\n"
     ]
    },
    {
     "name": "stderr",
     "output_type": "stream",
     "text": [
      "100%|█████████████████████████████████████████| 100/100 [00:43<00:00,  2.32it/s]\n"
     ]
    },
    {
     "name": "stdout",
     "output_type": "stream",
     "text": [
      "[*********************100%***********************]  1 of 1 completed\n",
      "Ticker: HUM\n",
      "Rentabilidad: 35.02%\n",
      "\n",
      "[*********************100%***********************]  1 of 1 completed\n",
      "Entrenando para IBM...\n",
      "\n"
     ]
    },
    {
     "name": "stderr",
     "output_type": "stream",
     "text": [
      "100%|█████████████████████████████████████████| 100/100 [00:43<00:00,  2.31it/s]\n"
     ]
    },
    {
     "name": "stdout",
     "output_type": "stream",
     "text": [
      "[*********************100%***********************]  1 of 1 completed\n",
      "Ticker: IBM\n",
      "Rentabilidad: -6.86%\n",
      "\n",
      "[*********************100%***********************]  1 of 1 completed\n",
      "Entrenando para ICE...\n",
      "\n"
     ]
    },
    {
     "name": "stderr",
     "output_type": "stream",
     "text": [
      "100%|█████████████████████████████████████████| 100/100 [00:43<00:00,  2.31it/s]"
     ]
    },
    {
     "name": "stdout",
     "output_type": "stream",
     "text": [
      "\r",
      "[*********************100%***********************]  1 of 1 completed"
     ]
    },
    {
     "name": "stderr",
     "output_type": "stream",
     "text": [
      "\n"
     ]
    },
    {
     "name": "stdout",
     "output_type": "stream",
     "text": [
      "\n",
      "Ticker: ICE\n",
      "Rentabilidad: 37.31%\n",
      "\n",
      "[*********************100%***********************]  1 of 1 completed\n",
      "Entrenando para IDXX...\n",
      "\n"
     ]
    },
    {
     "name": "stderr",
     "output_type": "stream",
     "text": [
      "100%|█████████████████████████████████████████| 100/100 [00:43<00:00,  2.32it/s]"
     ]
    },
    {
     "name": "stdout",
     "output_type": "stream",
     "text": [
      "\r",
      "[*********************100%***********************]  1 of 1 completed"
     ]
    },
    {
     "name": "stderr",
     "output_type": "stream",
     "text": [
      "\n"
     ]
    },
    {
     "name": "stdout",
     "output_type": "stream",
     "text": [
      "\n",
      "Ticker: IDXX\n",
      "Rentabilidad: -19.25%\n",
      "\n",
      "[*********************100%***********************]  1 of 1 completed\n",
      "Entrenando para IEX...\n",
      "\n"
     ]
    },
    {
     "name": "stderr",
     "output_type": "stream",
     "text": [
      "100%|█████████████████████████████████████████| 100/100 [00:43<00:00,  2.32it/s]\n"
     ]
    },
    {
     "name": "stdout",
     "output_type": "stream",
     "text": [
      "[*********************100%***********************]  1 of 1 completed\n",
      "Ticker: IEX\n",
      "Rentabilidad: -43.48%\n",
      "\n",
      "[*********************100%***********************]  1 of 1 completed\n",
      "Entrenando para IFF...\n",
      "\n"
     ]
    },
    {
     "name": "stderr",
     "output_type": "stream",
     "text": [
      "100%|█████████████████████████████████████████| 100/100 [00:43<00:00,  2.31it/s]\n"
     ]
    },
    {
     "name": "stdout",
     "output_type": "stream",
     "text": [
      "[*********************100%***********************]  1 of 1 completed\n",
      "Ticker: IFF\n",
      "Rentabilidad: -38.03%\n",
      "\n",
      "[*********************100%***********************]  1 of 1 completed\n",
      "Entrenando para ILMN...\n",
      "\n"
     ]
    },
    {
     "name": "stderr",
     "output_type": "stream",
     "text": [
      "100%|█████████████████████████████████████████| 100/100 [00:43<00:00,  2.31it/s]"
     ]
    },
    {
     "name": "stdout",
     "output_type": "stream",
     "text": [
      "\r",
      "[*********************100%***********************]  1 of 1 completed"
     ]
    },
    {
     "name": "stderr",
     "output_type": "stream",
     "text": [
      "\n"
     ]
    },
    {
     "name": "stdout",
     "output_type": "stream",
     "text": [
      "\n",
      "Ticker: ILMN\n",
      "Rentabilidad: -47.54%\n",
      "\n",
      "[*********************100%***********************]  1 of 1 completed\n",
      "Entrenando para INCY...\n",
      "\n"
     ]
    },
    {
     "name": "stderr",
     "output_type": "stream",
     "text": [
      "100%|█████████████████████████████████████████| 100/100 [00:43<00:00,  2.32it/s]"
     ]
    },
    {
     "name": "stdout",
     "output_type": "stream",
     "text": [
      "\r",
      "[*********************100%***********************]  1 of 1 completed"
     ]
    },
    {
     "name": "stderr",
     "output_type": "stream",
     "text": [
      "\n"
     ]
    },
    {
     "name": "stdout",
     "output_type": "stream",
     "text": [
      "\n",
      "Ticker: INCY\n",
      "Rentabilidad: -56.81%\n",
      "\n",
      "[*********************100%***********************]  1 of 1 completed\n",
      "Entrenando para INTC...\n",
      "\n"
     ]
    },
    {
     "name": "stderr",
     "output_type": "stream",
     "text": [
      "100%|█████████████████████████████████████████| 100/100 [00:43<00:00,  2.31it/s]\n"
     ]
    },
    {
     "name": "stdout",
     "output_type": "stream",
     "text": [
      "[*********************100%***********************]  1 of 1 completed\n",
      "Ticker: INTC\n",
      "Rentabilidad: 14.42%\n",
      "\n",
      "[*********************100%***********************]  1 of 1 completed\n",
      "Entrenando para INTU...\n",
      "\n"
     ]
    },
    {
     "name": "stderr",
     "output_type": "stream",
     "text": [
      "100%|█████████████████████████████████████████| 100/100 [00:43<00:00,  2.32it/s]\n"
     ]
    },
    {
     "name": "stdout",
     "output_type": "stream",
     "text": [
      "[*********************100%***********************]  1 of 1 completed\n",
      "Ticker: INTU\n",
      "Rentabilidad: 49.1%\n",
      "\n",
      "[*********************100%***********************]  1 of 1 completed\n",
      "Entrenando para IP...\n",
      "\n"
     ]
    },
    {
     "name": "stderr",
     "output_type": "stream",
     "text": [
      "100%|█████████████████████████████████████████| 100/100 [00:43<00:00,  2.31it/s]\n"
     ]
    },
    {
     "name": "stdout",
     "output_type": "stream",
     "text": [
      "[*********************100%***********************]  1 of 1 completed\n",
      "Ticker: IP\n",
      "Rentabilidad: 23.12%\n",
      "\n",
      "[*********************100%***********************]  1 of 1 completed\n",
      "Entrenando para IPG...\n",
      "\n"
     ]
    },
    {
     "name": "stderr",
     "output_type": "stream",
     "text": [
      "100%|█████████████████████████████████████████| 100/100 [00:43<00:00,  2.32it/s]\n"
     ]
    },
    {
     "name": "stdout",
     "output_type": "stream",
     "text": [
      "[*********************100%***********************]  1 of 1 completed\n",
      "Ticker: IPG\n",
      "Rentabilidad: 33.86%\n",
      "\n",
      "[*********************100%***********************]  1 of 1 completed\n",
      "Entrenando para IRM...\n",
      "\n"
     ]
    },
    {
     "name": "stderr",
     "output_type": "stream",
     "text": [
      "100%|█████████████████████████████████████████| 100/100 [00:43<00:00,  2.32it/s]\n"
     ]
    },
    {
     "name": "stdout",
     "output_type": "stream",
     "text": [
      "[*********************100%***********************]  1 of 1 completed\n",
      "Ticker: IRM\n",
      "Rentabilidad: -51.75%\n",
      "\n",
      "[*********************100%***********************]  1 of 1 completed\n",
      "Entrenando para ISRG...\n",
      "\n"
     ]
    },
    {
     "name": "stderr",
     "output_type": "stream",
     "text": [
      "100%|█████████████████████████████████████████| 100/100 [00:42<00:00,  2.33it/s]"
     ]
    },
    {
     "name": "stdout",
     "output_type": "stream",
     "text": [
      "\r",
      "[*********************100%***********************]  1 of 1 completed"
     ]
    },
    {
     "name": "stderr",
     "output_type": "stream",
     "text": [
      "\n"
     ]
    },
    {
     "name": "stdout",
     "output_type": "stream",
     "text": [
      "\n",
      "Ticker: ISRG\n",
      "Rentabilidad: -52.96%\n",
      "\n",
      "[*********************100%***********************]  1 of 1 completed\n",
      "Entrenando para IT...\n",
      "\n"
     ]
    },
    {
     "name": "stderr",
     "output_type": "stream",
     "text": [
      "100%|█████████████████████████████████████████| 100/100 [00:43<00:00,  2.32it/s]"
     ]
    },
    {
     "name": "stdout",
     "output_type": "stream",
     "text": [
      "\r",
      "[*********************100%***********************]  1 of 1 completed"
     ]
    },
    {
     "name": "stderr",
     "output_type": "stream",
     "text": [
      "\n"
     ]
    },
    {
     "name": "stdout",
     "output_type": "stream",
     "text": [
      "\n",
      "Ticker: IT\n",
      "Rentabilidad: -65.31%\n",
      "\n",
      "[*********************100%***********************]  1 of 1 completed\n",
      "Entrenando para ITW...\n",
      "\n"
     ]
    },
    {
     "name": "stderr",
     "output_type": "stream",
     "text": [
      "100%|█████████████████████████████████████████| 100/100 [00:43<00:00,  2.32it/s]"
     ]
    },
    {
     "name": "stdout",
     "output_type": "stream",
     "text": [
      "\r",
      "[*********************100%***********************]  1 of 1 completed"
     ]
    },
    {
     "name": "stderr",
     "output_type": "stream",
     "text": [
      "\n"
     ]
    },
    {
     "name": "stdout",
     "output_type": "stream",
     "text": [
      "\n",
      "Ticker: ITW\n",
      "Rentabilidad: 9.4%\n",
      "\n",
      "[*********************100%***********************]  1 of 1 completed\n",
      "Entrenando para IVZ...\n",
      "\n"
     ]
    },
    {
     "name": "stderr",
     "output_type": "stream",
     "text": [
      "100%|█████████████████████████████████████████| 100/100 [00:43<00:00,  2.32it/s]"
     ]
    },
    {
     "name": "stdout",
     "output_type": "stream",
     "text": [
      "\r",
      "[*********************100%***********************]  1 of 1 completed"
     ]
    },
    {
     "name": "stderr",
     "output_type": "stream",
     "text": [
      "\n"
     ]
    },
    {
     "name": "stdout",
     "output_type": "stream",
     "text": [
      "\n",
      "Ticker: IVZ\n",
      "Rentabilidad: -6.35%\n",
      "\n",
      "[*********************100%***********************]  1 of 1 completed\n",
      "Entrenando para J...\n",
      "\n"
     ]
    },
    {
     "name": "stderr",
     "output_type": "stream",
     "text": [
      "100%|█████████████████████████████████████████| 100/100 [00:43<00:00,  2.32it/s]\n"
     ]
    },
    {
     "name": "stdout",
     "output_type": "stream",
     "text": [
      "[*********************100%***********************]  1 of 1 completed\n",
      "Ticker: J\n",
      "Rentabilidad: -45.25%\n",
      "\n",
      "[*********************100%***********************]  1 of 1 completed\n",
      "Entrenando para JBHT...\n",
      "\n"
     ]
    },
    {
     "name": "stderr",
     "output_type": "stream",
     "text": [
      "100%|█████████████████████████████████████████| 100/100 [00:42<00:00,  2.33it/s]"
     ]
    },
    {
     "name": "stdout",
     "output_type": "stream",
     "text": [
      "\r",
      "[*********************100%***********************]  1 of 1 completed"
     ]
    },
    {
     "name": "stderr",
     "output_type": "stream",
     "text": [
      "\n"
     ]
    },
    {
     "name": "stdout",
     "output_type": "stream",
     "text": [
      "\n",
      "Ticker: JBHT\n",
      "Rentabilidad: -1.49%\n",
      "\n",
      "[*********************100%***********************]  1 of 1 completed\n",
      "Entrenando para JCI...\n",
      "\n"
     ]
    },
    {
     "name": "stderr",
     "output_type": "stream",
     "text": [
      "100%|█████████████████████████████████████████| 100/100 [00:42<00:00,  2.33it/s]\n"
     ]
    },
    {
     "name": "stdout",
     "output_type": "stream",
     "text": [
      "[*********************100%***********************]  1 of 1 completed\n",
      "Ticker: JCI\n",
      "Rentabilidad: -0.04%\n",
      "\n",
      "[*********************100%***********************]  1 of 1 completed\n",
      "Entrenando para JKHY...\n",
      "\n"
     ]
    },
    {
     "name": "stderr",
     "output_type": "stream",
     "text": [
      "100%|█████████████████████████████████████████| 100/100 [00:42<00:00,  2.34it/s]\n"
     ]
    },
    {
     "name": "stdout",
     "output_type": "stream",
     "text": [
      "[*********************100%***********************]  1 of 1 completed\n",
      "Ticker: JKHY\n",
      "Rentabilidad: 167.5%\n",
      "\n",
      "[*********************100%***********************]  1 of 1 completed\n",
      "Entrenando para JNJ...\n",
      "\n"
     ]
    },
    {
     "name": "stderr",
     "output_type": "stream",
     "text": [
      "100%|█████████████████████████████████████████| 100/100 [00:42<00:00,  2.33it/s]\n"
     ]
    },
    {
     "name": "stdout",
     "output_type": "stream",
     "text": [
      "[*********************100%***********************]  1 of 1 completed\n",
      "Ticker: JNJ\n",
      "Rentabilidad: 66.74%\n",
      "\n",
      "[*********************100%***********************]  1 of 1 completed\n",
      "Entrenando para JNPR...\n",
      "\n"
     ]
    },
    {
     "name": "stderr",
     "output_type": "stream",
     "text": [
      "100%|█████████████████████████████████████████| 100/100 [00:43<00:00,  2.32it/s]\n"
     ]
    },
    {
     "name": "stdout",
     "output_type": "stream",
     "text": [
      "[*********************100%***********************]  1 of 1 completed\n",
      "Ticker: JNPR\n",
      "Rentabilidad: -33.87%\n",
      "\n",
      "[*********************100%***********************]  1 of 1 completed\n",
      "Entrenando para JPM...\n",
      "\n"
     ]
    },
    {
     "name": "stderr",
     "output_type": "stream",
     "text": [
      "100%|█████████████████████████████████████████| 100/100 [00:43<00:00,  2.32it/s]\n"
     ]
    },
    {
     "name": "stdout",
     "output_type": "stream",
     "text": [
      "[*********************100%***********************]  1 of 1 completed\n",
      "Ticker: JPM\n",
      "Rentabilidad: -38.36%\n",
      "\n",
      "[*********************100%***********************]  1 of 1 completed\n",
      "Entrenando para K...\n",
      "\n"
     ]
    },
    {
     "name": "stderr",
     "output_type": "stream",
     "text": [
      "100%|█████████████████████████████████████████| 100/100 [00:42<00:00,  2.33it/s]\n"
     ]
    },
    {
     "name": "stdout",
     "output_type": "stream",
     "text": [
      "[*********************100%***********************]  1 of 1 completed\n",
      "Ticker: K\n",
      "Rentabilidad: 36.86%\n",
      "\n",
      "[*********************100%***********************]  1 of 1 completed\n",
      "Entrenando para KDP...\n",
      "\n"
     ]
    },
    {
     "name": "stderr",
     "output_type": "stream",
     "text": [
      "100%|█████████████████████████████████████████| 100/100 [00:43<00:00,  2.31it/s]\n"
     ]
    },
    {
     "name": "stdout",
     "output_type": "stream",
     "text": [
      "[*********************100%***********************]  1 of 1 completed\n",
      "Ticker: KDP\n",
      "Rentabilidad: -6.83%\n",
      "\n",
      "[*********************100%***********************]  1 of 1 completed\n",
      "Entrenando para KEY...\n",
      "\n"
     ]
    },
    {
     "name": "stderr",
     "output_type": "stream",
     "text": [
      "100%|█████████████████████████████████████████| 100/100 [00:43<00:00,  2.32it/s]\n"
     ]
    },
    {
     "name": "stdout",
     "output_type": "stream",
     "text": [
      "[*********************100%***********************]  1 of 1 completed\n",
      "Ticker: KEY\n",
      "Rentabilidad: 39.26%\n",
      "\n",
      "[*********************100%***********************]  1 of 1 completed\n",
      "Entrenando para KIM...\n",
      "\n"
     ]
    },
    {
     "name": "stderr",
     "output_type": "stream",
     "text": [
      "100%|█████████████████████████████████████████| 100/100 [00:43<00:00,  2.32it/s]\n"
     ]
    },
    {
     "name": "stdout",
     "output_type": "stream",
     "text": [
      "[*********************100%***********************]  1 of 1 completed\n",
      "Ticker: KIM\n",
      "Rentabilidad: -71.21%\n",
      "\n",
      "[*********************100%***********************]  1 of 1 completed\n",
      "Entrenando para KLAC...\n",
      "\n"
     ]
    },
    {
     "name": "stderr",
     "output_type": "stream",
     "text": [
      "100%|█████████████████████████████████████████| 100/100 [00:42<00:00,  2.33it/s]\n"
     ]
    },
    {
     "name": "stdout",
     "output_type": "stream",
     "text": [
      "[*********************100%***********************]  1 of 1 completed\n",
      "Ticker: KLAC\n",
      "Rentabilidad: -55.34%\n",
      "\n",
      "[*********************100%***********************]  1 of 1 completed\n",
      "Entrenando para KMB...\n",
      "\n"
     ]
    },
    {
     "name": "stderr",
     "output_type": "stream",
     "text": [
      "100%|█████████████████████████████████████████| 100/100 [00:42<00:00,  2.33it/s]\n"
     ]
    },
    {
     "name": "stdout",
     "output_type": "stream",
     "text": [
      "[*********************100%***********************]  1 of 1 completed\n",
      "Ticker: KMB\n",
      "Rentabilidad: -59.31%\n",
      "\n",
      "[*********************100%***********************]  1 of 1 completed\n",
      "Entrenando para KMI...\n",
      "\n"
     ]
    },
    {
     "name": "stderr",
     "output_type": "stream",
     "text": [
      "100%|█████████████████████████████████████████| 100/100 [00:42<00:00,  2.33it/s]\n"
     ]
    },
    {
     "name": "stdout",
     "output_type": "stream",
     "text": [
      "[*********************100%***********************]  1 of 1 completed\n",
      "Ticker: KMI\n",
      "Rentabilidad: 60.45%\n",
      "\n",
      "[*********************100%***********************]  1 of 1 completed\n",
      "Entrenando para KMX...\n",
      "\n"
     ]
    },
    {
     "name": "stderr",
     "output_type": "stream",
     "text": [
      "100%|█████████████████████████████████████████| 100/100 [00:43<00:00,  2.32it/s]"
     ]
    },
    {
     "name": "stdout",
     "output_type": "stream",
     "text": [
      "\r",
      "[*********************100%***********************]  1 of 1 completed"
     ]
    },
    {
     "name": "stderr",
     "output_type": "stream",
     "text": [
      "\n"
     ]
    },
    {
     "name": "stdout",
     "output_type": "stream",
     "text": [
      "\n",
      "Ticker: KMX\n",
      "Rentabilidad: 35.33%\n",
      "\n",
      "[*********************100%***********************]  1 of 1 completed\n",
      "Entrenando para KO...\n",
      "\n"
     ]
    },
    {
     "name": "stderr",
     "output_type": "stream",
     "text": [
      "100%|█████████████████████████████████████████| 100/100 [00:43<00:00,  2.33it/s]\n"
     ]
    },
    {
     "name": "stdout",
     "output_type": "stream",
     "text": [
      "[*********************100%***********************]  1 of 1 completed\n",
      "Ticker: KO\n",
      "Rentabilidad: 27.38%\n",
      "\n",
      "[*********************100%***********************]  1 of 1 completed\n",
      "Entrenando para KR...\n",
      "\n"
     ]
    },
    {
     "name": "stderr",
     "output_type": "stream",
     "text": [
      "100%|█████████████████████████████████████████| 100/100 [00:43<00:00,  2.32it/s]\n"
     ]
    },
    {
     "name": "stdout",
     "output_type": "stream",
     "text": [
      "[*********************100%***********************]  1 of 1 completed\n",
      "Ticker: KR\n",
      "Rentabilidad: 130.73%\n",
      "\n",
      "[*********************100%***********************]  1 of 1 completed\n",
      "Entrenando para L...\n",
      "\n"
     ]
    },
    {
     "name": "stderr",
     "output_type": "stream",
     "text": [
      "100%|█████████████████████████████████████████| 100/100 [00:42<00:00,  2.33it/s]\n"
     ]
    },
    {
     "name": "stdout",
     "output_type": "stream",
     "text": [
      "[*********************100%***********************]  1 of 1 completed\n",
      "Ticker: L\n",
      "Rentabilidad: -3.33%\n",
      "\n",
      "[*********************100%***********************]  1 of 1 completed\n",
      "Entrenando para LDOS...\n",
      "\n"
     ]
    },
    {
     "name": "stderr",
     "output_type": "stream",
     "text": [
      "100%|█████████████████████████████████████████| 100/100 [00:42<00:00,  2.33it/s]\n"
     ]
    },
    {
     "name": "stdout",
     "output_type": "stream",
     "text": [
      "[*********************100%***********************]  1 of 1 completed\n",
      "Ticker: LDOS\n",
      "Rentabilidad: -29.08%\n",
      "\n",
      "[*********************100%***********************]  1 of 1 completed\n",
      "Entrenando para LEN...\n",
      "\n"
     ]
    },
    {
     "name": "stderr",
     "output_type": "stream",
     "text": [
      "100%|█████████████████████████████████████████| 100/100 [00:43<00:00,  2.33it/s]\n"
     ]
    },
    {
     "name": "stdout",
     "output_type": "stream",
     "text": [
      "[*********************100%***********************]  1 of 1 completed\n",
      "Ticker: LEN\n",
      "Rentabilidad: -54.68%\n",
      "\n",
      "[*********************100%***********************]  1 of 1 completed\n",
      "Entrenando para LH...\n",
      "\n"
     ]
    },
    {
     "name": "stderr",
     "output_type": "stream",
     "text": [
      "100%|█████████████████████████████████████████| 100/100 [00:42<00:00,  2.33it/s]\n"
     ]
    },
    {
     "name": "stdout",
     "output_type": "stream",
     "text": [
      "[*********************100%***********************]  1 of 1 completed\n",
      "Ticker: LH\n",
      "Rentabilidad: -44.9%\n",
      "\n",
      "[*********************100%***********************]  1 of 1 completed\n",
      "Entrenando para LHX...\n",
      "\n"
     ]
    },
    {
     "name": "stderr",
     "output_type": "stream",
     "text": [
      "100%|█████████████████████████████████████████| 100/100 [00:43<00:00,  2.32it/s]\n"
     ]
    },
    {
     "name": "stdout",
     "output_type": "stream",
     "text": [
      "[*********************100%***********************]  1 of 1 completed\n",
      "Ticker: LHX\n",
      "Rentabilidad: 47.0%\n",
      "\n",
      "[*********************100%***********************]  1 of 1 completed\n",
      "Entrenando para LIN...\n",
      "\n"
     ]
    },
    {
     "name": "stderr",
     "output_type": "stream",
     "text": [
      "100%|█████████████████████████████████████████| 100/100 [00:43<00:00,  2.32it/s]\n"
     ]
    },
    {
     "name": "stdout",
     "output_type": "stream",
     "text": [
      "[*********************100%***********************]  1 of 1 completed\n",
      "Ticker: LIN\n",
      "Rentabilidad: -24.24%\n",
      "\n",
      "[*********************100%***********************]  1 of 1 completed\n",
      "Entrenando para LKQ...\n",
      "\n"
     ]
    },
    {
     "name": "stderr",
     "output_type": "stream",
     "text": [
      "100%|█████████████████████████████████████████| 100/100 [00:42<00:00,  2.33it/s]"
     ]
    },
    {
     "name": "stdout",
     "output_type": "stream",
     "text": [
      "\r",
      "[*********************100%***********************]  1 of 1 completed"
     ]
    },
    {
     "name": "stderr",
     "output_type": "stream",
     "text": [
      "\n"
     ]
    },
    {
     "name": "stdout",
     "output_type": "stream",
     "text": [
      "\n",
      "Ticker: LKQ\n",
      "Rentabilidad: -64.91%\n",
      "\n",
      "[*********************100%***********************]  1 of 1 completed\n",
      "Entrenando para LLY...\n",
      "\n"
     ]
    },
    {
     "name": "stderr",
     "output_type": "stream",
     "text": [
      "100%|█████████████████████████████████████████| 100/100 [00:43<00:00,  2.32it/s]\n"
     ]
    },
    {
     "name": "stdout",
     "output_type": "stream",
     "text": [
      "[*********************100%***********************]  1 of 1 completed\n",
      "Ticker: LLY\n",
      "Rentabilidad: 107.92%\n",
      "\n",
      "[*********************100%***********************]  1 of 1 completed\n",
      "Entrenando para LMT...\n",
      "\n"
     ]
    },
    {
     "name": "stderr",
     "output_type": "stream",
     "text": [
      "100%|█████████████████████████████████████████| 100/100 [00:42<00:00,  2.33it/s]\n"
     ]
    },
    {
     "name": "stdout",
     "output_type": "stream",
     "text": [
      "[*********************100%***********************]  1 of 1 completed\n",
      "Ticker: LMT\n",
      "Rentabilidad: -1.8%\n",
      "\n",
      "[*********************100%***********************]  1 of 1 completed\n",
      "Entrenando para LNC...\n",
      "\n"
     ]
    },
    {
     "name": "stderr",
     "output_type": "stream",
     "text": [
      "100%|█████████████████████████████████████████| 100/100 [00:43<00:00,  2.32it/s]\n"
     ]
    },
    {
     "name": "stdout",
     "output_type": "stream",
     "text": [
      "[*********************100%***********************]  1 of 1 completed\n",
      "Ticker: LNC\n",
      "Rentabilidad: 118.47%\n",
      "\n",
      "[*********************100%***********************]  1 of 1 completed\n",
      "Entrenando para LNT...\n",
      "\n"
     ]
    },
    {
     "name": "stderr",
     "output_type": "stream",
     "text": [
      "100%|█████████████████████████████████████████| 100/100 [00:43<00:00,  2.32it/s]\n"
     ]
    },
    {
     "name": "stdout",
     "output_type": "stream",
     "text": [
      "[*********************100%***********************]  1 of 1 completed\n",
      "Ticker: LNT\n",
      "Rentabilidad: 4.43%\n",
      "\n",
      "[*********************100%***********************]  1 of 1 completed\n",
      "Entrenando para LOW...\n",
      "\n"
     ]
    },
    {
     "name": "stderr",
     "output_type": "stream",
     "text": [
      "100%|█████████████████████████████████████████| 100/100 [00:42<00:00,  2.33it/s]\n"
     ]
    },
    {
     "name": "stdout",
     "output_type": "stream",
     "text": [
      "[*********************100%***********************]  1 of 1 completed\n",
      "Ticker: LOW\n",
      "Rentabilidad: -31.06%\n",
      "\n",
      "[*********************100%***********************]  1 of 1 completed\n",
      "Entrenando para LRCX...\n",
      "\n"
     ]
    },
    {
     "name": "stderr",
     "output_type": "stream",
     "text": [
      "100%|█████████████████████████████████████████| 100/100 [00:43<00:00,  2.32it/s]"
     ]
    },
    {
     "name": "stdout",
     "output_type": "stream",
     "text": [
      "\r",
      "[*********************100%***********************]  1 of 1 completed"
     ]
    },
    {
     "name": "stderr",
     "output_type": "stream",
     "text": [
      "\n"
     ]
    },
    {
     "name": "stdout",
     "output_type": "stream",
     "text": [
      "\n",
      "Ticker: LRCX\n",
      "Rentabilidad: -74.09%\n",
      "\n",
      "[*********************100%***********************]  1 of 1 completed\n",
      "Entrenando para LUMN...\n",
      "\n"
     ]
    },
    {
     "name": "stderr",
     "output_type": "stream",
     "text": [
      "100%|█████████████████████████████████████████| 100/100 [00:43<00:00,  2.33it/s]\n"
     ]
    },
    {
     "name": "stdout",
     "output_type": "stream",
     "text": [
      "[*********************100%***********************]  1 of 1 completed\n",
      "Ticker: LUMN\n",
      "Rentabilidad: 2.29%\n",
      "\n",
      "[*********************100%***********************]  1 of 1 completed\n",
      "Entrenando para LUV...\n",
      "\n"
     ]
    },
    {
     "name": "stderr",
     "output_type": "stream",
     "text": [
      "100%|█████████████████████████████████████████| 100/100 [00:43<00:00,  2.32it/s]\n"
     ]
    },
    {
     "name": "stdout",
     "output_type": "stream",
     "text": [
      "[*********************100%***********************]  1 of 1 completed\n",
      "Ticker: LUV\n",
      "Rentabilidad: 10.89%\n",
      "\n",
      "[*********************100%***********************]  1 of 1 completed\n",
      "Entrenando para LVS...\n",
      "\n"
     ]
    },
    {
     "name": "stderr",
     "output_type": "stream",
     "text": [
      "100%|█████████████████████████████████████████| 100/100 [00:42<00:00,  2.33it/s]\n"
     ]
    },
    {
     "name": "stdout",
     "output_type": "stream",
     "text": [
      "[*********************100%***********************]  1 of 1 completed\n",
      "Ticker: LVS\n",
      "Rentabilidad: -62.38%\n",
      "\n",
      "[*********************100%***********************]  1 of 1 completed\n",
      "Entrenando para LYB...\n",
      "\n"
     ]
    },
    {
     "name": "stderr",
     "output_type": "stream",
     "text": [
      "100%|█████████████████████████████████████████| 100/100 [00:42<00:00,  2.33it/s]"
     ]
    },
    {
     "name": "stdout",
     "output_type": "stream",
     "text": [
      "\r",
      "[*********************100%***********************]  1 of 1 completed"
     ]
    },
    {
     "name": "stderr",
     "output_type": "stream",
     "text": [
      "\n"
     ]
    },
    {
     "name": "stdout",
     "output_type": "stream",
     "text": [
      "\n",
      "Ticker: LYB\n",
      "Rentabilidad: -8.76%\n",
      "\n",
      "[*********************100%***********************]  1 of 1 completed\n",
      "Entrenando para LYV...\n",
      "\n"
     ]
    },
    {
     "name": "stderr",
     "output_type": "stream",
     "text": [
      "100%|█████████████████████████████████████████| 100/100 [00:42<00:00,  2.33it/s]"
     ]
    },
    {
     "name": "stdout",
     "output_type": "stream",
     "text": [
      "\r",
      "[*********************100%***********************]  1 of 1 completed"
     ]
    },
    {
     "name": "stderr",
     "output_type": "stream",
     "text": [
      "\n"
     ]
    },
    {
     "name": "stdout",
     "output_type": "stream",
     "text": [
      "\n",
      "Ticker: LYV\n",
      "Rentabilidad: -71.99%\n",
      "\n",
      "[*********************100%***********************]  1 of 1 completed\n",
      "Entrenando para MA...\n",
      "\n"
     ]
    },
    {
     "name": "stderr",
     "output_type": "stream",
     "text": [
      "100%|█████████████████████████████████████████| 100/100 [00:42<00:00,  2.33it/s]"
     ]
    },
    {
     "name": "stdout",
     "output_type": "stream",
     "text": [
      "\r",
      "[*********************100%***********************]  1 of 1 completed"
     ]
    },
    {
     "name": "stderr",
     "output_type": "stream",
     "text": [
      "\n"
     ]
    },
    {
     "name": "stdout",
     "output_type": "stream",
     "text": [
      "\n",
      "Ticker: MA\n",
      "Rentabilidad: 27.55%\n",
      "\n",
      "[*********************100%***********************]  1 of 1 completed\n",
      "Entrenando para MAA...\n",
      "\n"
     ]
    },
    {
     "name": "stderr",
     "output_type": "stream",
     "text": [
      "100%|█████████████████████████████████████████| 100/100 [00:43<00:00,  2.31it/s]\n"
     ]
    },
    {
     "name": "stdout",
     "output_type": "stream",
     "text": [
      "[*********************100%***********************]  1 of 1 completed\n",
      "Ticker: MAA\n",
      "Rentabilidad: 17.72%\n",
      "\n",
      "[*********************100%***********************]  1 of 1 completed\n",
      "Entrenando para MAR...\n",
      "\n"
     ]
    },
    {
     "name": "stderr",
     "output_type": "stream",
     "text": [
      "100%|█████████████████████████████████████████| 100/100 [00:42<00:00,  2.33it/s]\n"
     ]
    },
    {
     "name": "stdout",
     "output_type": "stream",
     "text": [
      "[*********************100%***********************]  1 of 1 completed\n",
      "Ticker: MAR\n",
      "Rentabilidad: -62.37%\n",
      "\n",
      "[*********************100%***********************]  1 of 1 completed\n",
      "Entrenando para MAS...\n",
      "\n"
     ]
    },
    {
     "name": "stderr",
     "output_type": "stream",
     "text": [
      "100%|█████████████████████████████████████████| 100/100 [00:42<00:00,  2.34it/s]\n"
     ]
    },
    {
     "name": "stdout",
     "output_type": "stream",
     "text": [
      "[*********************100%***********************]  1 of 1 completed\n",
      "Ticker: MAS\n",
      "Rentabilidad: 22.76%\n",
      "\n",
      "[*********************100%***********************]  1 of 1 completed\n",
      "Entrenando para MCD...\n",
      "\n"
     ]
    },
    {
     "name": "stderr",
     "output_type": "stream",
     "text": [
      "100%|█████████████████████████████████████████| 100/100 [00:42<00:00,  2.33it/s]\n"
     ]
    },
    {
     "name": "stdout",
     "output_type": "stream",
     "text": [
      "[*********************100%***********************]  1 of 1 completed\n",
      "Ticker: MCD\n",
      "Rentabilidad: -24.32%\n",
      "\n",
      "[*********************100%***********************]  1 of 1 completed\n",
      "Entrenando para MCHP...\n",
      "\n"
     ]
    },
    {
     "name": "stderr",
     "output_type": "stream",
     "text": [
      "100%|█████████████████████████████████████████| 100/100 [00:43<00:00,  2.32it/s]\n"
     ]
    },
    {
     "name": "stdout",
     "output_type": "stream",
     "text": [
      "[*********************100%***********************]  1 of 1 completed\n",
      "Ticker: MCHP\n",
      "Rentabilidad: -65.81%\n",
      "\n",
      "[*********************100%***********************]  1 of 1 completed\n",
      "Entrenando para MCK...\n",
      "\n"
     ]
    },
    {
     "name": "stderr",
     "output_type": "stream",
     "text": [
      "100%|█████████████████████████████████████████| 100/100 [00:42<00:00,  2.33it/s]\n"
     ]
    },
    {
     "name": "stdout",
     "output_type": "stream",
     "text": [
      "[*********************100%***********************]  1 of 1 completed\n",
      "Ticker: MCK\n",
      "Rentabilidad: -52.13%\n",
      "\n",
      "[*********************100%***********************]  1 of 1 completed\n",
      "Entrenando para MCO...\n",
      "\n"
     ]
    },
    {
     "name": "stderr",
     "output_type": "stream",
     "text": [
      "100%|█████████████████████████████████████████| 100/100 [00:42<00:00,  2.33it/s]\n"
     ]
    },
    {
     "name": "stdout",
     "output_type": "stream",
     "text": [
      "[*********************100%***********************]  1 of 1 completed\n",
      "Ticker: MCO\n",
      "Rentabilidad: -63.98%\n",
      "\n",
      "[*********************100%***********************]  1 of 1 completed\n",
      "Entrenando para MDLZ...\n",
      "\n"
     ]
    },
    {
     "name": "stderr",
     "output_type": "stream",
     "text": [
      "100%|█████████████████████████████████████████| 100/100 [00:42<00:00,  2.33it/s]\n"
     ]
    },
    {
     "name": "stdout",
     "output_type": "stream",
     "text": [
      "[*********************100%***********************]  1 of 1 completed\n",
      "Ticker: MDLZ\n",
      "Rentabilidad: -7.41%\n",
      "\n",
      "[*********************100%***********************]  1 of 1 completed\n",
      "Entrenando para MDT...\n",
      "\n"
     ]
    },
    {
     "name": "stderr",
     "output_type": "stream",
     "text": [
      "100%|█████████████████████████████████████████| 100/100 [00:42<00:00,  2.33it/s]\n"
     ]
    },
    {
     "name": "stdout",
     "output_type": "stream",
     "text": [
      "[*********************100%***********************]  1 of 1 completed\n",
      "Ticker: MDT\n",
      "Rentabilidad: -48.3%\n",
      "\n",
      "[*********************100%***********************]  1 of 1 completed\n",
      "Entrenando para MET...\n",
      "\n"
     ]
    },
    {
     "name": "stderr",
     "output_type": "stream",
     "text": [
      "100%|█████████████████████████████████████████| 100/100 [00:42<00:00,  2.33it/s]\n"
     ]
    },
    {
     "name": "stdout",
     "output_type": "stream",
     "text": [
      "[*********************100%***********************]  1 of 1 completed\n",
      "Ticker: MET\n",
      "Rentabilidad: -32.93%\n",
      "\n",
      "[*********************100%***********************]  1 of 1 completed\n",
      "Entrenando para MGM...\n",
      "\n"
     ]
    },
    {
     "name": "stderr",
     "output_type": "stream",
     "text": [
      "100%|█████████████████████████████████████████| 100/100 [00:43<00:00,  2.32it/s]\n"
     ]
    },
    {
     "name": "stdout",
     "output_type": "stream",
     "text": [
      "[*********************100%***********************]  1 of 1 completed\n",
      "Ticker: MGM\n",
      "Rentabilidad: -68.03%\n",
      "\n",
      "[*********************100%***********************]  1 of 1 completed\n",
      "Entrenando para MHK...\n",
      "\n"
     ]
    },
    {
     "name": "stderr",
     "output_type": "stream",
     "text": [
      "100%|█████████████████████████████████████████| 100/100 [00:42<00:00,  2.33it/s]"
     ]
    },
    {
     "name": "stdout",
     "output_type": "stream",
     "text": [
      "\r",
      "[*********************100%***********************]  1 of 1 completed"
     ]
    },
    {
     "name": "stderr",
     "output_type": "stream",
     "text": [
      "\n"
     ]
    },
    {
     "name": "stdout",
     "output_type": "stream",
     "text": [
      "\n",
      "Ticker: MHK\n",
      "Rentabilidad: 1.93%\n",
      "\n",
      "[*********************100%***********************]  1 of 1 completed\n",
      "Entrenando para MKC...\n",
      "\n"
     ]
    },
    {
     "name": "stderr",
     "output_type": "stream",
     "text": [
      "100%|█████████████████████████████████████████| 100/100 [00:43<00:00,  2.32it/s]\n"
     ]
    },
    {
     "name": "stdout",
     "output_type": "stream",
     "text": [
      "[*********************100%***********************]  1 of 1 completed\n",
      "Ticker: MKC\n",
      "Rentabilidad: -60.63%\n",
      "\n",
      "[*********************100%***********************]  1 of 1 completed\n",
      "Entrenando para MKTX...\n",
      "\n"
     ]
    },
    {
     "name": "stderr",
     "output_type": "stream",
     "text": [
      "100%|█████████████████████████████████████████| 100/100 [00:43<00:00,  2.33it/s]\n"
     ]
    },
    {
     "name": "stdout",
     "output_type": "stream",
     "text": [
      "[*********************100%***********************]  1 of 1 completed\n",
      "Ticker: MKTX\n",
      "Rentabilidad: 29.66%\n",
      "\n",
      "[*********************100%***********************]  1 of 1 completed\n",
      "Entrenando para MLM...\n",
      "\n"
     ]
    },
    {
     "name": "stderr",
     "output_type": "stream",
     "text": [
      "100%|█████████████████████████████████████████| 100/100 [00:42<00:00,  2.33it/s]\n"
     ]
    },
    {
     "name": "stdout",
     "output_type": "stream",
     "text": [
      "[*********************100%***********************]  1 of 1 completed\n",
      "Ticker: MLM\n",
      "Rentabilidad: 71.08%\n",
      "\n",
      "[*********************100%***********************]  1 of 1 completed\n",
      "Entrenando para MMC...\n",
      "\n"
     ]
    },
    {
     "name": "stderr",
     "output_type": "stream",
     "text": [
      "100%|█████████████████████████████████████████| 100/100 [00:42<00:00,  2.33it/s]\n"
     ]
    },
    {
     "name": "stdout",
     "output_type": "stream",
     "text": [
      "[*********************100%***********************]  1 of 1 completed\n",
      "Ticker: MMC\n",
      "Rentabilidad: -5.92%\n",
      "\n",
      "[*********************100%***********************]  1 of 1 completed\n",
      "Entrenando para MMM...\n",
      "\n"
     ]
    },
    {
     "name": "stderr",
     "output_type": "stream",
     "text": [
      "100%|█████████████████████████████████████████| 100/100 [00:43<00:00,  2.32it/s]\n"
     ]
    },
    {
     "name": "stdout",
     "output_type": "stream",
     "text": [
      "[*********************100%***********************]  1 of 1 completed\n",
      "Ticker: MMM\n",
      "Rentabilidad: -54.67%\n",
      "\n",
      "[*********************100%***********************]  1 of 1 completed\n",
      "Entrenando para MNST...\n",
      "\n"
     ]
    },
    {
     "name": "stderr",
     "output_type": "stream",
     "text": [
      "100%|█████████████████████████████████████████| 100/100 [00:42<00:00,  2.33it/s]"
     ]
    },
    {
     "name": "stdout",
     "output_type": "stream",
     "text": [
      "\r",
      "[*********************100%***********************]  1 of 1 completed"
     ]
    },
    {
     "name": "stderr",
     "output_type": "stream",
     "text": [
      "\n"
     ]
    },
    {
     "name": "stdout",
     "output_type": "stream",
     "text": [
      "\n",
      "Ticker: MNST\n",
      "Rentabilidad: -25.22%\n",
      "\n",
      "[*********************100%***********************]  1 of 1 completed\n",
      "Entrenando para MO...\n",
      "\n"
     ]
    },
    {
     "name": "stderr",
     "output_type": "stream",
     "text": [
      "100%|█████████████████████████████████████████| 100/100 [00:42<00:00,  2.33it/s]\n"
     ]
    },
    {
     "name": "stdout",
     "output_type": "stream",
     "text": [
      "[*********************100%***********************]  1 of 1 completed\n",
      "Ticker: MO\n",
      "Rentabilidad: 28.97%\n",
      "\n",
      "[*********************100%***********************]  1 of 1 completed\n",
      "Entrenando para MOH...\n",
      "\n"
     ]
    },
    {
     "name": "stderr",
     "output_type": "stream",
     "text": [
      "100%|█████████████████████████████████████████| 100/100 [00:42<00:00,  2.33it/s]"
     ]
    },
    {
     "name": "stdout",
     "output_type": "stream",
     "text": [
      "\r",
      "[*********************100%***********************]  1 of 1 completed"
     ]
    },
    {
     "name": "stderr",
     "output_type": "stream",
     "text": [
      "\n"
     ]
    },
    {
     "name": "stdout",
     "output_type": "stream",
     "text": [
      "\n",
      "Ticker: MOH\n",
      "Rentabilidad: -18.44%\n",
      "\n",
      "[*********************100%***********************]  1 of 1 completed\n",
      "Entrenando para MOS...\n",
      "\n"
     ]
    },
    {
     "name": "stderr",
     "output_type": "stream",
     "text": [
      "100%|█████████████████████████████████████████| 100/100 [00:42<00:00,  2.34it/s]\n"
     ]
    },
    {
     "name": "stdout",
     "output_type": "stream",
     "text": [
      "[*********************100%***********************]  1 of 1 completed\n",
      "Ticker: MOS\n",
      "Rentabilidad: -2.45%\n",
      "\n",
      "[*********************100%***********************]  1 of 1 completed\n",
      "Entrenando para MPC...\n",
      "\n"
     ]
    },
    {
     "name": "stderr",
     "output_type": "stream",
     "text": [
      "100%|█████████████████████████████████████████| 100/100 [00:42<00:00,  2.34it/s]"
     ]
    },
    {
     "name": "stdout",
     "output_type": "stream",
     "text": [
      "\r",
      "[*********************100%***********************]  1 of 1 completed"
     ]
    },
    {
     "name": "stderr",
     "output_type": "stream",
     "text": [
      "\n"
     ]
    },
    {
     "name": "stdout",
     "output_type": "stream",
     "text": [
      "\n",
      "Ticker: MPC\n",
      "Rentabilidad: -43.54%\n",
      "\n",
      "[*********************100%***********************]  1 of 1 completed\n",
      "Entrenando para MPWR...\n",
      "\n"
     ]
    },
    {
     "name": "stderr",
     "output_type": "stream",
     "text": [
      "100%|█████████████████████████████████████████| 100/100 [00:42<00:00,  2.33it/s]\n"
     ]
    },
    {
     "name": "stdout",
     "output_type": "stream",
     "text": [
      "[*********************100%***********************]  1 of 1 completed\n",
      "Ticker: MPWR\n",
      "Rentabilidad: 23.23%\n",
      "\n",
      "[*********************100%***********************]  1 of 1 completed\n",
      "Entrenando para MRK...\n",
      "\n"
     ]
    },
    {
     "name": "stderr",
     "output_type": "stream",
     "text": [
      "100%|█████████████████████████████████████████| 100/100 [00:42<00:00,  2.34it/s]\n"
     ]
    },
    {
     "name": "stdout",
     "output_type": "stream",
     "text": [
      "[*********************100%***********************]  1 of 1 completed\n",
      "Ticker: MRK\n",
      "Rentabilidad: 47.6%\n",
      "\n",
      "[*********************100%***********************]  1 of 1 completed\n",
      "Entrenando para MRO...\n",
      "\n"
     ]
    },
    {
     "name": "stderr",
     "output_type": "stream",
     "text": [
      "100%|█████████████████████████████████████████| 100/100 [00:42<00:00,  2.34it/s]\n"
     ]
    },
    {
     "name": "stdout",
     "output_type": "stream",
     "text": [
      "[*********************100%***********************]  1 of 1 completed\n",
      "Ticker: MRO\n",
      "Rentabilidad: -74.65%\n",
      "\n",
      "[*********************100%***********************]  1 of 1 completed\n",
      "Entrenando para MS...\n",
      "\n"
     ]
    },
    {
     "name": "stderr",
     "output_type": "stream",
     "text": [
      "100%|█████████████████████████████████████████| 100/100 [00:42<00:00,  2.33it/s]\n"
     ]
    },
    {
     "name": "stdout",
     "output_type": "stream",
     "text": [
      "[*********************100%***********************]  1 of 1 completed\n",
      "Ticker: MS\n",
      "Rentabilidad: -22.28%\n",
      "\n",
      "[*********************100%***********************]  1 of 1 completed\n",
      "Entrenando para MSCI...\n",
      "\n"
     ]
    },
    {
     "name": "stderr",
     "output_type": "stream",
     "text": [
      "100%|█████████████████████████████████████████| 100/100 [00:42<00:00,  2.33it/s]"
     ]
    },
    {
     "name": "stdout",
     "output_type": "stream",
     "text": [
      "\r",
      "[*********************100%***********************]  1 of 1 completed"
     ]
    },
    {
     "name": "stderr",
     "output_type": "stream",
     "text": [
      "\n"
     ]
    },
    {
     "name": "stdout",
     "output_type": "stream",
     "text": [
      "\n",
      "Ticker: MSCI\n",
      "Rentabilidad: 1.46%\n",
      "\n",
      "[*********************100%***********************]  1 of 1 completed\n",
      "Entrenando para MSFT...\n",
      "\n"
     ]
    },
    {
     "name": "stderr",
     "output_type": "stream",
     "text": [
      "100%|█████████████████████████████████████████| 100/100 [00:42<00:00,  2.33it/s]\n"
     ]
    },
    {
     "name": "stdout",
     "output_type": "stream",
     "text": [
      "[*********************100%***********************]  1 of 1 completed\n",
      "Ticker: MSFT\n",
      "Rentabilidad: -10.36%\n",
      "\n",
      "[*********************100%***********************]  1 of 1 completed\n",
      "Entrenando para MSI...\n",
      "\n"
     ]
    },
    {
     "name": "stderr",
     "output_type": "stream",
     "text": [
      "100%|█████████████████████████████████████████| 100/100 [00:42<00:00,  2.33it/s]\n"
     ]
    },
    {
     "name": "stdout",
     "output_type": "stream",
     "text": [
      "[*********************100%***********************]  1 of 1 completed\n",
      "Ticker: MSI\n",
      "Rentabilidad: 186.38%\n",
      "\n",
      "[*********************100%***********************]  1 of 1 completed\n",
      "Entrenando para MTB...\n",
      "\n"
     ]
    },
    {
     "name": "stderr",
     "output_type": "stream",
     "text": [
      "100%|█████████████████████████████████████████| 100/100 [00:42<00:00,  2.33it/s]\n"
     ]
    },
    {
     "name": "stdout",
     "output_type": "stream",
     "text": [
      "[*********************100%***********************]  1 of 1 completed\n",
      "Ticker: MTB\n",
      "Rentabilidad: 46.18%\n",
      "\n",
      "[*********************100%***********************]  1 of 1 completed\n",
      "Entrenando para MTCH...\n",
      "\n"
     ]
    },
    {
     "name": "stderr",
     "output_type": "stream",
     "text": [
      "100%|█████████████████████████████████████████| 100/100 [00:42<00:00,  2.34it/s]"
     ]
    },
    {
     "name": "stdout",
     "output_type": "stream",
     "text": [
      "\r",
      "[*********************100%***********************]  1 of 1 completed"
     ]
    },
    {
     "name": "stderr",
     "output_type": "stream",
     "text": [
      "\n"
     ]
    },
    {
     "name": "stdout",
     "output_type": "stream",
     "text": [
      "\n",
      "Ticker: MTCH\n",
      "Rentabilidad: -80.28%\n",
      "\n",
      "[*********************100%***********************]  1 of 1 completed\n",
      "Entrenando para MTD...\n",
      "\n"
     ]
    },
    {
     "name": "stderr",
     "output_type": "stream",
     "text": [
      "100%|█████████████████████████████████████████| 100/100 [00:43<00:00,  2.31it/s]"
     ]
    },
    {
     "name": "stdout",
     "output_type": "stream",
     "text": [
      "\r",
      "[*********************100%***********************]  1 of 1 completed"
     ]
    },
    {
     "name": "stderr",
     "output_type": "stream",
     "text": [
      "\n"
     ]
    },
    {
     "name": "stdout",
     "output_type": "stream",
     "text": [
      "\n",
      "Ticker: MTD\n",
      "Rentabilidad: 60.34%\n",
      "\n",
      "[*********************100%***********************]  1 of 1 completed\n",
      "Entrenando para MU...\n",
      "\n"
     ]
    },
    {
     "name": "stderr",
     "output_type": "stream",
     "text": [
      "100%|█████████████████████████████████████████| 100/100 [00:42<00:00,  2.33it/s]\n"
     ]
    },
    {
     "name": "stdout",
     "output_type": "stream",
     "text": [
      "[*********************100%***********************]  1 of 1 completed\n",
      "Ticker: MU\n",
      "Rentabilidad: 41.04%\n",
      "\n",
      "[*********************100%***********************]  1 of 1 completed\n",
      "Entrenando para NDAQ...\n",
      "\n"
     ]
    },
    {
     "name": "stderr",
     "output_type": "stream",
     "text": [
      "100%|█████████████████████████████████████████| 100/100 [00:42<00:00,  2.33it/s]"
     ]
    },
    {
     "name": "stdout",
     "output_type": "stream",
     "text": [
      "\r",
      "[*********************100%***********************]  1 of 1 completed"
     ]
    },
    {
     "name": "stderr",
     "output_type": "stream",
     "text": [
      "\n"
     ]
    },
    {
     "name": "stdout",
     "output_type": "stream",
     "text": [
      "\n",
      "Ticker: NDAQ\n",
      "Rentabilidad: 159.79%\n",
      "\n",
      "[*********************100%***********************]  1 of 1 completed\n",
      "Entrenando para NDSN...\n",
      "\n"
     ]
    },
    {
     "name": "stderr",
     "output_type": "stream",
     "text": [
      "100%|█████████████████████████████████████████| 100/100 [00:42<00:00,  2.34it/s]\n"
     ]
    },
    {
     "name": "stdout",
     "output_type": "stream",
     "text": [
      "[*********************100%***********************]  1 of 1 completed\n",
      "Ticker: NDSN\n",
      "Rentabilidad: -29.32%\n",
      "\n",
      "[*********************100%***********************]  1 of 1 completed\n",
      "Entrenando para NEE...\n",
      "\n"
     ]
    },
    {
     "name": "stderr",
     "output_type": "stream",
     "text": [
      "100%|█████████████████████████████████████████| 100/100 [00:42<00:00,  2.33it/s]\n"
     ]
    },
    {
     "name": "stdout",
     "output_type": "stream",
     "text": [
      "[*********************100%***********************]  1 of 1 completed\n",
      "Ticker: NEE\n",
      "Rentabilidad: -40.01%\n",
      "\n",
      "[*********************100%***********************]  1 of 1 completed\n",
      "Entrenando para NEM...\n",
      "\n"
     ]
    },
    {
     "name": "stderr",
     "output_type": "stream",
     "text": [
      "100%|█████████████████████████████████████████| 100/100 [00:42<00:00,  2.33it/s]\n"
     ]
    },
    {
     "name": "stdout",
     "output_type": "stream",
     "text": [
      "[*********************100%***********************]  1 of 1 completed\n",
      "Ticker: NEM\n",
      "Rentabilidad: -13.77%\n",
      "\n",
      "[*********************100%***********************]  1 of 1 completed\n",
      "Entrenando para NFLX...\n",
      "\n"
     ]
    },
    {
     "name": "stderr",
     "output_type": "stream",
     "text": [
      "100%|█████████████████████████████████████████| 100/100 [00:43<00:00,  2.33it/s]"
     ]
    },
    {
     "name": "stdout",
     "output_type": "stream",
     "text": [
      "\r",
      "[*********************100%***********************]  1 of 1 completed"
     ]
    },
    {
     "name": "stderr",
     "output_type": "stream",
     "text": [
      "\n"
     ]
    },
    {
     "name": "stdout",
     "output_type": "stream",
     "text": [
      "\n",
      "Ticker: NFLX\n",
      "Rentabilidad: 195.98%\n",
      "\n",
      "[*********************100%***********************]  1 of 1 completed\n",
      "Entrenando para NI...\n",
      "\n"
     ]
    },
    {
     "name": "stderr",
     "output_type": "stream",
     "text": [
      "100%|█████████████████████████████████████████| 100/100 [00:42<00:00,  2.33it/s]\n"
     ]
    },
    {
     "name": "stdout",
     "output_type": "stream",
     "text": [
      "[*********************100%***********************]  1 of 1 completed\n",
      "Ticker: NI\n",
      "Rentabilidad: -7.48%\n",
      "\n",
      "[*********************100%***********************]  1 of 1 completed\n",
      "Entrenando para NKE...\n",
      "\n"
     ]
    },
    {
     "name": "stderr",
     "output_type": "stream",
     "text": [
      "100%|█████████████████████████████████████████| 100/100 [00:43<00:00,  2.32it/s]\n"
     ]
    },
    {
     "name": "stdout",
     "output_type": "stream",
     "text": [
      "[*********************100%***********************]  1 of 1 completed\n",
      "Ticker: NKE\n",
      "Rentabilidad: 36.41%\n",
      "\n",
      "[*********************100%***********************]  1 of 1 completed\n",
      "Entrenando para GEN...\n",
      "\n"
     ]
    },
    {
     "name": "stderr",
     "output_type": "stream",
     "text": [
      "100%|█████████████████████████████████████████| 100/100 [00:43<00:00,  2.32it/s]\n"
     ]
    },
    {
     "name": "stdout",
     "output_type": "stream",
     "text": [
      "[*********************100%***********************]  1 of 1 completed\n",
      "Ticker: GEN\n",
      "Rentabilidad: -47.0%\n",
      "\n",
      "[*********************100%***********************]  1 of 1 completed\n",
      "Entrenando para NOC...\n",
      "\n"
     ]
    },
    {
     "name": "stderr",
     "output_type": "stream",
     "text": [
      "100%|█████████████████████████████████████████| 100/100 [00:43<00:00,  2.31it/s]\n"
     ]
    },
    {
     "name": "stdout",
     "output_type": "stream",
     "text": [
      "[*********************100%***********************]  1 of 1 completed\n",
      "Ticker: NOC\n",
      "Rentabilidad: 117.45%\n",
      "\n",
      "[*********************100%***********************]  1 of 1 completed\n",
      "Entrenando para NRG...\n",
      "\n"
     ]
    },
    {
     "name": "stderr",
     "output_type": "stream",
     "text": [
      "100%|█████████████████████████████████████████| 100/100 [00:43<00:00,  2.30it/s]\n"
     ]
    },
    {
     "name": "stdout",
     "output_type": "stream",
     "text": [
      "[*********************100%***********************]  1 of 1 completed\n",
      "Ticker: NRG\n",
      "Rentabilidad: -62.55%\n",
      "\n",
      "[*********************100%***********************]  1 of 1 completed\n",
      "Entrenando para NSC...\n",
      "\n"
     ]
    },
    {
     "name": "stderr",
     "output_type": "stream",
     "text": [
      "100%|█████████████████████████████████████████| 100/100 [00:43<00:00,  2.31it/s]\n"
     ]
    },
    {
     "name": "stdout",
     "output_type": "stream",
     "text": [
      "[*********************100%***********************]  1 of 1 completed\n",
      "Ticker: NSC\n",
      "Rentabilidad: -35.24%\n",
      "\n",
      "[*********************100%***********************]  1 of 1 completed\n",
      "Entrenando para NTAP...\n",
      "\n"
     ]
    },
    {
     "name": "stderr",
     "output_type": "stream",
     "text": [
      "100%|█████████████████████████████████████████| 100/100 [00:43<00:00,  2.30it/s]\n"
     ]
    },
    {
     "name": "stdout",
     "output_type": "stream",
     "text": [
      "[*********************100%***********************]  1 of 1 completed\n",
      "Ticker: NTAP\n",
      "Rentabilidad: 0.04%\n",
      "\n",
      "[*********************100%***********************]  1 of 1 completed\n",
      "Entrenando para NTRS...\n",
      "\n"
     ]
    },
    {
     "name": "stderr",
     "output_type": "stream",
     "text": [
      "100%|█████████████████████████████████████████| 100/100 [00:43<00:00,  2.31it/s]\n"
     ]
    },
    {
     "name": "stdout",
     "output_type": "stream",
     "text": [
      "[*********************100%***********************]  1 of 1 completed\n",
      "Ticker: NTRS\n",
      "Rentabilidad: -24.13%\n",
      "\n",
      "[*********************100%***********************]  1 of 1 completed\n",
      "Entrenando para NUE...\n",
      "\n"
     ]
    },
    {
     "name": "stderr",
     "output_type": "stream",
     "text": [
      "100%|█████████████████████████████████████████| 100/100 [00:43<00:00,  2.32it/s]\n"
     ]
    },
    {
     "name": "stdout",
     "output_type": "stream",
     "text": [
      "[*********************100%***********************]  1 of 1 completed\n",
      "Ticker: NUE\n",
      "Rentabilidad: -30.67%\n",
      "\n",
      "[*********************100%***********************]  1 of 1 completed\n",
      "Entrenando para NVDA...\n",
      "\n"
     ]
    },
    {
     "name": "stderr",
     "output_type": "stream",
     "text": [
      "100%|█████████████████████████████████████████| 100/100 [00:42<00:00,  2.33it/s]"
     ]
    },
    {
     "name": "stdout",
     "output_type": "stream",
     "text": [
      "\r",
      "[*********************100%***********************]  1 of 1 completed"
     ]
    },
    {
     "name": "stderr",
     "output_type": "stream",
     "text": [
      "\n"
     ]
    },
    {
     "name": "stdout",
     "output_type": "stream",
     "text": [
      "\n",
      "Ticker: NVDA\n",
      "Rentabilidad: -23.54%\n",
      "\n",
      "[*********************100%***********************]  1 of 1 completed\n",
      "Entrenando para NVR...\n",
      "\n"
     ]
    },
    {
     "name": "stderr",
     "output_type": "stream",
     "text": [
      "100%|█████████████████████████████████████████| 100/100 [00:42<00:00,  2.33it/s]"
     ]
    },
    {
     "name": "stdout",
     "output_type": "stream",
     "text": [
      "\r",
      "[*********************100%***********************]  1 of 1 completed"
     ]
    },
    {
     "name": "stderr",
     "output_type": "stream",
     "text": [
      "\n"
     ]
    },
    {
     "name": "stdout",
     "output_type": "stream",
     "text": [
      "\n",
      "Ticker: NVR\n",
      "Rentabilidad: -8.28%\n",
      "\n",
      "[*********************100%***********************]  1 of 1 completed\n",
      "Entrenando para NWL...\n",
      "\n"
     ]
    },
    {
     "name": "stderr",
     "output_type": "stream",
     "text": [
      "100%|█████████████████████████████████████████| 100/100 [00:42<00:00,  2.33it/s]\n"
     ]
    },
    {
     "name": "stdout",
     "output_type": "stream",
     "text": [
      "[*********************100%***********************]  1 of 1 completed\n",
      "Ticker: NWL\n",
      "Rentabilidad: 59.95%\n",
      "\n",
      "[*********************100%***********************]  1 of 1 completed\n",
      "Entrenando para NXPI...\n",
      "\n"
     ]
    },
    {
     "name": "stderr",
     "output_type": "stream",
     "text": [
      "100%|█████████████████████████████████████████| 100/100 [00:42<00:00,  2.33it/s]"
     ]
    },
    {
     "name": "stdout",
     "output_type": "stream",
     "text": [
      "\r",
      "[*********************100%***********************]  1 of 1 completed"
     ]
    },
    {
     "name": "stderr",
     "output_type": "stream",
     "text": [
      "\n"
     ]
    },
    {
     "name": "stdout",
     "output_type": "stream",
     "text": [
      "\n",
      "Ticker: NXPI\n",
      "Rentabilidad: -36.95%\n",
      "\n",
      "[*********************100%***********************]  1 of 1 completed\n",
      "Entrenando para O...\n",
      "\n"
     ]
    },
    {
     "name": "stderr",
     "output_type": "stream",
     "text": [
      "100%|█████████████████████████████████████████| 100/100 [00:42<00:00,  2.33it/s]\n"
     ]
    },
    {
     "name": "stdout",
     "output_type": "stream",
     "text": [
      "[*********************100%***********************]  1 of 1 completed\n",
      "Ticker: O\n",
      "Rentabilidad: 240.47%\n",
      "\n",
      "[*********************100%***********************]  1 of 1 completed\n",
      "Entrenando para ODFL...\n",
      "\n"
     ]
    },
    {
     "name": "stderr",
     "output_type": "stream",
     "text": [
      "100%|█████████████████████████████████████████| 100/100 [00:43<00:00,  2.32it/s]"
     ]
    },
    {
     "name": "stdout",
     "output_type": "stream",
     "text": [
      "\r",
      "[*********************100%***********************]  1 of 1 completed"
     ]
    },
    {
     "name": "stderr",
     "output_type": "stream",
     "text": [
      "\n"
     ]
    },
    {
     "name": "stdout",
     "output_type": "stream",
     "text": [
      "\n",
      "Ticker: ODFL\n",
      "Rentabilidad: 102.68%\n",
      "\n",
      "[*********************100%***********************]  1 of 1 completed\n",
      "Entrenando para OKE...\n",
      "\n"
     ]
    },
    {
     "name": "stderr",
     "output_type": "stream",
     "text": [
      "100%|█████████████████████████████████████████| 100/100 [00:42<00:00,  2.33it/s]\n"
     ]
    },
    {
     "name": "stdout",
     "output_type": "stream",
     "text": [
      "[*********************100%***********************]  1 of 1 completed\n",
      "Ticker: OKE\n",
      "Rentabilidad: 172.97%\n",
      "\n",
      "[*********************100%***********************]  1 of 1 completed\n",
      "Entrenando para OMC...\n",
      "\n"
     ]
    },
    {
     "name": "stderr",
     "output_type": "stream",
     "text": [
      "100%|█████████████████████████████████████████| 100/100 [00:43<00:00,  2.32it/s]\n"
     ]
    },
    {
     "name": "stdout",
     "output_type": "stream",
     "text": [
      "[*********************100%***********************]  1 of 1 completed\n",
      "Ticker: OMC\n",
      "Rentabilidad: 35.2%\n",
      "\n",
      "[*********************100%***********************]  1 of 1 completed\n",
      "Entrenando para ON...\n",
      "\n"
     ]
    },
    {
     "name": "stderr",
     "output_type": "stream",
     "text": [
      "100%|█████████████████████████████████████████| 100/100 [00:42<00:00,  2.33it/s]"
     ]
    },
    {
     "name": "stdout",
     "output_type": "stream",
     "text": [
      "\r",
      "[*********************100%***********************]  1 of 1 completed"
     ]
    },
    {
     "name": "stderr",
     "output_type": "stream",
     "text": [
      "\n"
     ]
    },
    {
     "name": "stdout",
     "output_type": "stream",
     "text": [
      "\n",
      "Ticker: ON\n",
      "Rentabilidad: 24.87%\n",
      "\n",
      "[*********************100%***********************]  1 of 1 completed\n",
      "Entrenando para ORCL...\n",
      "\n"
     ]
    },
    {
     "name": "stderr",
     "output_type": "stream",
     "text": [
      "100%|█████████████████████████████████████████| 100/100 [00:42<00:00,  2.33it/s]\n"
     ]
    },
    {
     "name": "stdout",
     "output_type": "stream",
     "text": [
      "[*********************100%***********************]  1 of 1 completed\n",
      "Ticker: ORCL\n",
      "Rentabilidad: -29.77%\n",
      "\n",
      "[*********************100%***********************]  1 of 1 completed\n",
      "Entrenando para ORLY...\n",
      "\n"
     ]
    },
    {
     "name": "stderr",
     "output_type": "stream",
     "text": [
      "100%|█████████████████████████████████████████| 100/100 [00:42<00:00,  2.33it/s]\n"
     ]
    },
    {
     "name": "stdout",
     "output_type": "stream",
     "text": [
      "[*********************100%***********************]  1 of 1 completed\n",
      "Ticker: ORLY\n",
      "Rentabilidad: -32.43%\n",
      "\n",
      "[*********************100%***********************]  1 of 1 completed\n",
      "Entrenando para OXY...\n",
      "\n"
     ]
    },
    {
     "name": "stderr",
     "output_type": "stream",
     "text": [
      "100%|█████████████████████████████████████████| 100/100 [00:42<00:00,  2.33it/s]\n"
     ]
    },
    {
     "name": "stdout",
     "output_type": "stream",
     "text": [
      "[*********************100%***********************]  1 of 1 completed\n",
      "Ticker: OXY\n",
      "Rentabilidad: -87.92%\n",
      "\n",
      "[*********************100%***********************]  1 of 1 completed\n",
      "Entrenando para PARA...\n",
      "\n"
     ]
    },
    {
     "name": "stderr",
     "output_type": "stream",
     "text": [
      "100%|█████████████████████████████████████████| 100/100 [00:42<00:00,  2.33it/s]\n"
     ]
    },
    {
     "name": "stdout",
     "output_type": "stream",
     "text": [
      "[*********************100%***********************]  1 of 1 completed\n",
      "Ticker: PARA\n",
      "Rentabilidad: 273.49%\n",
      "\n",
      "[*********************100%***********************]  1 of 1 completed\n",
      "Entrenando para PAYX...\n",
      "\n"
     ]
    },
    {
     "name": "stderr",
     "output_type": "stream",
     "text": [
      "100%|█████████████████████████████████████████| 100/100 [00:42<00:00,  2.34it/s]\n"
     ]
    },
    {
     "name": "stdout",
     "output_type": "stream",
     "text": [
      "[*********************100%***********************]  1 of 1 completed\n",
      "Ticker: PAYX\n",
      "Rentabilidad: 31.19%\n",
      "\n",
      "[*********************100%***********************]  1 of 1 completed\n",
      "Entrenando para PCAR...\n",
      "\n"
     ]
    },
    {
     "name": "stderr",
     "output_type": "stream",
     "text": [
      "100%|█████████████████████████████████████████| 100/100 [00:42<00:00,  2.33it/s]\n"
     ]
    },
    {
     "name": "stdout",
     "output_type": "stream",
     "text": [
      "[*********************100%***********************]  1 of 1 completed\n",
      "Ticker: PCAR\n",
      "Rentabilidad: -54.9%\n",
      "\n",
      "[*********************100%***********************]  1 of 1 completed\n",
      "Entrenando para PCG...\n",
      "\n"
     ]
    },
    {
     "name": "stderr",
     "output_type": "stream",
     "text": [
      "100%|█████████████████████████████████████████| 100/100 [00:43<00:00,  2.32it/s]\n"
     ]
    },
    {
     "name": "stdout",
     "output_type": "stream",
     "text": [
      "[*********************100%***********************]  1 of 1 completed\n",
      "Ticker: PCG\n",
      "Rentabilidad: -78.35%\n",
      "\n",
      "[*********************100%***********************]  1 of 1 completed\n",
      "Entrenando para PEAK...\n",
      "\n"
     ]
    },
    {
     "name": "stderr",
     "output_type": "stream",
     "text": [
      "100%|█████████████████████████████████████████| 100/100 [00:43<00:00,  2.33it/s]\n"
     ]
    },
    {
     "name": "stdout",
     "output_type": "stream",
     "text": [
      "[*********************100%***********************]  1 of 1 completed\n",
      "Ticker: PEAK\n",
      "Rentabilidad: -4.89%\n",
      "\n",
      "[*********************100%***********************]  1 of 1 completed\n",
      "Entrenando para PEG...\n",
      "\n"
     ]
    },
    {
     "name": "stderr",
     "output_type": "stream",
     "text": [
      "100%|█████████████████████████████████████████| 100/100 [00:42<00:00,  2.33it/s]\n"
     ]
    },
    {
     "name": "stdout",
     "output_type": "stream",
     "text": [
      "[*********************100%***********************]  1 of 1 completed\n",
      "Ticker: PEG\n",
      "Rentabilidad: -29.53%\n",
      "\n",
      "[*********************100%***********************]  1 of 1 completed\n",
      "Entrenando para PEP...\n",
      "\n"
     ]
    },
    {
     "name": "stderr",
     "output_type": "stream",
     "text": [
      "100%|█████████████████████████████████████████| 100/100 [00:42<00:00,  2.33it/s]\n"
     ]
    },
    {
     "name": "stdout",
     "output_type": "stream",
     "text": [
      "[*********************100%***********************]  1 of 1 completed\n",
      "Ticker: PEP\n",
      "Rentabilidad: 56.09%\n",
      "\n",
      "[*********************100%***********************]  1 of 1 completed\n",
      "Entrenando para PFE...\n",
      "\n"
     ]
    },
    {
     "name": "stderr",
     "output_type": "stream",
     "text": [
      "100%|█████████████████████████████████████████| 100/100 [00:42<00:00,  2.33it/s]\n"
     ]
    },
    {
     "name": "stdout",
     "output_type": "stream",
     "text": [
      "[*********************100%***********************]  1 of 1 completed\n",
      "Ticker: PFE\n",
      "Rentabilidad: -42.68%\n",
      "\n",
      "[*********************100%***********************]  1 of 1 completed\n",
      "Entrenando para PFG...\n",
      "\n"
     ]
    },
    {
     "name": "stderr",
     "output_type": "stream",
     "text": [
      "100%|█████████████████████████████████████████| 100/100 [00:42<00:00,  2.33it/s]\n"
     ]
    },
    {
     "name": "stdout",
     "output_type": "stream",
     "text": [
      "[*********************100%***********************]  1 of 1 completed\n",
      "Ticker: PFG\n",
      "Rentabilidad: 145.1%\n",
      "\n",
      "[*********************100%***********************]  1 of 1 completed\n",
      "Entrenando para PG...\n",
      "\n"
     ]
    },
    {
     "name": "stderr",
     "output_type": "stream",
     "text": [
      "100%|█████████████████████████████████████████| 100/100 [00:42<00:00,  2.33it/s]"
     ]
    },
    {
     "name": "stdout",
     "output_type": "stream",
     "text": [
      "\r",
      "[*********************100%***********************]  1 of 1 completed"
     ]
    },
    {
     "name": "stderr",
     "output_type": "stream",
     "text": [
      "\n"
     ]
    },
    {
     "name": "stdout",
     "output_type": "stream",
     "text": [
      "\n",
      "Ticker: PG\n",
      "Rentabilidad: -35.79%\n",
      "\n",
      "[*********************100%***********************]  1 of 1 completed\n",
      "Entrenando para PGR...\n",
      "\n"
     ]
    },
    {
     "name": "stderr",
     "output_type": "stream",
     "text": [
      "100%|█████████████████████████████████████████| 100/100 [00:43<00:00,  2.31it/s]"
     ]
    },
    {
     "name": "stdout",
     "output_type": "stream",
     "text": [
      "\r",
      "[*********************100%***********************]  1 of 1 completed"
     ]
    },
    {
     "name": "stderr",
     "output_type": "stream",
     "text": [
      "\n"
     ]
    },
    {
     "name": "stdout",
     "output_type": "stream",
     "text": [
      "\n",
      "Ticker: PGR\n",
      "Rentabilidad: -30.03%\n",
      "\n",
      "[*********************100%***********************]  1 of 1 completed\n",
      "Entrenando para PH...\n",
      "\n"
     ]
    },
    {
     "name": "stderr",
     "output_type": "stream",
     "text": [
      "100%|█████████████████████████████████████████| 100/100 [00:42<00:00,  2.33it/s]"
     ]
    },
    {
     "name": "stdout",
     "output_type": "stream",
     "text": [
      "\r",
      "[*********************100%***********************]  1 of 1 completed"
     ]
    },
    {
     "name": "stderr",
     "output_type": "stream",
     "text": [
      "\n"
     ]
    },
    {
     "name": "stdout",
     "output_type": "stream",
     "text": [
      "\n",
      "Ticker: PH\n",
      "Rentabilidad: 40.25%\n",
      "\n",
      "[*********************100%***********************]  1 of 1 completed\n",
      "Entrenando para PHM...\n",
      "\n"
     ]
    },
    {
     "name": "stderr",
     "output_type": "stream",
     "text": [
      "100%|█████████████████████████████████████████| 100/100 [00:42<00:00,  2.33it/s]"
     ]
    },
    {
     "name": "stdout",
     "output_type": "stream",
     "text": [
      "\r",
      "[*********************100%***********************]  1 of 1 completed"
     ]
    },
    {
     "name": "stderr",
     "output_type": "stream",
     "text": [
      "\n"
     ]
    },
    {
     "name": "stdout",
     "output_type": "stream",
     "text": [
      "\n",
      "Ticker: PHM\n",
      "Rentabilidad: -50.64%\n",
      "\n",
      "[*********************100%***********************]  1 of 1 completed\n",
      "Entrenando para PKG...\n",
      "\n"
     ]
    },
    {
     "name": "stderr",
     "output_type": "stream",
     "text": [
      "100%|█████████████████████████████████████████| 100/100 [00:42<00:00,  2.33it/s]\n"
     ]
    },
    {
     "name": "stdout",
     "output_type": "stream",
     "text": [
      "[*********************100%***********************]  1 of 1 completed\n",
      "Ticker: PKG\n",
      "Rentabilidad: 24.64%\n",
      "\n",
      "[*********************100%***********************]  1 of 1 completed\n",
      "Entrenando para PKI...\n",
      "\n"
     ]
    },
    {
     "name": "stderr",
     "output_type": "stream",
     "text": [
      "100%|█████████████████████████████████████████| 100/100 [00:43<00:00,  2.32it/s]\n"
     ]
    },
    {
     "name": "stdout",
     "output_type": "stream",
     "text": [
      "[*********************100%***********************]  1 of 1 completed\n",
      "Ticker: PKI\n",
      "Rentabilidad: -51.8%\n",
      "\n",
      "[*********************100%***********************]  1 of 1 completed\n",
      "Entrenando para PLD...\n",
      "\n"
     ]
    },
    {
     "name": "stderr",
     "output_type": "stream",
     "text": [
      "100%|█████████████████████████████████████████| 100/100 [00:43<00:00,  2.32it/s]"
     ]
    },
    {
     "name": "stdout",
     "output_type": "stream",
     "text": [
      "\r",
      "[*********************100%***********************]  1 of 1 completed"
     ]
    },
    {
     "name": "stderr",
     "output_type": "stream",
     "text": [
      "\n"
     ]
    },
    {
     "name": "stdout",
     "output_type": "stream",
     "text": [
      "\n",
      "Ticker: PLD\n",
      "Rentabilidad: -14.94%\n",
      "\n",
      "[*********************100%***********************]  1 of 1 completed\n",
      "Entrenando para PM...\n",
      "\n"
     ]
    },
    {
     "name": "stderr",
     "output_type": "stream",
     "text": [
      "100%|█████████████████████████████████████████| 100/100 [00:43<00:00,  2.30it/s]\n"
     ]
    },
    {
     "name": "stdout",
     "output_type": "stream",
     "text": [
      "[*********************100%***********************]  1 of 1 completed\n",
      "Ticker: PM\n",
      "Rentabilidad: -42.03%\n",
      "\n",
      "[*********************100%***********************]  1 of 1 completed\n",
      "Entrenando para PNC...\n",
      "\n"
     ]
    },
    {
     "name": "stderr",
     "output_type": "stream",
     "text": [
      "100%|█████████████████████████████████████████| 100/100 [00:43<00:00,  2.31it/s]\n"
     ]
    },
    {
     "name": "stdout",
     "output_type": "stream",
     "text": [
      "[*********************100%***********************]  1 of 1 completed\n",
      "Ticker: PNC\n",
      "Rentabilidad: 31.4%\n",
      "\n",
      "[*********************100%***********************]  1 of 1 completed\n",
      "Entrenando para PNR...\n",
      "\n"
     ]
    },
    {
     "name": "stderr",
     "output_type": "stream",
     "text": [
      "100%|█████████████████████████████████████████| 100/100 [00:43<00:00,  2.31it/s]\n"
     ]
    },
    {
     "name": "stdout",
     "output_type": "stream",
     "text": [
      "[*********************100%***********************]  1 of 1 completed\n",
      "Ticker: PNR\n",
      "Rentabilidad: -9.62%\n",
      "\n",
      "[*********************100%***********************]  1 of 1 completed\n",
      "Entrenando para PNW...\n",
      "\n"
     ]
    },
    {
     "name": "stderr",
     "output_type": "stream",
     "text": [
      "100%|█████████████████████████████████████████| 100/100 [00:43<00:00,  2.31it/s]\n"
     ]
    },
    {
     "name": "stdout",
     "output_type": "stream",
     "text": [
      "[*********************100%***********************]  1 of 1 completed\n",
      "Ticker: PNW\n",
      "Rentabilidad: -64.2%\n",
      "\n",
      "[*********************100%***********************]  1 of 1 completed\n",
      "Entrenando para POOL...\n",
      "\n"
     ]
    },
    {
     "name": "stderr",
     "output_type": "stream",
     "text": [
      "100%|█████████████████████████████████████████| 100/100 [00:43<00:00,  2.31it/s]\n"
     ]
    },
    {
     "name": "stdout",
     "output_type": "stream",
     "text": [
      "[*********************100%***********************]  1 of 1 completed\n",
      "Ticker: POOL\n",
      "Rentabilidad: 101.03%\n",
      "\n",
      "[*********************100%***********************]  1 of 1 completed\n",
      "Entrenando para PPG...\n",
      "\n"
     ]
    },
    {
     "name": "stderr",
     "output_type": "stream",
     "text": [
      "100%|█████████████████████████████████████████| 100/100 [00:43<00:00,  2.30it/s]\n"
     ]
    },
    {
     "name": "stdout",
     "output_type": "stream",
     "text": [
      "[*********************100%***********************]  1 of 1 completed\n",
      "Ticker: PPG\n",
      "Rentabilidad: -32.35%\n",
      "\n",
      "[*********************100%***********************]  1 of 1 completed\n",
      "Entrenando para PPL...\n",
      "\n"
     ]
    },
    {
     "name": "stderr",
     "output_type": "stream",
     "text": [
      "100%|█████████████████████████████████████████| 100/100 [00:43<00:00,  2.31it/s]\n"
     ]
    },
    {
     "name": "stdout",
     "output_type": "stream",
     "text": [
      "[*********************100%***********************]  1 of 1 completed\n",
      "Ticker: PPL\n",
      "Rentabilidad: -36.61%\n",
      "\n",
      "[*********************100%***********************]  1 of 1 completed\n",
      "Entrenando para PRU...\n",
      "\n"
     ]
    },
    {
     "name": "stderr",
     "output_type": "stream",
     "text": [
      "100%|█████████████████████████████████████████| 100/100 [00:43<00:00,  2.31it/s]\n"
     ]
    },
    {
     "name": "stdout",
     "output_type": "stream",
     "text": [
      "[*********************100%***********************]  1 of 1 completed\n",
      "Ticker: PRU\n",
      "Rentabilidad: 23.4%\n",
      "\n",
      "[*********************100%***********************]  1 of 1 completed\n",
      "Entrenando para PSA...\n",
      "\n"
     ]
    },
    {
     "name": "stderr",
     "output_type": "stream",
     "text": [
      "100%|█████████████████████████████████████████| 100/100 [00:43<00:00,  2.33it/s]\n"
     ]
    },
    {
     "name": "stdout",
     "output_type": "stream",
     "text": [
      "[*********************100%***********************]  1 of 1 completed\n",
      "Ticker: PSA\n",
      "Rentabilidad: 40.91%\n",
      "\n",
      "[*********************100%***********************]  1 of 1 completed\n",
      "Entrenando para PTC...\n",
      "\n"
     ]
    },
    {
     "name": "stderr",
     "output_type": "stream",
     "text": [
      "100%|█████████████████████████████████████████| 100/100 [00:43<00:00,  2.32it/s]"
     ]
    },
    {
     "name": "stdout",
     "output_type": "stream",
     "text": [
      "\r",
      "[*********************100%***********************]  1 of 1 completed"
     ]
    },
    {
     "name": "stderr",
     "output_type": "stream",
     "text": [
      "\n"
     ]
    },
    {
     "name": "stdout",
     "output_type": "stream",
     "text": [
      "\n",
      "Ticker: PTC\n",
      "Rentabilidad: -47.97%\n",
      "\n",
      "[*********************100%***********************]  1 of 1 completed\n",
      "Entrenando para PWR...\n",
      "\n"
     ]
    },
    {
     "name": "stderr",
     "output_type": "stream",
     "text": [
      "100%|█████████████████████████████████████████| 100/100 [00:43<00:00,  2.32it/s]"
     ]
    },
    {
     "name": "stdout",
     "output_type": "stream",
     "text": [
      "\r",
      "[*********************100%***********************]  1 of 1 completed"
     ]
    },
    {
     "name": "stderr",
     "output_type": "stream",
     "text": [
      "\n"
     ]
    },
    {
     "name": "stdout",
     "output_type": "stream",
     "text": [
      "\n",
      "Ticker: PWR\n",
      "Rentabilidad: 2.38%\n",
      "\n",
      "[*********************100%***********************]  1 of 1 completed\n",
      "Entrenando para PXD...\n",
      "\n"
     ]
    },
    {
     "name": "stderr",
     "output_type": "stream",
     "text": [
      "100%|█████████████████████████████████████████| 100/100 [00:44<00:00,  2.26it/s]\n"
     ]
    },
    {
     "name": "stdout",
     "output_type": "stream",
     "text": [
      "[*********************100%***********************]  1 of 1 completed\n",
      "Ticker: PXD\n",
      "Rentabilidad: 155.26%\n",
      "\n",
      "[*********************100%***********************]  1 of 1 completed\n",
      "Entrenando para QCOM...\n",
      "\n"
     ]
    },
    {
     "name": "stderr",
     "output_type": "stream",
     "text": [
      "100%|█████████████████████████████████████████| 100/100 [00:44<00:00,  2.27it/s]\n"
     ]
    },
    {
     "name": "stdout",
     "output_type": "stream",
     "text": [
      "[*********************100%***********************]  1 of 1 completed\n",
      "Ticker: QCOM\n",
      "Rentabilidad: -28.23%\n",
      "\n",
      "[*********************100%***********************]  1 of 1 completed\n",
      "Entrenando para RCL...\n",
      "\n"
     ]
    },
    {
     "name": "stderr",
     "output_type": "stream",
     "text": [
      "100%|█████████████████████████████████████████| 100/100 [00:43<00:00,  2.29it/s]\n"
     ]
    },
    {
     "name": "stdout",
     "output_type": "stream",
     "text": [
      "[*********************100%***********************]  1 of 1 completed\n",
      "Ticker: RCL\n",
      "Rentabilidad: 20.58%\n",
      "\n",
      "[*********************100%***********************]  1 of 1 completed\n",
      "Entrenando para RE...\n",
      "\n"
     ]
    },
    {
     "name": "stderr",
     "output_type": "stream",
     "text": [
      "100%|█████████████████████████████████████████| 100/100 [00:43<00:00,  2.31it/s]"
     ]
    },
    {
     "name": "stdout",
     "output_type": "stream",
     "text": [
      "\r",
      "[*********************100%***********************]  1 of 1 completed"
     ]
    },
    {
     "name": "stderr",
     "output_type": "stream",
     "text": [
      "\n"
     ]
    },
    {
     "name": "stdout",
     "output_type": "stream",
     "text": [
      "\n",
      "Ticker: RE\n",
      "Rentabilidad: 30.72%\n",
      "\n",
      "[*********************100%***********************]  1 of 1 completed\n",
      "Entrenando para REG...\n",
      "\n"
     ]
    },
    {
     "name": "stderr",
     "output_type": "stream",
     "text": [
      "100%|█████████████████████████████████████████| 100/100 [00:43<00:00,  2.32it/s]\n"
     ]
    },
    {
     "name": "stdout",
     "output_type": "stream",
     "text": [
      "[*********************100%***********************]  1 of 1 completed\n",
      "Ticker: REG\n",
      "Rentabilidad: -7.67%\n",
      "\n",
      "[*********************100%***********************]  1 of 1 completed\n",
      "Entrenando para REGN...\n",
      "\n"
     ]
    },
    {
     "name": "stderr",
     "output_type": "stream",
     "text": [
      "100%|█████████████████████████████████████████| 100/100 [00:43<00:00,  2.31it/s]"
     ]
    },
    {
     "name": "stdout",
     "output_type": "stream",
     "text": [
      "\r",
      "[*********************100%***********************]  1 of 1 completed"
     ]
    },
    {
     "name": "stderr",
     "output_type": "stream",
     "text": [
      "\n"
     ]
    },
    {
     "name": "stdout",
     "output_type": "stream",
     "text": [
      "\n",
      "Ticker: REGN\n",
      "Rentabilidad: -17.91%\n",
      "\n",
      "[*********************100%***********************]  1 of 1 completed\n",
      "Entrenando para RF...\n",
      "\n"
     ]
    },
    {
     "name": "stderr",
     "output_type": "stream",
     "text": [
      "100%|█████████████████████████████████████████| 100/100 [00:43<00:00,  2.32it/s]"
     ]
    },
    {
     "name": "stdout",
     "output_type": "stream",
     "text": [
      "\r",
      "[*********************100%***********************]  1 of 1 completed"
     ]
    },
    {
     "name": "stderr",
     "output_type": "stream",
     "text": [
      "\n"
     ]
    },
    {
     "name": "stdout",
     "output_type": "stream",
     "text": [
      "\n",
      "Ticker: RF\n",
      "Rentabilidad: 240.51%\n",
      "\n",
      "[*********************100%***********************]  1 of 1 completed\n",
      "Entrenando para RHI...\n",
      "\n"
     ]
    },
    {
     "name": "stderr",
     "output_type": "stream",
     "text": [
      "100%|█████████████████████████████████████████| 100/100 [00:42<00:00,  2.33it/s]\n"
     ]
    },
    {
     "name": "stdout",
     "output_type": "stream",
     "text": [
      "[*********************100%***********************]  1 of 1 completed\n",
      "Ticker: RHI\n",
      "Rentabilidad: -41.9%\n",
      "\n",
      "[*********************100%***********************]  1 of 1 completed\n",
      "Entrenando para RJF...\n",
      "\n"
     ]
    },
    {
     "name": "stderr",
     "output_type": "stream",
     "text": [
      "100%|█████████████████████████████████████████| 100/100 [00:42<00:00,  2.33it/s]\n"
     ]
    },
    {
     "name": "stdout",
     "output_type": "stream",
     "text": [
      "[*********************100%***********************]  1 of 1 completed\n",
      "Ticker: RJF\n",
      "Rentabilidad: 38.2%\n",
      "\n",
      "[*********************100%***********************]  1 of 1 completed\n",
      "Entrenando para RL...\n",
      "\n"
     ]
    },
    {
     "name": "stderr",
     "output_type": "stream",
     "text": [
      "100%|█████████████████████████████████████████| 100/100 [00:42<00:00,  2.33it/s]\n"
     ]
    },
    {
     "name": "stdout",
     "output_type": "stream",
     "text": [
      "[*********************100%***********************]  1 of 1 completed\n",
      "Ticker: RL\n",
      "Rentabilidad: 93.6%\n",
      "\n",
      "[*********************100%***********************]  1 of 1 completed\n",
      "Entrenando para RMD...\n",
      "\n"
     ]
    },
    {
     "name": "stderr",
     "output_type": "stream",
     "text": [
      "100%|█████████████████████████████████████████| 100/100 [00:43<00:00,  2.32it/s]\n"
     ]
    },
    {
     "name": "stdout",
     "output_type": "stream",
     "text": [
      "[*********************100%***********************]  1 of 1 completed\n",
      "Ticker: RMD\n",
      "Rentabilidad: -75.67%\n",
      "\n",
      "[*********************100%***********************]  1 of 1 completed\n",
      "Entrenando para ROK...\n",
      "\n"
     ]
    },
    {
     "name": "stderr",
     "output_type": "stream",
     "text": [
      "100%|█████████████████████████████████████████| 100/100 [00:43<00:00,  2.31it/s]\n"
     ]
    },
    {
     "name": "stdout",
     "output_type": "stream",
     "text": [
      "[*********************100%***********************]  1 of 1 completed\n",
      "Ticker: ROK\n",
      "Rentabilidad: 160.29%\n",
      "\n",
      "[*********************100%***********************]  1 of 1 completed\n",
      "Entrenando para ROL...\n",
      "\n"
     ]
    },
    {
     "name": "stderr",
     "output_type": "stream",
     "text": [
      "100%|█████████████████████████████████████████| 100/100 [00:43<00:00,  2.32it/s]\n"
     ]
    },
    {
     "name": "stdout",
     "output_type": "stream",
     "text": [
      "[*********************100%***********************]  1 of 1 completed\n",
      "Ticker: ROL\n",
      "Rentabilidad: 22.98%\n",
      "\n",
      "[*********************100%***********************]  1 of 1 completed\n",
      "Entrenando para ROP...\n",
      "\n"
     ]
    },
    {
     "name": "stderr",
     "output_type": "stream",
     "text": [
      "100%|█████████████████████████████████████████| 100/100 [00:42<00:00,  2.33it/s]"
     ]
    },
    {
     "name": "stdout",
     "output_type": "stream",
     "text": [
      "\r",
      "[*********************100%***********************]  1 of 1 completed"
     ]
    },
    {
     "name": "stderr",
     "output_type": "stream",
     "text": [
      "\n"
     ]
    },
    {
     "name": "stdout",
     "output_type": "stream",
     "text": [
      "\n",
      "Ticker: ROP\n",
      "Rentabilidad: 76.48%\n",
      "\n",
      "[*********************100%***********************]  1 of 1 completed\n",
      "Entrenando para ROST...\n",
      "\n"
     ]
    },
    {
     "name": "stderr",
     "output_type": "stream",
     "text": [
      "100%|█████████████████████████████████████████| 100/100 [00:42<00:00,  2.33it/s]\n"
     ]
    },
    {
     "name": "stdout",
     "output_type": "stream",
     "text": [
      "[*********************100%***********************]  1 of 1 completed\n",
      "Ticker: ROST\n",
      "Rentabilidad: -64.62%\n",
      "\n",
      "[*********************100%***********************]  1 of 1 completed\n",
      "Entrenando para RSG...\n",
      "\n"
     ]
    },
    {
     "name": "stderr",
     "output_type": "stream",
     "text": [
      "100%|█████████████████████████████████████████| 100/100 [00:43<00:00,  2.32it/s]"
     ]
    },
    {
     "name": "stdout",
     "output_type": "stream",
     "text": [
      "\r",
      "[*********************100%***********************]  1 of 1 completed"
     ]
    },
    {
     "name": "stderr",
     "output_type": "stream",
     "text": [
      "\n"
     ]
    },
    {
     "name": "stdout",
     "output_type": "stream",
     "text": [
      "\n",
      "Ticker: RSG\n",
      "Rentabilidad: 0.24%\n",
      "\n",
      "[*********************100%***********************]  1 of 1 completed\n",
      "Entrenando para RTX...\n",
      "\n"
     ]
    },
    {
     "name": "stderr",
     "output_type": "stream",
     "text": [
      "100%|█████████████████████████████████████████| 100/100 [00:43<00:00,  2.32it/s]\n"
     ]
    },
    {
     "name": "stdout",
     "output_type": "stream",
     "text": [
      "[*********************100%***********************]  1 of 1 completed\n",
      "Ticker: RTX\n",
      "Rentabilidad: 69.51%\n",
      "\n",
      "[*********************100%***********************]  1 of 1 completed\n",
      "Entrenando para SBAC...\n",
      "\n"
     ]
    },
    {
     "name": "stderr",
     "output_type": "stream",
     "text": [
      "100%|█████████████████████████████████████████| 100/100 [00:43<00:00,  2.32it/s]"
     ]
    },
    {
     "name": "stdout",
     "output_type": "stream",
     "text": [
      "\r",
      "[*********************100%***********************]  1 of 1 completed"
     ]
    },
    {
     "name": "stderr",
     "output_type": "stream",
     "text": [
      "\n"
     ]
    },
    {
     "name": "stdout",
     "output_type": "stream",
     "text": [
      "\n",
      "Ticker: SBAC\n",
      "Rentabilidad: 55.62%\n",
      "\n",
      "[*********************100%***********************]  1 of 1 completed\n",
      "Entrenando para SBNY...\n",
      "\n"
     ]
    },
    {
     "name": "stderr",
     "output_type": "stream",
     "text": [
      "100%|█████████████████████████████████████████| 100/100 [00:42<00:00,  2.33it/s]\n"
     ]
    },
    {
     "name": "stdout",
     "output_type": "stream",
     "text": [
      "[*********************100%***********************]  1 of 1 completed\n",
      "Ticker: SBNY\n",
      "Rentabilidad: -48.04%\n",
      "\n",
      "[*********************100%***********************]  1 of 1 completed\n",
      "Entrenando para SBUX...\n",
      "\n"
     ]
    },
    {
     "name": "stderr",
     "output_type": "stream",
     "text": [
      "100%|█████████████████████████████████████████| 100/100 [00:43<00:00,  2.32it/s]\n"
     ]
    },
    {
     "name": "stdout",
     "output_type": "stream",
     "text": [
      "[*********************100%***********************]  1 of 1 completed\n",
      "Ticker: SBUX\n",
      "Rentabilidad: -7.3%\n",
      "\n",
      "[*********************100%***********************]  1 of 1 completed\n",
      "Entrenando para SCHW...\n",
      "\n"
     ]
    },
    {
     "name": "stderr",
     "output_type": "stream",
     "text": [
      "100%|█████████████████████████████████████████| 100/100 [00:43<00:00,  2.32it/s]\n"
     ]
    },
    {
     "name": "stdout",
     "output_type": "stream",
     "text": [
      "[*********************100%***********************]  1 of 1 completed\n",
      "Ticker: SCHW\n",
      "Rentabilidad: -11.02%\n",
      "\n",
      "[*********************100%***********************]  1 of 1 completed\n",
      "Entrenando para SEE...\n",
      "\n"
     ]
    },
    {
     "name": "stderr",
     "output_type": "stream",
     "text": [
      "100%|█████████████████████████████████████████| 100/100 [00:42<00:00,  2.33it/s]\n"
     ]
    },
    {
     "name": "stdout",
     "output_type": "stream",
     "text": [
      "[*********************100%***********************]  1 of 1 completed\n",
      "Ticker: SEE\n",
      "Rentabilidad: 9.75%\n",
      "\n",
      "[*********************100%***********************]  1 of 1 completed\n",
      "Entrenando para SHW...\n",
      "\n"
     ]
    },
    {
     "name": "stderr",
     "output_type": "stream",
     "text": [
      "100%|█████████████████████████████████████████| 100/100 [00:43<00:00,  2.32it/s]\n"
     ]
    },
    {
     "name": "stdout",
     "output_type": "stream",
     "text": [
      "[*********************100%***********************]  1 of 1 completed\n",
      "Ticker: SHW\n",
      "Rentabilidad: 17.1%\n",
      "\n",
      "[*********************100%***********************]  1 of 1 completed\n",
      "Entrenando para SJM...\n",
      "\n"
     ]
    },
    {
     "name": "stderr",
     "output_type": "stream",
     "text": [
      "100%|█████████████████████████████████████████| 100/100 [00:43<00:00,  2.30it/s]\n"
     ]
    },
    {
     "name": "stdout",
     "output_type": "stream",
     "text": [
      "[*********************100%***********************]  1 of 1 completed\n",
      "Ticker: SJM\n",
      "Rentabilidad: 6.58%\n",
      "\n",
      "[*********************100%***********************]  1 of 1 completed\n",
      "Entrenando para SLB...\n",
      "\n"
     ]
    },
    {
     "name": "stderr",
     "output_type": "stream",
     "text": [
      "100%|█████████████████████████████████████████| 100/100 [00:43<00:00,  2.32it/s]"
     ]
    },
    {
     "name": "stdout",
     "output_type": "stream",
     "text": [
      "\r",
      "[*********************100%***********************]  1 of 1 completed"
     ]
    },
    {
     "name": "stderr",
     "output_type": "stream",
     "text": [
      "\n"
     ]
    },
    {
     "name": "stdout",
     "output_type": "stream",
     "text": [
      "\n",
      "Ticker: SLB\n",
      "Rentabilidad: -64.12%\n",
      "\n",
      "[*********************100%***********************]  1 of 1 completed\n",
      "Entrenando para SNA...\n",
      "\n"
     ]
    },
    {
     "name": "stderr",
     "output_type": "stream",
     "text": [
      "100%|█████████████████████████████████████████| 100/100 [00:43<00:00,  2.32it/s]\n"
     ]
    },
    {
     "name": "stdout",
     "output_type": "stream",
     "text": [
      "[*********************100%***********************]  1 of 1 completed\n",
      "Ticker: SNA\n",
      "Rentabilidad: -44.57%\n",
      "\n",
      "[*********************100%***********************]  1 of 1 completed\n",
      "Entrenando para SNPS...\n",
      "\n"
     ]
    },
    {
     "name": "stderr",
     "output_type": "stream",
     "text": [
      "100%|█████████████████████████████████████████| 100/100 [00:43<00:00,  2.32it/s]"
     ]
    },
    {
     "name": "stdout",
     "output_type": "stream",
     "text": [
      "\r",
      "[*********************100%***********************]  1 of 1 completed"
     ]
    },
    {
     "name": "stderr",
     "output_type": "stream",
     "text": [
      "\n"
     ]
    },
    {
     "name": "stdout",
     "output_type": "stream",
     "text": [
      "\n",
      "Ticker: SNPS\n",
      "Rentabilidad: -45.27%\n",
      "\n",
      "[*********************100%***********************]  1 of 1 completed\n",
      "Entrenando para SO...\n",
      "\n"
     ]
    },
    {
     "name": "stderr",
     "output_type": "stream",
     "text": [
      "100%|█████████████████████████████████████████| 100/100 [00:43<00:00,  2.32it/s]\n"
     ]
    },
    {
     "name": "stdout",
     "output_type": "stream",
     "text": [
      "[*********************100%***********************]  1 of 1 completed\n",
      "Ticker: SO\n",
      "Rentabilidad: -60.68%\n",
      "\n",
      "[*********************100%***********************]  1 of 1 completed\n",
      "Entrenando para SPG...\n",
      "\n"
     ]
    },
    {
     "name": "stderr",
     "output_type": "stream",
     "text": [
      "100%|█████████████████████████████████████████| 100/100 [00:43<00:00,  2.32it/s]\n"
     ]
    },
    {
     "name": "stdout",
     "output_type": "stream",
     "text": [
      "[*********************100%***********************]  1 of 1 completed\n",
      "Ticker: SPG\n",
      "Rentabilidad: -8.47%\n",
      "\n",
      "[*********************100%***********************]  1 of 1 completed\n",
      "Entrenando para SPGI...\n",
      "\n"
     ]
    },
    {
     "name": "stderr",
     "output_type": "stream",
     "text": [
      "100%|█████████████████████████████████████████| 100/100 [00:43<00:00,  2.32it/s]\n"
     ]
    },
    {
     "name": "stdout",
     "output_type": "stream",
     "text": [
      "[*********************100%***********************]  1 of 1 completed\n",
      "Ticker: SPGI\n",
      "Rentabilidad: -26.23%\n",
      "\n",
      "[*********************100%***********************]  1 of 1 completed\n",
      "Entrenando para SRE...\n",
      "\n"
     ]
    },
    {
     "name": "stderr",
     "output_type": "stream",
     "text": [
      "100%|█████████████████████████████████████████| 100/100 [00:42<00:00,  2.33it/s]\n"
     ]
    },
    {
     "name": "stdout",
     "output_type": "stream",
     "text": [
      "[*********************100%***********************]  1 of 1 completed\n",
      "Ticker: SRE\n",
      "Rentabilidad: -51.87%\n",
      "\n",
      "[*********************100%***********************]  1 of 1 completed\n",
      "Entrenando para STE...\n",
      "\n"
     ]
    },
    {
     "name": "stderr",
     "output_type": "stream",
     "text": [
      "100%|█████████████████████████████████████████| 100/100 [00:43<00:00,  2.32it/s]"
     ]
    },
    {
     "name": "stdout",
     "output_type": "stream",
     "text": [
      "\r",
      "[*********************100%***********************]  1 of 1 completed"
     ]
    },
    {
     "name": "stderr",
     "output_type": "stream",
     "text": [
      "\n"
     ]
    },
    {
     "name": "stdout",
     "output_type": "stream",
     "text": [
      "\n",
      "Ticker: STE\n",
      "Rentabilidad: -15.65%\n",
      "\n",
      "[*********************100%***********************]  1 of 1 completed\n",
      "Entrenando para STT...\n",
      "\n"
     ]
    },
    {
     "name": "stderr",
     "output_type": "stream",
     "text": [
      "100%|█████████████████████████████████████████| 100/100 [00:43<00:00,  2.33it/s]\n"
     ]
    },
    {
     "name": "stdout",
     "output_type": "stream",
     "text": [
      "[*********************100%***********************]  1 of 1 completed\n",
      "Ticker: STT\n",
      "Rentabilidad: -51.4%\n",
      "\n",
      "[*********************100%***********************]  1 of 1 completed\n",
      "Entrenando para STX...\n",
      "\n"
     ]
    },
    {
     "name": "stderr",
     "output_type": "stream",
     "text": [
      "100%|█████████████████████████████████████████| 100/100 [00:43<00:00,  2.32it/s]"
     ]
    },
    {
     "name": "stdout",
     "output_type": "stream",
     "text": [
      "\r",
      "[*********************100%***********************]  1 of 1 completed"
     ]
    },
    {
     "name": "stderr",
     "output_type": "stream",
     "text": [
      "\n"
     ]
    },
    {
     "name": "stdout",
     "output_type": "stream",
     "text": [
      "\n",
      "Ticker: STX\n",
      "Rentabilidad: -13.04%\n",
      "\n",
      "[*********************100%***********************]  1 of 1 completed\n",
      "Entrenando para STZ...\n",
      "\n"
     ]
    },
    {
     "name": "stderr",
     "output_type": "stream",
     "text": [
      "100%|█████████████████████████████████████████| 100/100 [00:43<00:00,  2.31it/s]"
     ]
    },
    {
     "name": "stdout",
     "output_type": "stream",
     "text": [
      "\r",
      "[*********************100%***********************]  1 of 1 completed"
     ]
    },
    {
     "name": "stderr",
     "output_type": "stream",
     "text": [
      "\n"
     ]
    },
    {
     "name": "stdout",
     "output_type": "stream",
     "text": [
      "\n",
      "Ticker: STZ\n",
      "Rentabilidad: -40.85%\n",
      "\n",
      "[*********************100%***********************]  1 of 1 completed\n",
      "Entrenando para SWK...\n",
      "\n"
     ]
    },
    {
     "name": "stderr",
     "output_type": "stream",
     "text": [
      "100%|█████████████████████████████████████████| 100/100 [00:43<00:00,  2.30it/s]"
     ]
    },
    {
     "name": "stdout",
     "output_type": "stream",
     "text": [
      "\r",
      "[*********************100%***********************]  1 of 1 completed"
     ]
    },
    {
     "name": "stderr",
     "output_type": "stream",
     "text": [
      "\n"
     ]
    },
    {
     "name": "stdout",
     "output_type": "stream",
     "text": [
      "\n",
      "Ticker: SWK\n",
      "Rentabilidad: 122.4%\n",
      "\n",
      "[*********************100%***********************]  1 of 1 completed\n",
      "Entrenando para SWKS...\n",
      "\n"
     ]
    },
    {
     "name": "stderr",
     "output_type": "stream",
     "text": [
      "100%|█████████████████████████████████████████| 100/100 [00:43<00:00,  2.30it/s]"
     ]
    },
    {
     "name": "stdout",
     "output_type": "stream",
     "text": [
      "\r",
      "[*********************100%***********************]  1 of 1 completed"
     ]
    },
    {
     "name": "stderr",
     "output_type": "stream",
     "text": [
      "\n"
     ]
    },
    {
     "name": "stdout",
     "output_type": "stream",
     "text": [
      "\n",
      "Ticker: SWKS\n",
      "Rentabilidad: 82.39%\n",
      "\n",
      "[*********************100%***********************]  1 of 1 completed\n",
      "Entrenando para SYK...\n",
      "\n"
     ]
    },
    {
     "name": "stderr",
     "output_type": "stream",
     "text": [
      "100%|█████████████████████████████████████████| 100/100 [00:43<00:00,  2.30it/s]"
     ]
    },
    {
     "name": "stdout",
     "output_type": "stream",
     "text": [
      "\r",
      "[*********************100%***********************]  1 of 1 completed"
     ]
    },
    {
     "name": "stderr",
     "output_type": "stream",
     "text": [
      "\n"
     ]
    },
    {
     "name": "stdout",
     "output_type": "stream",
     "text": [
      "\n",
      "Ticker: SYK\n",
      "Rentabilidad: 39.63%\n",
      "\n",
      "[*********************100%***********************]  1 of 1 completed\n",
      "Entrenando para SYY...\n",
      "\n"
     ]
    },
    {
     "name": "stderr",
     "output_type": "stream",
     "text": [
      "100%|█████████████████████████████████████████| 100/100 [00:43<00:00,  2.31it/s]\n"
     ]
    },
    {
     "name": "stdout",
     "output_type": "stream",
     "text": [
      "[*********************100%***********************]  1 of 1 completed\n",
      "Ticker: SYY\n",
      "Rentabilidad: -30.41%\n",
      "\n",
      "[*********************100%***********************]  1 of 1 completed\n",
      "Entrenando para T...\n",
      "\n"
     ]
    },
    {
     "name": "stderr",
     "output_type": "stream",
     "text": [
      "100%|█████████████████████████████████████████| 100/100 [00:43<00:00,  2.31it/s]\n"
     ]
    },
    {
     "name": "stdout",
     "output_type": "stream",
     "text": [
      "[*********************100%***********************]  1 of 1 completed\n",
      "Ticker: T\n",
      "Rentabilidad: -17.86%\n",
      "\n",
      "[*********************100%***********************]  1 of 1 completed\n",
      "Entrenando para TAP...\n",
      "\n"
     ]
    },
    {
     "name": "stderr",
     "output_type": "stream",
     "text": [
      "100%|█████████████████████████████████████████| 100/100 [00:43<00:00,  2.30it/s]"
     ]
    },
    {
     "name": "stdout",
     "output_type": "stream",
     "text": [
      "\r",
      "[*********************100%***********************]  1 of 1 completed"
     ]
    },
    {
     "name": "stderr",
     "output_type": "stream",
     "text": [
      "\n"
     ]
    },
    {
     "name": "stdout",
     "output_type": "stream",
     "text": [
      "\n",
      "Ticker: TAP\n",
      "Rentabilidad: 3.65%\n",
      "\n",
      "[*********************100%***********************]  1 of 1 completed\n",
      "Entrenando para TDG...\n",
      "\n"
     ]
    },
    {
     "name": "stderr",
     "output_type": "stream",
     "text": [
      "100%|█████████████████████████████████████████| 100/100 [00:43<00:00,  2.30it/s]"
     ]
    },
    {
     "name": "stdout",
     "output_type": "stream",
     "text": [
      "\r",
      "[*********************100%***********************]  1 of 1 completed"
     ]
    },
    {
     "name": "stderr",
     "output_type": "stream",
     "text": [
      "\n"
     ]
    },
    {
     "name": "stdout",
     "output_type": "stream",
     "text": [
      "\n",
      "Ticker: TDG\n",
      "Rentabilidad: -25.8%\n",
      "\n",
      "[*********************100%***********************]  1 of 1 completed\n",
      "Entrenando para TDY...\n",
      "\n"
     ]
    },
    {
     "name": "stderr",
     "output_type": "stream",
     "text": [
      "100%|█████████████████████████████████████████| 100/100 [00:43<00:00,  2.29it/s]"
     ]
    },
    {
     "name": "stdout",
     "output_type": "stream",
     "text": [
      "\r",
      "[*********************100%***********************]  1 of 1 completed"
     ]
    },
    {
     "name": "stderr",
     "output_type": "stream",
     "text": [
      "\n"
     ]
    },
    {
     "name": "stdout",
     "output_type": "stream",
     "text": [
      "\n",
      "Ticker: TDY\n",
      "Rentabilidad: -61.85%\n",
      "\n",
      "[*********************100%***********************]  1 of 1 completed\n",
      "Entrenando para TECH...\n",
      "\n"
     ]
    },
    {
     "name": "stderr",
     "output_type": "stream",
     "text": [
      "100%|█████████████████████████████████████████| 100/100 [00:43<00:00,  2.30it/s]\n"
     ]
    },
    {
     "name": "stdout",
     "output_type": "stream",
     "text": [
      "[*********************100%***********************]  1 of 1 completed\n",
      "Ticker: TECH\n",
      "Rentabilidad: -20.46%\n",
      "\n",
      "[*********************100%***********************]  1 of 1 completed\n",
      "Entrenando para TEL...\n",
      "\n"
     ]
    },
    {
     "name": "stderr",
     "output_type": "stream",
     "text": [
      "100%|█████████████████████████████████████████| 100/100 [00:43<00:00,  2.30it/s]"
     ]
    },
    {
     "name": "stdout",
     "output_type": "stream",
     "text": [
      "\r",
      "[*********************100%***********************]  1 of 1 completed"
     ]
    },
    {
     "name": "stderr",
     "output_type": "stream",
     "text": [
      "\n"
     ]
    },
    {
     "name": "stdout",
     "output_type": "stream",
     "text": [
      "\n",
      "Ticker: TEL\n",
      "Rentabilidad: 25.49%\n",
      "\n",
      "[*********************100%***********************]  1 of 1 completed\n",
      "Entrenando para TER...\n",
      "\n"
     ]
    },
    {
     "name": "stderr",
     "output_type": "stream",
     "text": [
      "100%|█████████████████████████████████████████| 100/100 [00:43<00:00,  2.30it/s]"
     ]
    },
    {
     "name": "stdout",
     "output_type": "stream",
     "text": [
      "\r",
      "[*********************100%***********************]  1 of 1 completed"
     ]
    },
    {
     "name": "stderr",
     "output_type": "stream",
     "text": [
      "\n"
     ]
    },
    {
     "name": "stdout",
     "output_type": "stream",
     "text": [
      "\n",
      "Ticker: TER\n",
      "Rentabilidad: 37.71%\n",
      "\n",
      "[*********************100%***********************]  1 of 1 completed\n",
      "Entrenando para TFC...\n",
      "\n"
     ]
    },
    {
     "name": "stderr",
     "output_type": "stream",
     "text": [
      "100%|█████████████████████████████████████████| 100/100 [00:43<00:00,  2.30it/s]\n"
     ]
    },
    {
     "name": "stdout",
     "output_type": "stream",
     "text": [
      "[*********************100%***********************]  1 of 1 completed\n",
      "Ticker: TFC\n",
      "Rentabilidad: -41.31%\n",
      "\n",
      "[*********************100%***********************]  1 of 1 completed\n",
      "Entrenando para TFX...\n",
      "\n"
     ]
    },
    {
     "name": "stderr",
     "output_type": "stream",
     "text": [
      "100%|█████████████████████████████████████████| 100/100 [00:43<00:00,  2.30it/s]\n"
     ]
    },
    {
     "name": "stdout",
     "output_type": "stream",
     "text": [
      "[*********************100%***********************]  1 of 1 completed\n",
      "Ticker: TFX\n",
      "Rentabilidad: 38.83%\n",
      "\n",
      "[*********************100%***********************]  1 of 1 completed\n",
      "Entrenando para TGT...\n",
      "\n"
     ]
    },
    {
     "name": "stderr",
     "output_type": "stream",
     "text": [
      "100%|█████████████████████████████████████████| 100/100 [00:43<00:00,  2.30it/s]\n"
     ]
    },
    {
     "name": "stdout",
     "output_type": "stream",
     "text": [
      "[*********************100%***********************]  1 of 1 completed\n",
      "Ticker: TGT\n",
      "Rentabilidad: -25.54%\n",
      "\n",
      "[*********************100%***********************]  1 of 1 completed\n",
      "Entrenando para TJX...\n",
      "\n"
     ]
    },
    {
     "name": "stderr",
     "output_type": "stream",
     "text": [
      "100%|█████████████████████████████████████████| 100/100 [00:43<00:00,  2.31it/s]"
     ]
    },
    {
     "name": "stdout",
     "output_type": "stream",
     "text": [
      "\r",
      "[*********************100%***********************]  1 of 1 completed"
     ]
    },
    {
     "name": "stderr",
     "output_type": "stream",
     "text": [
      "\n"
     ]
    },
    {
     "name": "stdout",
     "output_type": "stream",
     "text": [
      "\n",
      "Ticker: TJX\n",
      "Rentabilidad: 74.36%\n",
      "\n",
      "[*********************100%***********************]  1 of 1 completed\n",
      "Entrenando para TMO...\n",
      "\n"
     ]
    },
    {
     "name": "stderr",
     "output_type": "stream",
     "text": [
      "100%|█████████████████████████████████████████| 100/100 [00:43<00:00,  2.32it/s]\n"
     ]
    },
    {
     "name": "stdout",
     "output_type": "stream",
     "text": [
      "[*********************100%***********************]  1 of 1 completed\n",
      "Ticker: TMO\n",
      "Rentabilidad: -7.31%\n",
      "\n",
      "[*********************100%***********************]  1 of 1 completed\n",
      "Entrenando para TMUS...\n",
      "\n"
     ]
    },
    {
     "name": "stderr",
     "output_type": "stream",
     "text": [
      "100%|█████████████████████████████████████████| 100/100 [00:42<00:00,  2.33it/s]"
     ]
    },
    {
     "name": "stdout",
     "output_type": "stream",
     "text": [
      "\r",
      "[*********************100%***********************]  1 of 1 completed"
     ]
    },
    {
     "name": "stderr",
     "output_type": "stream",
     "text": [
      "\n"
     ]
    },
    {
     "name": "stdout",
     "output_type": "stream",
     "text": [
      "\n",
      "Ticker: TMUS\n",
      "Rentabilidad: -15.27%\n",
      "\n",
      "[*********************100%***********************]  1 of 1 completed\n",
      "Entrenando para TPR...\n",
      "\n"
     ]
    },
    {
     "name": "stderr",
     "output_type": "stream",
     "text": [
      "100%|█████████████████████████████████████████| 100/100 [00:43<00:00,  2.32it/s]"
     ]
    },
    {
     "name": "stdout",
     "output_type": "stream",
     "text": [
      "\r",
      "[*********************100%***********************]  1 of 1 completed"
     ]
    },
    {
     "name": "stderr",
     "output_type": "stream",
     "text": [
      "\n"
     ]
    },
    {
     "name": "stdout",
     "output_type": "stream",
     "text": [
      "\n",
      "Ticker: TPR\n",
      "Rentabilidad: -59.63%\n",
      "\n",
      "[*********************100%***********************]  1 of 1 completed\n",
      "Entrenando para TRMB...\n",
      "\n"
     ]
    },
    {
     "name": "stderr",
     "output_type": "stream",
     "text": [
      "100%|█████████████████████████████████████████| 100/100 [00:43<00:00,  2.32it/s]"
     ]
    },
    {
     "name": "stdout",
     "output_type": "stream",
     "text": [
      "\r",
      "[*********************100%***********************]  1 of 1 completed"
     ]
    },
    {
     "name": "stderr",
     "output_type": "stream",
     "text": [
      "\n"
     ]
    },
    {
     "name": "stdout",
     "output_type": "stream",
     "text": [
      "\n",
      "Ticker: TRMB\n",
      "Rentabilidad: 169.58%\n",
      "\n",
      "[*********************100%***********************]  1 of 1 completed\n",
      "Entrenando para TROW...\n",
      "\n"
     ]
    },
    {
     "name": "stderr",
     "output_type": "stream",
     "text": [
      "100%|█████████████████████████████████████████| 100/100 [00:42<00:00,  2.33it/s]\n"
     ]
    },
    {
     "name": "stdout",
     "output_type": "stream",
     "text": [
      "[*********************100%***********************]  1 of 1 completed\n",
      "Ticker: TROW\n",
      "Rentabilidad: 116.78%\n",
      "\n",
      "[*********************100%***********************]  1 of 1 completed\n",
      "Entrenando para TRV...\n",
      "\n"
     ]
    },
    {
     "name": "stderr",
     "output_type": "stream",
     "text": [
      "100%|█████████████████████████████████████████| 100/100 [00:43<00:00,  2.32it/s]\n"
     ]
    },
    {
     "name": "stdout",
     "output_type": "stream",
     "text": [
      "[*********************100%***********************]  1 of 1 completed\n",
      "Ticker: TRV\n",
      "Rentabilidad: -4.87%\n",
      "\n",
      "[*********************100%***********************]  1 of 1 completed\n",
      "Entrenando para TSCO...\n",
      "\n"
     ]
    },
    {
     "name": "stderr",
     "output_type": "stream",
     "text": [
      "100%|█████████████████████████████████████████| 100/100 [00:43<00:00,  2.32it/s]\n"
     ]
    },
    {
     "name": "stdout",
     "output_type": "stream",
     "text": [
      "[*********************100%***********************]  1 of 1 completed\n",
      "Ticker: TSCO\n",
      "Rentabilidad: 9.16%\n",
      "\n",
      "[*********************100%***********************]  1 of 1 completed\n",
      "Entrenando para TSLA...\n",
      "\n"
     ]
    },
    {
     "name": "stderr",
     "output_type": "stream",
     "text": [
      "100%|█████████████████████████████████████████| 100/100 [00:42<00:00,  2.33it/s]"
     ]
    },
    {
     "name": "stdout",
     "output_type": "stream",
     "text": [
      "\r",
      "[*********************100%***********************]  1 of 1 completed"
     ]
    },
    {
     "name": "stderr",
     "output_type": "stream",
     "text": [
      "\n"
     ]
    },
    {
     "name": "stdout",
     "output_type": "stream",
     "text": [
      "\n",
      "Ticker: TSLA\n",
      "Rentabilidad: 251.1%\n",
      "\n",
      "[*********************100%***********************]  1 of 1 completed\n",
      "Entrenando para TSN...\n",
      "\n"
     ]
    },
    {
     "name": "stderr",
     "output_type": "stream",
     "text": [
      "100%|█████████████████████████████████████████| 100/100 [00:42<00:00,  2.33it/s]\n"
     ]
    },
    {
     "name": "stdout",
     "output_type": "stream",
     "text": [
      "[*********************100%***********************]  1 of 1 completed\n",
      "Ticker: TSN\n",
      "Rentabilidad: 13.21%\n",
      "\n",
      "[*********************100%***********************]  1 of 1 completed\n",
      "Entrenando para TT...\n",
      "\n"
     ]
    },
    {
     "name": "stderr",
     "output_type": "stream",
     "text": [
      "100%|█████████████████████████████████████████| 100/100 [00:43<00:00,  2.32it/s]\n"
     ]
    },
    {
     "name": "stdout",
     "output_type": "stream",
     "text": [
      "[*********************100%***********************]  1 of 1 completed\n",
      "Ticker: TT\n",
      "Rentabilidad: -24.42%\n",
      "\n",
      "[*********************100%***********************]  1 of 1 completed\n",
      "Entrenando para TTWO...\n",
      "\n"
     ]
    },
    {
     "name": "stderr",
     "output_type": "stream",
     "text": [
      "100%|█████████████████████████████████████████| 100/100 [00:43<00:00,  2.32it/s]"
     ]
    },
    {
     "name": "stdout",
     "output_type": "stream",
     "text": [
      "\r",
      "[*********************100%***********************]  1 of 1 completed"
     ]
    },
    {
     "name": "stderr",
     "output_type": "stream",
     "text": [
      "\n"
     ]
    },
    {
     "name": "stdout",
     "output_type": "stream",
     "text": [
      "\n",
      "Ticker: TTWO\n",
      "Rentabilidad: 25.89%\n",
      "\n",
      "[*********************100%***********************]  1 of 1 completed\n",
      "Entrenando para TXN...\n",
      "\n"
     ]
    },
    {
     "name": "stderr",
     "output_type": "stream",
     "text": [
      "100%|█████████████████████████████████████████| 100/100 [00:43<00:00,  2.32it/s]\n"
     ]
    },
    {
     "name": "stdout",
     "output_type": "stream",
     "text": [
      "[*********************100%***********************]  1 of 1 completed\n",
      "Ticker: TXN\n",
      "Rentabilidad: 67.76%\n",
      "\n",
      "[*********************100%***********************]  1 of 1 completed\n",
      "Entrenando para TXT...\n",
      "\n"
     ]
    },
    {
     "name": "stderr",
     "output_type": "stream",
     "text": [
      "100%|█████████████████████████████████████████| 100/100 [00:43<00:00,  2.32it/s]\n"
     ]
    },
    {
     "name": "stdout",
     "output_type": "stream",
     "text": [
      "[*********************100%***********************]  1 of 1 completed\n",
      "Ticker: TXT\n",
      "Rentabilidad: -45.43%\n",
      "\n",
      "[*********************100%***********************]  1 of 1 completed\n",
      "Entrenando para TYL...\n",
      "\n"
     ]
    },
    {
     "name": "stderr",
     "output_type": "stream",
     "text": [
      "100%|█████████████████████████████████████████| 100/100 [00:43<00:00,  2.32it/s]"
     ]
    },
    {
     "name": "stdout",
     "output_type": "stream",
     "text": [
      "\r",
      "[*********************100%***********************]  1 of 1 completed"
     ]
    },
    {
     "name": "stderr",
     "output_type": "stream",
     "text": [
      "\n"
     ]
    },
    {
     "name": "stdout",
     "output_type": "stream",
     "text": [
      "\n",
      "Ticker: TYL\n",
      "Rentabilidad: -42.74%\n",
      "\n",
      "[*********************100%***********************]  1 of 1 completed\n",
      "Entrenando para UAL...\n",
      "\n"
     ]
    },
    {
     "name": "stderr",
     "output_type": "stream",
     "text": [
      "100%|█████████████████████████████████████████| 100/100 [00:43<00:00,  2.31it/s]"
     ]
    },
    {
     "name": "stdout",
     "output_type": "stream",
     "text": [
      "\r",
      "[*********************100%***********************]  1 of 1 completed"
     ]
    },
    {
     "name": "stderr",
     "output_type": "stream",
     "text": [
      "\n"
     ]
    },
    {
     "name": "stdout",
     "output_type": "stream",
     "text": [
      "\n",
      "Ticker: UAL\n",
      "Rentabilidad: -57.56%\n",
      "\n",
      "[*********************100%***********************]  1 of 1 completed\n",
      "Entrenando para UDR...\n",
      "\n"
     ]
    },
    {
     "name": "stderr",
     "output_type": "stream",
     "text": [
      "100%|█████████████████████████████████████████| 100/100 [00:43<00:00,  2.30it/s]\n"
     ]
    },
    {
     "name": "stdout",
     "output_type": "stream",
     "text": [
      "[*********************100%***********************]  1 of 1 completed\n",
      "Ticker: UDR\n",
      "Rentabilidad: -40.17%\n",
      "\n",
      "[*********************100%***********************]  1 of 1 completed\n",
      "Entrenando para UHS...\n",
      "\n"
     ]
    },
    {
     "name": "stderr",
     "output_type": "stream",
     "text": [
      "100%|█████████████████████████████████████████| 100/100 [00:43<00:00,  2.31it/s]"
     ]
    },
    {
     "name": "stdout",
     "output_type": "stream",
     "text": [
      "\r",
      "[*********************100%***********************]  1 of 1 completed"
     ]
    },
    {
     "name": "stderr",
     "output_type": "stream",
     "text": [
      "\n"
     ]
    },
    {
     "name": "stdout",
     "output_type": "stream",
     "text": [
      "\n",
      "Ticker: UHS\n",
      "Rentabilidad: -75.8%\n",
      "\n",
      "[*********************100%***********************]  1 of 1 completed\n",
      "Entrenando para ULTA...\n",
      "\n"
     ]
    },
    {
     "name": "stderr",
     "output_type": "stream",
     "text": [
      "100%|█████████████████████████████████████████| 100/100 [00:43<00:00,  2.31it/s]"
     ]
    },
    {
     "name": "stdout",
     "output_type": "stream",
     "text": [
      "\r",
      "[*********************100%***********************]  1 of 1 completed"
     ]
    },
    {
     "name": "stderr",
     "output_type": "stream",
     "text": [
      "\n"
     ]
    },
    {
     "name": "stdout",
     "output_type": "stream",
     "text": [
      "\n",
      "Ticker: ULTA\n",
      "Rentabilidad: -15.48%\n",
      "\n",
      "[*********************100%***********************]  1 of 1 completed\n",
      "Entrenando para UNH...\n",
      "\n"
     ]
    },
    {
     "name": "stderr",
     "output_type": "stream",
     "text": [
      "100%|█████████████████████████████████████████| 100/100 [00:43<00:00,  2.31it/s]\n"
     ]
    },
    {
     "name": "stdout",
     "output_type": "stream",
     "text": [
      "[*********************100%***********************]  1 of 1 completed\n",
      "Ticker: UNH\n",
      "Rentabilidad: 9.66%\n",
      "\n",
      "[*********************100%***********************]  1 of 1 completed\n",
      "Entrenando para UNP...\n",
      "\n"
     ]
    },
    {
     "name": "stderr",
     "output_type": "stream",
     "text": [
      "100%|█████████████████████████████████████████| 100/100 [00:43<00:00,  2.31it/s]\n"
     ]
    },
    {
     "name": "stdout",
     "output_type": "stream",
     "text": [
      "[*********************100%***********************]  1 of 1 completed\n",
      "Ticker: UNP\n",
      "Rentabilidad: 117.22%\n",
      "\n",
      "[*********************100%***********************]  1 of 1 completed\n",
      "Entrenando para UPS...\n",
      "\n"
     ]
    },
    {
     "name": "stderr",
     "output_type": "stream",
     "text": [
      "100%|█████████████████████████████████████████| 100/100 [00:43<00:00,  2.30it/s]\n"
     ]
    },
    {
     "name": "stdout",
     "output_type": "stream",
     "text": [
      "[*********************100%***********************]  1 of 1 completed\n",
      "Ticker: UPS\n",
      "Rentabilidad: -14.41%\n",
      "\n",
      "[*********************100%***********************]  1 of 1 completed\n",
      "Entrenando para URI...\n",
      "\n"
     ]
    },
    {
     "name": "stderr",
     "output_type": "stream",
     "text": [
      "100%|█████████████████████████████████████████| 100/100 [00:43<00:00,  2.31it/s]"
     ]
    },
    {
     "name": "stdout",
     "output_type": "stream",
     "text": [
      "\r",
      "[*********************100%***********************]  1 of 1 completed"
     ]
    },
    {
     "name": "stderr",
     "output_type": "stream",
     "text": [
      "\n"
     ]
    },
    {
     "name": "stdout",
     "output_type": "stream",
     "text": [
      "\n",
      "Ticker: URI\n",
      "Rentabilidad: -60.32%\n",
      "\n",
      "[*********************100%***********************]  1 of 1 completed\n",
      "Entrenando para USB...\n",
      "\n"
     ]
    },
    {
     "name": "stderr",
     "output_type": "stream",
     "text": [
      "100%|█████████████████████████████████████████| 100/100 [00:43<00:00,  2.31it/s]"
     ]
    },
    {
     "name": "stdout",
     "output_type": "stream",
     "text": [
      "\r",
      "[*********************100%***********************]  1 of 1 completed"
     ]
    },
    {
     "name": "stderr",
     "output_type": "stream",
     "text": [
      "\n"
     ]
    },
    {
     "name": "stdout",
     "output_type": "stream",
     "text": [
      "\n",
      "Ticker: USB\n",
      "Rentabilidad: -11.43%\n",
      "\n",
      "[*********************100%***********************]  1 of 1 completed\n",
      "Entrenando para V...\n",
      "\n"
     ]
    },
    {
     "name": "stderr",
     "output_type": "stream",
     "text": [
      "100%|█████████████████████████████████████████| 100/100 [00:43<00:00,  2.30it/s]\n"
     ]
    },
    {
     "name": "stdout",
     "output_type": "stream",
     "text": [
      "[*********************100%***********************]  1 of 1 completed\n",
      "Ticker: V\n",
      "Rentabilidad: 59.41%\n",
      "\n",
      "[*********************100%***********************]  1 of 1 completed\n",
      "Entrenando para VFC...\n",
      "\n"
     ]
    },
    {
     "name": "stderr",
     "output_type": "stream",
     "text": [
      "100%|█████████████████████████████████████████| 100/100 [00:43<00:00,  2.31it/s]\n"
     ]
    },
    {
     "name": "stdout",
     "output_type": "stream",
     "text": [
      "[*********************100%***********************]  1 of 1 completed\n",
      "Ticker: VFC\n",
      "Rentabilidad: -31.35%\n",
      "\n",
      "[*********************100%***********************]  1 of 1 completed\n",
      "Entrenando para VLO...\n",
      "\n"
     ]
    },
    {
     "name": "stderr",
     "output_type": "stream",
     "text": [
      "100%|█████████████████████████████████████████| 100/100 [00:43<00:00,  2.30it/s]\n"
     ]
    },
    {
     "name": "stdout",
     "output_type": "stream",
     "text": [
      "[*********************100%***********************]  1 of 1 completed\n",
      "Ticker: VLO\n",
      "Rentabilidad: -29.22%\n",
      "\n",
      "[*********************100%***********************]  1 of 1 completed\n",
      "Entrenando para VMC...\n",
      "\n"
     ]
    },
    {
     "name": "stderr",
     "output_type": "stream",
     "text": [
      "100%|█████████████████████████████████████████| 100/100 [00:43<00:00,  2.31it/s]"
     ]
    },
    {
     "name": "stdout",
     "output_type": "stream",
     "text": [
      "\r",
      "[*********************100%***********************]  1 of 1 completed"
     ]
    },
    {
     "name": "stderr",
     "output_type": "stream",
     "text": [
      "\n"
     ]
    },
    {
     "name": "stdout",
     "output_type": "stream",
     "text": [
      "\n",
      "Ticker: VMC\n",
      "Rentabilidad: 54.05%\n",
      "\n",
      "[*********************100%***********************]  1 of 1 completed\n",
      "Entrenando para VNO...\n",
      "\n"
     ]
    },
    {
     "name": "stderr",
     "output_type": "stream",
     "text": [
      "100%|█████████████████████████████████████████| 100/100 [00:43<00:00,  2.29it/s]\n"
     ]
    },
    {
     "name": "stdout",
     "output_type": "stream",
     "text": [
      "[*********************100%***********************]  1 of 1 completed\n",
      "Ticker: VNO\n",
      "Rentabilidad: -58.77%\n",
      "\n",
      "[*********************100%***********************]  1 of 1 completed\n",
      "Entrenando para VRSK...\n",
      "\n"
     ]
    },
    {
     "name": "stderr",
     "output_type": "stream",
     "text": [
      "100%|█████████████████████████████████████████| 100/100 [00:44<00:00,  2.27it/s]"
     ]
    },
    {
     "name": "stdout",
     "output_type": "stream",
     "text": [
      "\r",
      "[*********************100%***********************]  1 of 1 completed"
     ]
    },
    {
     "name": "stderr",
     "output_type": "stream",
     "text": [
      "\n"
     ]
    },
    {
     "name": "stdout",
     "output_type": "stream",
     "text": [
      "\n",
      "Ticker: VRSK\n",
      "Rentabilidad: -13.45%\n",
      "\n",
      "[*********************100%***********************]  1 of 1 completed\n",
      "Entrenando para VRSN...\n",
      "\n"
     ]
    },
    {
     "name": "stderr",
     "output_type": "stream",
     "text": [
      "100%|█████████████████████████████████████████| 100/100 [00:43<00:00,  2.30it/s]"
     ]
    },
    {
     "name": "stdout",
     "output_type": "stream",
     "text": [
      "\r",
      "[*********************100%***********************]  1 of 1 completed"
     ]
    },
    {
     "name": "stderr",
     "output_type": "stream",
     "text": [
      "\n"
     ]
    },
    {
     "name": "stdout",
     "output_type": "stream",
     "text": [
      "\n",
      "Ticker: VRSN\n",
      "Rentabilidad: -5.89%\n",
      "\n",
      "[*********************100%***********************]  1 of 1 completed\n",
      "Entrenando para VRTX...\n",
      "\n"
     ]
    },
    {
     "name": "stderr",
     "output_type": "stream",
     "text": [
      "100%|█████████████████████████████████████████| 100/100 [00:43<00:00,  2.31it/s]"
     ]
    },
    {
     "name": "stdout",
     "output_type": "stream",
     "text": [
      "\r",
      "[*********************100%***********************]  1 of 1 completed"
     ]
    },
    {
     "name": "stderr",
     "output_type": "stream",
     "text": [
      "\n"
     ]
    },
    {
     "name": "stdout",
     "output_type": "stream",
     "text": [
      "\n",
      "Ticker: VRTX\n",
      "Rentabilidad: 140.35%\n",
      "\n",
      "[*********************100%***********************]  1 of 1 completed\n",
      "Entrenando para VTR...\n",
      "\n"
     ]
    },
    {
     "name": "stderr",
     "output_type": "stream",
     "text": [
      "100%|█████████████████████████████████████████| 100/100 [00:43<00:00,  2.31it/s]\n"
     ]
    },
    {
     "name": "stdout",
     "output_type": "stream",
     "text": [
      "[*********************100%***********************]  1 of 1 completed\n",
      "Ticker: VTR\n",
      "Rentabilidad: 119.28%\n",
      "\n",
      "[*********************100%***********************]  1 of 1 completed\n",
      "Entrenando para VTRS...\n",
      "\n"
     ]
    },
    {
     "name": "stderr",
     "output_type": "stream",
     "text": [
      "100%|█████████████████████████████████████████| 100/100 [00:43<00:00,  2.31it/s]\n"
     ]
    },
    {
     "name": "stdout",
     "output_type": "stream",
     "text": [
      "[*********************100%***********************]  1 of 1 completed\n",
      "Ticker: VTRS\n",
      "Rentabilidad: 241.54%\n",
      "\n",
      "[*********************100%***********************]  1 of 1 completed\n",
      "Entrenando para VZ...\n",
      "\n"
     ]
    },
    {
     "name": "stderr",
     "output_type": "stream",
     "text": [
      "100%|█████████████████████████████████████████| 100/100 [00:42<00:00,  2.33it/s]\n"
     ]
    },
    {
     "name": "stdout",
     "output_type": "stream",
     "text": [
      "[*********************100%***********************]  1 of 1 completed\n",
      "Ticker: VZ\n",
      "Rentabilidad: -0.19%\n",
      "\n",
      "[*********************100%***********************]  1 of 1 completed\n",
      "Entrenando para WAB...\n",
      "\n"
     ]
    },
    {
     "name": "stderr",
     "output_type": "stream",
     "text": [
      "100%|█████████████████████████████████████████| 100/100 [00:42<00:00,  2.33it/s]\n"
     ]
    },
    {
     "name": "stdout",
     "output_type": "stream",
     "text": [
      "[*********************100%***********************]  1 of 1 completed\n",
      "Ticker: WAB\n",
      "Rentabilidad: 129.53%\n",
      "\n",
      "[*********************100%***********************]  1 of 1 completed\n",
      "Entrenando para WAT...\n",
      "\n"
     ]
    },
    {
     "name": "stderr",
     "output_type": "stream",
     "text": [
      "100%|█████████████████████████████████████████| 100/100 [00:42<00:00,  2.33it/s]"
     ]
    },
    {
     "name": "stdout",
     "output_type": "stream",
     "text": [
      "\r",
      "[*********************100%***********************]  1 of 1 completed"
     ]
    },
    {
     "name": "stderr",
     "output_type": "stream",
     "text": [
      "\n"
     ]
    },
    {
     "name": "stdout",
     "output_type": "stream",
     "text": [
      "\n",
      "Ticker: WAT\n",
      "Rentabilidad: 64.98%\n",
      "\n",
      "[*********************100%***********************]  1 of 1 completed\n",
      "Entrenando para WBA...\n",
      "\n"
     ]
    },
    {
     "name": "stderr",
     "output_type": "stream",
     "text": [
      "100%|█████████████████████████████████████████| 100/100 [00:43<00:00,  2.33it/s]\n"
     ]
    },
    {
     "name": "stdout",
     "output_type": "stream",
     "text": [
      "[*********************100%***********************]  1 of 1 completed\n",
      "Ticker: WBA\n",
      "Rentabilidad: -26.18%\n",
      "\n",
      "[*********************100%***********************]  1 of 1 completed\n",
      "Entrenando para WBD...\n",
      "\n"
     ]
    },
    {
     "name": "stderr",
     "output_type": "stream",
     "text": [
      "100%|█████████████████████████████████████████| 100/100 [00:42<00:00,  2.33it/s]"
     ]
    },
    {
     "name": "stdout",
     "output_type": "stream",
     "text": [
      "\r",
      "[*********************100%***********************]  1 of 1 completed"
     ]
    },
    {
     "name": "stderr",
     "output_type": "stream",
     "text": [
      "\n"
     ]
    },
    {
     "name": "stdout",
     "output_type": "stream",
     "text": [
      "\n",
      "Ticker: WBD\n",
      "Rentabilidad: -73.15%\n",
      "\n",
      "[*********************100%***********************]  1 of 1 completed\n",
      "Entrenando para WDC...\n",
      "\n"
     ]
    },
    {
     "name": "stderr",
     "output_type": "stream",
     "text": [
      "100%|█████████████████████████████████████████| 100/100 [00:42<00:00,  2.33it/s]"
     ]
    },
    {
     "name": "stdout",
     "output_type": "stream",
     "text": [
      "\r",
      "[*********************100%***********************]  1 of 1 completed"
     ]
    },
    {
     "name": "stderr",
     "output_type": "stream",
     "text": [
      "\n"
     ]
    },
    {
     "name": "stdout",
     "output_type": "stream",
     "text": [
      "\n",
      "Ticker: WDC\n",
      "Rentabilidad: -35.39%\n",
      "\n",
      "[*********************100%***********************]  1 of 1 completed\n",
      "Entrenando para WEC...\n",
      "\n"
     ]
    },
    {
     "name": "stderr",
     "output_type": "stream",
     "text": [
      "100%|█████████████████████████████████████████| 100/100 [00:42<00:00,  2.33it/s]\n"
     ]
    },
    {
     "name": "stdout",
     "output_type": "stream",
     "text": [
      "[*********************100%***********************]  1 of 1 completed\n",
      "Ticker: WEC\n",
      "Rentabilidad: 119.54%\n",
      "\n",
      "[*********************100%***********************]  1 of 1 completed\n",
      "Entrenando para WELL...\n",
      "\n"
     ]
    },
    {
     "name": "stderr",
     "output_type": "stream",
     "text": [
      "100%|█████████████████████████████████████████| 100/100 [00:43<00:00,  2.32it/s]"
     ]
    },
    {
     "name": "stdout",
     "output_type": "stream",
     "text": [
      "\r",
      "[*********************100%***********************]  1 of 1 completed"
     ]
    },
    {
     "name": "stderr",
     "output_type": "stream",
     "text": [
      "\n"
     ]
    },
    {
     "name": "stdout",
     "output_type": "stream",
     "text": [
      "\n",
      "Ticker: WELL\n",
      "Rentabilidad: 109.07%\n",
      "\n",
      "[*********************100%***********************]  1 of 1 completed\n",
      "Entrenando para WFC...\n",
      "\n"
     ]
    },
    {
     "name": "stderr",
     "output_type": "stream",
     "text": [
      "100%|█████████████████████████████████████████| 100/100 [00:42<00:00,  2.33it/s]"
     ]
    },
    {
     "name": "stdout",
     "output_type": "stream",
     "text": [
      "\r",
      "[*********************100%***********************]  1 of 1 completed"
     ]
    },
    {
     "name": "stderr",
     "output_type": "stream",
     "text": [
      "\n"
     ]
    },
    {
     "name": "stdout",
     "output_type": "stream",
     "text": [
      "\n",
      "Ticker: WFC\n",
      "Rentabilidad: 56.48%\n",
      "\n",
      "[*********************100%***********************]  1 of 1 completed\n",
      "Entrenando para WHR...\n",
      "\n"
     ]
    },
    {
     "name": "stderr",
     "output_type": "stream",
     "text": [
      "100%|█████████████████████████████████████████| 100/100 [00:42<00:00,  2.33it/s]\n"
     ]
    },
    {
     "name": "stdout",
     "output_type": "stream",
     "text": [
      "[*********************100%***********************]  1 of 1 completed\n",
      "Ticker: WHR\n",
      "Rentabilidad: 81.46%\n",
      "\n",
      "[*********************100%***********************]  1 of 1 completed\n",
      "Entrenando para WM...\n",
      "\n"
     ]
    },
    {
     "name": "stderr",
     "output_type": "stream",
     "text": [
      "100%|█████████████████████████████████████████| 100/100 [00:43<00:00,  2.32it/s]\n"
     ]
    },
    {
     "name": "stdout",
     "output_type": "stream",
     "text": [
      "[*********************100%***********************]  1 of 1 completed\n",
      "Ticker: WM\n",
      "Rentabilidad: 20.73%\n",
      "\n",
      "[*********************100%***********************]  1 of 1 completed\n",
      "Entrenando para WMB...\n",
      "\n"
     ]
    },
    {
     "name": "stderr",
     "output_type": "stream",
     "text": [
      "100%|█████████████████████████████████████████| 100/100 [00:43<00:00,  2.31it/s]\n"
     ]
    },
    {
     "name": "stdout",
     "output_type": "stream",
     "text": [
      "[*********************100%***********************]  1 of 1 completed\n",
      "Ticker: WMB\n",
      "Rentabilidad: 6.0%\n",
      "\n",
      "[*********************100%***********************]  1 of 1 completed\n",
      "Entrenando para WMT...\n",
      "\n"
     ]
    },
    {
     "name": "stderr",
     "output_type": "stream",
     "text": [
      "100%|█████████████████████████████████████████| 100/100 [00:43<00:00,  2.32it/s]\n"
     ]
    },
    {
     "name": "stdout",
     "output_type": "stream",
     "text": [
      "[*********************100%***********************]  1 of 1 completed\n",
      "Ticker: WMT\n",
      "Rentabilidad: 72.82%\n",
      "\n",
      "[*********************100%***********************]  1 of 1 completed\n",
      "Entrenando para WRB...\n",
      "\n"
     ]
    },
    {
     "name": "stderr",
     "output_type": "stream",
     "text": [
      "100%|█████████████████████████████████████████| 100/100 [00:43<00:00,  2.31it/s]\n"
     ]
    },
    {
     "name": "stdout",
     "output_type": "stream",
     "text": [
      "[*********************100%***********************]  1 of 1 completed\n",
      "Ticker: WRB\n",
      "Rentabilidad: 37.51%\n",
      "\n",
      "[*********************100%***********************]  1 of 1 completed\n",
      "Entrenando para WST...\n",
      "\n"
     ]
    },
    {
     "name": "stderr",
     "output_type": "stream",
     "text": [
      "100%|█████████████████████████████████████████| 100/100 [00:43<00:00,  2.31it/s]\n"
     ]
    },
    {
     "name": "stdout",
     "output_type": "stream",
     "text": [
      "[*********************100%***********************]  1 of 1 completed\n",
      "Ticker: WST\n",
      "Rentabilidad: 110.21%\n",
      "\n",
      "[*********************100%***********************]  1 of 1 completed\n",
      "Entrenando para WTW...\n",
      "\n"
     ]
    },
    {
     "name": "stderr",
     "output_type": "stream",
     "text": [
      "100%|█████████████████████████████████████████| 100/100 [00:43<00:00,  2.31it/s]"
     ]
    },
    {
     "name": "stdout",
     "output_type": "stream",
     "text": [
      "\r",
      "[*********************100%***********************]  1 of 1 completed"
     ]
    },
    {
     "name": "stderr",
     "output_type": "stream",
     "text": [
      "\n"
     ]
    },
    {
     "name": "stdout",
     "output_type": "stream",
     "text": [
      "\n",
      "Ticker: WTW\n",
      "Rentabilidad: -0.19%\n",
      "\n",
      "[*********************100%***********************]  1 of 1 completed\n",
      "Entrenando para WY...\n",
      "\n"
     ]
    },
    {
     "name": "stderr",
     "output_type": "stream",
     "text": [
      "100%|█████████████████████████████████████████| 100/100 [00:43<00:00,  2.30it/s]\n"
     ]
    },
    {
     "name": "stdout",
     "output_type": "stream",
     "text": [
      "[*********************100%***********************]  1 of 1 completed\n",
      "Ticker: WY\n",
      "Rentabilidad: 17.18%\n",
      "\n",
      "[*********************100%***********************]  1 of 1 completed\n",
      "Entrenando para WYNN...\n",
      "\n"
     ]
    },
    {
     "name": "stderr",
     "output_type": "stream",
     "text": [
      "100%|█████████████████████████████████████████| 100/100 [00:43<00:00,  2.31it/s]\n"
     ]
    },
    {
     "name": "stdout",
     "output_type": "stream",
     "text": [
      "[*********************100%***********************]  1 of 1 completed\n",
      "Ticker: WYNN\n",
      "Rentabilidad: 0.01%\n",
      "\n",
      "[*********************100%***********************]  1 of 1 completed\n",
      "Entrenando para XEL...\n",
      "\n"
     ]
    },
    {
     "name": "stderr",
     "output_type": "stream",
     "text": [
      "100%|█████████████████████████████████████████| 100/100 [00:43<00:00,  2.31it/s]\n"
     ]
    },
    {
     "name": "stdout",
     "output_type": "stream",
     "text": [
      "[*********************100%***********************]  1 of 1 completed\n",
      "Ticker: XEL\n",
      "Rentabilidad: 103.46%\n",
      "\n",
      "[*********************100%***********************]  1 of 1 completed\n",
      "Entrenando para XOM...\n",
      "\n"
     ]
    },
    {
     "name": "stderr",
     "output_type": "stream",
     "text": [
      "100%|█████████████████████████████████████████| 100/100 [00:43<00:00,  2.31it/s]\n"
     ]
    },
    {
     "name": "stdout",
     "output_type": "stream",
     "text": [
      "[*********************100%***********************]  1 of 1 completed\n",
      "Ticker: XOM\n",
      "Rentabilidad: 15.9%\n",
      "\n",
      "[*********************100%***********************]  1 of 1 completed\n",
      "Entrenando para XRAY...\n",
      "\n"
     ]
    },
    {
     "name": "stderr",
     "output_type": "stream",
     "text": [
      "100%|█████████████████████████████████████████| 100/100 [00:43<00:00,  2.31it/s]\n"
     ]
    },
    {
     "name": "stdout",
     "output_type": "stream",
     "text": [
      "[*********************100%***********************]  1 of 1 completed\n",
      "Ticker: XRAY\n",
      "Rentabilidad: -5.09%\n",
      "\n",
      "[*********************100%***********************]  1 of 1 completed\n",
      "Entrenando para XYL...\n",
      "\n"
     ]
    },
    {
     "name": "stderr",
     "output_type": "stream",
     "text": [
      "100%|█████████████████████████████████████████| 100/100 [00:43<00:00,  2.31it/s]\n"
     ]
    },
    {
     "name": "stdout",
     "output_type": "stream",
     "text": [
      "[*********************100%***********************]  1 of 1 completed\n",
      "Ticker: XYL\n",
      "Rentabilidad: 130.38%\n",
      "\n",
      "[*********************100%***********************]  1 of 1 completed\n",
      "Entrenando para YUM...\n",
      "\n"
     ]
    },
    {
     "name": "stderr",
     "output_type": "stream",
     "text": [
      "100%|█████████████████████████████████████████| 100/100 [00:43<00:00,  2.30it/s]\n"
     ]
    },
    {
     "name": "stdout",
     "output_type": "stream",
     "text": [
      "[*********************100%***********************]  1 of 1 completed\n",
      "Ticker: YUM\n",
      "Rentabilidad: 99.82%\n",
      "\n",
      "[*********************100%***********************]  1 of 1 completed\n",
      "Entrenando para ZBH...\n",
      "\n"
     ]
    },
    {
     "name": "stderr",
     "output_type": "stream",
     "text": [
      "100%|█████████████████████████████████████████| 100/100 [00:43<00:00,  2.31it/s]"
     ]
    },
    {
     "name": "stdout",
     "output_type": "stream",
     "text": [
      "\r",
      "[*********************100%***********************]  1 of 1 completed"
     ]
    },
    {
     "name": "stderr",
     "output_type": "stream",
     "text": [
      "\n"
     ]
    },
    {
     "name": "stdout",
     "output_type": "stream",
     "text": [
      "\n",
      "Ticker: ZBH\n",
      "Rentabilidad: -47.23%\n",
      "\n",
      "[*********************100%***********************]  1 of 1 completed\n",
      "Entrenando para ZBRA...\n",
      "\n"
     ]
    },
    {
     "name": "stderr",
     "output_type": "stream",
     "text": [
      "100%|█████████████████████████████████████████| 100/100 [00:43<00:00,  2.30it/s]"
     ]
    },
    {
     "name": "stdout",
     "output_type": "stream",
     "text": [
      "\r",
      "[*********************100%***********************]  1 of 1 completed"
     ]
    },
    {
     "name": "stderr",
     "output_type": "stream",
     "text": [
      "\n"
     ]
    },
    {
     "name": "stdout",
     "output_type": "stream",
     "text": [
      "\n",
      "Ticker: ZBRA\n",
      "Rentabilidad: 7.44%\n",
      "\n",
      "[*********************100%***********************]  1 of 1 completed\n",
      "Entrenando para ZION...\n",
      "\n"
     ]
    },
    {
     "name": "stderr",
     "output_type": "stream",
     "text": [
      "100%|█████████████████████████████████████████| 100/100 [00:43<00:00,  2.32it/s]\n"
     ]
    },
    {
     "name": "stdout",
     "output_type": "stream",
     "text": [
      "[*********************100%***********************]  1 of 1 completed\n",
      "Ticker: ZION\n",
      "Rentabilidad: 47.14%\n",
      "\n"
     ]
    }
   ],
   "source": [
    "# Definimos las fechas que usaremos para entrenar y predecir\n",
    "start_date_train = datetime(2012,1,1)\n",
    "end_date_train = datetime(2017,1,1)\n",
    "start_date_test = datetime(2017,1,1)\n",
    "end_date_test = datetime(2022,10,30)\n",
    "\n",
    "# Usaremos solamente las empresas que han tenido datos en el periodo de 2012 hasta octubre del 2022\n",
    "check_dates_df = pd.read_csv(\"/Users/davidserrano/Documents/ICADE/5o ADE+ Analytics/TFG_Analytics/Datos/tabla_precios_final.csv\")\n",
    "check_dates_df['Date'] = pd.to_datetime(check_dates_df['Date'])\n",
    "check_dates_df = check_dates_df[check_dates_df['Date'] > datetime(2012,1,1)]\n",
    "df_no_nan = check_dates_df.dropna(axis=1)\n",
    "STOCK_TICKERS = df_no_nan.columns.tolist()[1:] # Devuelve una lista con los nombres de las columnas restantes\n",
    "nlok_index = STOCK_TICKERS.index(\"NLOK\") # Cambio de nombre de NLOK a GEN\n",
    "STOCK_TICKERS[nlok_index] = \"GEN\" \n",
    "STOCK_TICKERS.remove(\"SIVB\") # Da error con la API de Yahoo Finance por su quiebra (Sillicon Valley Bank)\n",
    "\n",
    "pd.options.mode.chained_assignment = None  # default='warn'\n",
    "\n",
    "# Simulamos para cada una de los tickets\n",
    "initial_capital = 10000000\n",
    "cap_per_stock = 10000000 / len(STOCK_TICKERS)\n",
    "general_hist = {}\n",
    "for ticker in STOCK_TICKERS:\n",
    "    final_cap, hist = train_test_agent(ticker = ticker, initial_cash = cap_per_stock, initial_stock = 0, n_episodes = 100,\n",
    "                            start_date_train = datetime(2012,1,1), end_date_train = datetime(2017,1,1), \n",
    "                            start_date_test = datetime(2017,1,1), end_date_test = datetime(2022,10,30),\n",
    "                            window = 3, window_lt = 252)\n",
    "    general_hist[ticker] = hist\n",
    "    print(f\"Ticker: {ticker}\\nRentabilidad: {round((final_cap / cap_per_stock - 1) * 100, 2)}%\\n\")\n",
    "\n",
    "pd.options.mode.chained_assignment = \"warn\"  # default='warn'\n"
   ]
  },
  {
   "cell_type": "code",
   "execution_count": 9,
   "id": "3d2b6cba",
   "metadata": {},
   "outputs": [],
   "source": [
    "#with open(\"/Users/davidserrano/Documents/ICADE/5o ADE+ Analytics/TFG_Analytics/Datos/progress_NuevoQLearning.pkl\", 'wb') as file:\n",
    "#    pickle.dump(general_hist, file)"
   ]
  },
  {
   "cell_type": "code",
   "execution_count": 11,
   "id": "079ef2e5",
   "metadata": {},
   "outputs": [],
   "source": [
    "with open(\"/Users/davidserrano/Documents/ICADE/5o ADE+ Analytics/TFG_Analytics/Datos/progress_NuevoQLearning.pkl\", 'rb') as file:\n",
    "    general_hist = pickle.load(file)"
   ]
  },
  {
   "cell_type": "code",
   "execution_count": 12,
   "id": "a166d502",
   "metadata": {},
   "outputs": [
    {
     "name": "stdout",
     "output_type": "stream",
     "text": [
      "11698456.612949925\n"
     ]
    }
   ],
   "source": [
    "total_final_capital = 0\n",
    "for ticker, hist in general_hist.items():\n",
    "    if general_hist[ticker].empty:\n",
    "        total_final_capital += 22026.431718061674 # El capital inicial por stock con el que se probó\n",
    "    else:\n",
    "        total_final_capital += general_hist[ticker].loc[datetime(2022, 10, 27)].Capital\n",
    "\n",
    "print(total_final_capital)"
   ]
  },
  {
   "cell_type": "markdown",
   "id": "c10b2e13",
   "metadata": {},
   "source": [
    "## Análisis de resultados"
   ]
  },
  {
   "cell_type": "code",
   "execution_count": 13,
   "id": "dd867d7b",
   "metadata": {},
   "outputs": [],
   "source": [
    "indiv_ret = []\n",
    "sum_history = general_hist[\"A\"].copy()\n",
    "indiv_ret.append(general_hist[\"A\"].Capital.iloc[-1] / 22026.431718061674 - 1)\n",
    "sum_hist_invested= general_hist[\"A\"][\"Stock money\"].copy().abs()\n",
    "for df_hist in general_hist:\n",
    "    if df_hist == \"A\":\n",
    "        continue\n",
    "    if general_hist[df_hist].empty:\n",
    "        sum_history = sum_history + pd.DataFrame({\"Cash\": general_hist[\"A\"].Cash * 0 + 22026.431718061674,\n",
    "                                                  \"Stock money\": general_hist[\"A\"][\"Stock money\"] * 0,\n",
    "                                                  \"Capital\": general_hist[\"A\"].Capital * 0 + 22026.431718061674})\n",
    "        indiv_ret.append(22026.431718061674 / 22026.431718061674 - 1)\n",
    "        continue\n",
    "        \n",
    "    sum_history = sum_history + general_hist[df_hist]\n",
    "    sum_hist_invested = sum_hist_invested + general_hist[df_hist][\"Stock money\"].abs()\n",
    "    indiv_ret.append(general_hist[df_hist].Capital.iloc[-1] / 22026.431718061674 - 1)"
   ]
  },
  {
   "cell_type": "code",
   "execution_count": 14,
   "id": "9313f5b4",
   "metadata": {},
   "outputs": [
    {
     "name": "stderr",
     "output_type": "stream",
     "text": [
      "No artists with labels found to put in legend.  Note that artists whose label start with an underscore are ignored when legend() is called with no argument.\n"
     ]
    },
    {
     "data": {
      "image/png": "[encoded data removed]",
      "text/plain": [
       "<Figure size 720x360 with 1 Axes>"
      ]
     },
     "metadata": {
      "needs_background": "light"
     },
     "output_type": "display_data"
    },
    {
     "name": "stdout",
     "output_type": "stream",
     "text": [
      "count    454.000000\n",
      "mean       0.169846\n",
      "std        0.842502\n",
      "min       -0.879247\n",
      "25%       -0.382811\n",
      "50%       -0.021237\n",
      "75%        0.459918\n",
      "max        7.277593\n",
      "dtype: float64\n"
     ]
    }
   ],
   "source": [
    "def to_percent(x, position):\n",
    "    return f\"{100 * x:.0f}%\"\n",
    "formatter = mtick.FuncFormatter(to_percent)\n",
    "\n",
    "plt.figure(figsize=(10, 5))\n",
    "plt.hist(indiv_ret, bins=np.linspace(-1.5, 8, 100))\n",
    "plt.title(\"Histograma de Rentabilidades\", fontsize=15)\n",
    "plt.xlabel(\"Rentabilidad\", fontsize=12)\n",
    "plt.ylabel(\"Frecuencia\", fontsize=12)\n",
    "plt.gca().xaxis.set_major_formatter(formatter)\n",
    "plt.legend()\n",
    "plt.show()\n",
    "print(pd.Series(indiv_ret).describe())"
   ]
  },
  {
   "cell_type": "code",
   "execution_count": 175,
   "id": "a20ce8b1",
   "metadata": {},
   "outputs": [
    {
     "data": {
      "text/plain": [
       "<AxesSubplot:ylabel='Rentabilidad'>"
      ]
     },
     "execution_count": 175,
     "metadata": {},
     "output_type": "execute_result"
    },
    {
     "data": {
      "image/png": "[encoded data removed]",
      "text/plain": [
       "<Figure size 720x360 with 1 Axes>"
      ]
     },
     "metadata": {
      "needs_background": "light"
     },
     "output_type": "display_data"
    }
   ],
   "source": [
    "orig = pd.Series(indiv_ret)\n",
    "neg = pd.Series(indiv_ret)[pd.Series(indiv_ret) < 0]\n",
    "pos = pd.Series(indiv_ret)[pd.Series(indiv_ret) > 0]\n",
    "\n",
    "plt.figure(figsize=(10, 5))\n",
    "plt.ylabel(\"Rentabilidad\")\n",
    "plt.gca().yaxis.set_major_formatter(formatter)\n",
    "indiv_info = pd.concat([orig, neg, pos], axis=1)\n",
    "indiv_info.columns = ['Total', 'Negativas', 'Positivas']\n",
    "indiv_info.boxplot()"
   ]
  },
  {
   "cell_type": "code",
   "execution_count": 147,
   "id": "0baf32ed",
   "metadata": {},
   "outputs": [
    {
     "name": "stdout",
     "output_type": "stream",
     "text": [
      "[*********************100%***********************]  1 of 1 completed\n",
      "Entrenando para FLT...\n",
      "\n"
     ]
    },
    {
     "name": "stderr",
     "output_type": "stream",
     "text": [
      "100%|█████████████████████████████████████████| 100/100 [00:43<00:00,  2.29it/s]"
     ]
    },
    {
     "name": "stdout",
     "output_type": "stream",
     "text": [
      "\r",
      "[*********************100%***********************]  1 of 1 completed"
     ]
    },
    {
     "name": "stderr",
     "output_type": "stream",
     "text": [
      "\n"
     ]
    },
    {
     "name": "stdout",
     "output_type": "stream",
     "text": [
      "\n",
      "Ticker: FLT\n",
      "Rentabilidad: 64.33%\n",
      "\n",
      "[*********************100%***********************]  1 of 1 completed\n",
      "Entrenando para FLT...\n",
      "\n"
     ]
    },
    {
     "name": "stderr",
     "output_type": "stream",
     "text": [
      "100%|█████████████████████████████████████████| 100/100 [00:43<00:00,  2.29it/s]"
     ]
    },
    {
     "name": "stdout",
     "output_type": "stream",
     "text": [
      "\r",
      "[*********************100%***********************]  1 of 1 completed"
     ]
    },
    {
     "name": "stderr",
     "output_type": "stream",
     "text": [
      "\n"
     ]
    },
    {
     "name": "stdout",
     "output_type": "stream",
     "text": [
      "\n",
      "Ticker: FLT\n",
      "Rentabilidad: 84.22%\n",
      "\n",
      "[*********************100%***********************]  1 of 1 completed\n",
      "Entrenando para FLT...\n",
      "\n"
     ]
    },
    {
     "name": "stderr",
     "output_type": "stream",
     "text": [
      "100%|█████████████████████████████████████████| 100/100 [00:43<00:00,  2.28it/s]"
     ]
    },
    {
     "name": "stdout",
     "output_type": "stream",
     "text": [
      "\r",
      "[*********************100%***********************]  1 of 1 completed"
     ]
    },
    {
     "name": "stderr",
     "output_type": "stream",
     "text": [
      "\n"
     ]
    },
    {
     "name": "stdout",
     "output_type": "stream",
     "text": [
      "\n",
      "Ticker: FLT\n",
      "Rentabilidad: 76.98%\n",
      "\n",
      "[*********************100%***********************]  1 of 1 completed\n",
      "Entrenando para FLT...\n",
      "\n"
     ]
    },
    {
     "name": "stderr",
     "output_type": "stream",
     "text": [
      "100%|█████████████████████████████████████████| 100/100 [00:43<00:00,  2.30it/s]"
     ]
    },
    {
     "name": "stdout",
     "output_type": "stream",
     "text": [
      "\r",
      "[*********************100%***********************]  1 of 1 completed"
     ]
    },
    {
     "name": "stderr",
     "output_type": "stream",
     "text": [
      "\n"
     ]
    },
    {
     "name": "stdout",
     "output_type": "stream",
     "text": [
      "\n",
      "Ticker: FLT\n",
      "Rentabilidad: 251.33%\n",
      "\n",
      "[*********************100%***********************]  1 of 1 completed\n",
      "Entrenando para FLT...\n",
      "\n"
     ]
    },
    {
     "name": "stderr",
     "output_type": "stream",
     "text": [
      "100%|█████████████████████████████████████████| 100/100 [00:43<00:00,  2.31it/s]"
     ]
    },
    {
     "name": "stdout",
     "output_type": "stream",
     "text": [
      "\r",
      "[*********************100%***********************]  1 of 1 completed"
     ]
    },
    {
     "name": "stderr",
     "output_type": "stream",
     "text": [
      "\n"
     ]
    },
    {
     "name": "stdout",
     "output_type": "stream",
     "text": [
      "\n",
      "Ticker: FLT\n",
      "Rentabilidad: 151.67%\n",
      "\n",
      "[*********************100%***********************]  1 of 1 completed\n",
      "Entrenando para FLT...\n",
      "\n"
     ]
    },
    {
     "name": "stderr",
     "output_type": "stream",
     "text": [
      "100%|█████████████████████████████████████████| 100/100 [00:43<00:00,  2.32it/s]"
     ]
    },
    {
     "name": "stdout",
     "output_type": "stream",
     "text": [
      "\r",
      "[*********************100%***********************]  1 of 1 completed"
     ]
    },
    {
     "name": "stderr",
     "output_type": "stream",
     "text": [
      "\n"
     ]
    },
    {
     "name": "stdout",
     "output_type": "stream",
     "text": [
      "\n",
      "Ticker: FLT\n",
      "Rentabilidad: 94.5%\n",
      "\n",
      "[*********************100%***********************]  1 of 1 completed\n",
      "Entrenando para FLT...\n",
      "\n"
     ]
    },
    {
     "name": "stderr",
     "output_type": "stream",
     "text": [
      "100%|█████████████████████████████████████████| 100/100 [00:43<00:00,  2.31it/s]"
     ]
    },
    {
     "name": "stdout",
     "output_type": "stream",
     "text": [
      "\r",
      "[*********************100%***********************]  1 of 1 completed"
     ]
    },
    {
     "name": "stderr",
     "output_type": "stream",
     "text": [
      "\n"
     ]
    },
    {
     "name": "stdout",
     "output_type": "stream",
     "text": [
      "\n",
      "Ticker: FLT\n",
      "Rentabilidad: 151.57%\n",
      "\n",
      "[*********************100%***********************]  1 of 1 completed\n",
      "Entrenando para FLT...\n",
      "\n"
     ]
    },
    {
     "name": "stderr",
     "output_type": "stream",
     "text": [
      "100%|█████████████████████████████████████████| 100/100 [00:43<00:00,  2.31it/s]"
     ]
    },
    {
     "name": "stdout",
     "output_type": "stream",
     "text": [
      "\r",
      "[*********************100%***********************]  1 of 1 completed"
     ]
    },
    {
     "name": "stderr",
     "output_type": "stream",
     "text": [
      "\n"
     ]
    },
    {
     "name": "stdout",
     "output_type": "stream",
     "text": [
      "\n",
      "Ticker: FLT\n",
      "Rentabilidad: 21.77%\n",
      "\n",
      "[*********************100%***********************]  1 of 1 completed\n",
      "Entrenando para FLT...\n",
      "\n"
     ]
    },
    {
     "name": "stderr",
     "output_type": "stream",
     "text": [
      "100%|█████████████████████████████████████████| 100/100 [00:43<00:00,  2.31it/s]"
     ]
    },
    {
     "name": "stdout",
     "output_type": "stream",
     "text": [
      "\r",
      "[*********************100%***********************]  1 of 1 completed"
     ]
    },
    {
     "name": "stderr",
     "output_type": "stream",
     "text": [
      "\n"
     ]
    },
    {
     "name": "stdout",
     "output_type": "stream",
     "text": [
      "\n",
      "Ticker: FLT\n",
      "Rentabilidad: 11.39%\n",
      "\n",
      "[*********************100%***********************]  1 of 1 completed\n",
      "Entrenando para FLT...\n",
      "\n"
     ]
    },
    {
     "name": "stderr",
     "output_type": "stream",
     "text": [
      "100%|█████████████████████████████████████████| 100/100 [00:43<00:00,  2.30it/s]"
     ]
    },
    {
     "name": "stdout",
     "output_type": "stream",
     "text": [
      "\r",
      "[*********************100%***********************]  1 of 1 completed"
     ]
    },
    {
     "name": "stderr",
     "output_type": "stream",
     "text": [
      "\n"
     ]
    },
    {
     "name": "stdout",
     "output_type": "stream",
     "text": [
      "\n",
      "Ticker: FLT\n",
      "Rentabilidad: 151.25%\n",
      "\n",
      "[*********************100%***********************]  1 of 1 completed\n",
      "Entrenando para FLT...\n",
      "\n"
     ]
    },
    {
     "name": "stderr",
     "output_type": "stream",
     "text": [
      "100%|█████████████████████████████████████████| 100/100 [00:43<00:00,  2.29it/s]"
     ]
    },
    {
     "name": "stdout",
     "output_type": "stream",
     "text": [
      "\r",
      "[*********************100%***********************]  1 of 1 completed"
     ]
    },
    {
     "name": "stderr",
     "output_type": "stream",
     "text": [
      "\n"
     ]
    },
    {
     "name": "stdout",
     "output_type": "stream",
     "text": [
      "\n",
      "Ticker: FLT\n",
      "Rentabilidad: 75.55%\n",
      "\n",
      "[*********************100%***********************]  1 of 1 completed\n",
      "Entrenando para FLT...\n",
      "\n"
     ]
    },
    {
     "name": "stderr",
     "output_type": "stream",
     "text": [
      "100%|█████████████████████████████████████████| 100/100 [00:43<00:00,  2.29it/s]"
     ]
    },
    {
     "name": "stdout",
     "output_type": "stream",
     "text": [
      "\r",
      "[*********************100%***********************]  1 of 1 completed"
     ]
    },
    {
     "name": "stderr",
     "output_type": "stream",
     "text": [
      "\n"
     ]
    },
    {
     "name": "stdout",
     "output_type": "stream",
     "text": [
      "\n",
      "Ticker: FLT\n",
      "Rentabilidad: 150.97%\n",
      "\n",
      "[*********************100%***********************]  1 of 1 completed\n",
      "Entrenando para FLT...\n",
      "\n"
     ]
    },
    {
     "name": "stderr",
     "output_type": "stream",
     "text": [
      "100%|█████████████████████████████████████████| 100/100 [00:43<00:00,  2.30it/s]"
     ]
    },
    {
     "name": "stdout",
     "output_type": "stream",
     "text": [
      "\r",
      "[*********************100%***********************]  1 of 1 completed"
     ]
    },
    {
     "name": "stderr",
     "output_type": "stream",
     "text": [
      "\n"
     ]
    },
    {
     "name": "stdout",
     "output_type": "stream",
     "text": [
      "\n",
      "Ticker: FLT\n",
      "Rentabilidad: 513.93%\n",
      "\n",
      "[*********************100%***********************]  1 of 1 completed\n",
      "Entrenando para FLT...\n",
      "\n"
     ]
    },
    {
     "name": "stderr",
     "output_type": "stream",
     "text": [
      "100%|█████████████████████████████████████████| 100/100 [00:43<00:00,  2.30it/s]"
     ]
    },
    {
     "name": "stdout",
     "output_type": "stream",
     "text": [
      "\r",
      "[*********************100%***********************]  1 of 1 completed"
     ]
    },
    {
     "name": "stderr",
     "output_type": "stream",
     "text": [
      "\n"
     ]
    },
    {
     "name": "stdout",
     "output_type": "stream",
     "text": [
      "\n",
      "Ticker: FLT\n",
      "Rentabilidad: 327.51%\n",
      "\n",
      "[*********************100%***********************]  1 of 1 completed\n",
      "Entrenando para FLT...\n",
      "\n"
     ]
    },
    {
     "name": "stderr",
     "output_type": "stream",
     "text": [
      "100%|█████████████████████████████████████████| 100/100 [00:43<00:00,  2.31it/s]"
     ]
    },
    {
     "name": "stdout",
     "output_type": "stream",
     "text": [
      "\r",
      "[*********************100%***********************]  1 of 1 completed"
     ]
    },
    {
     "name": "stderr",
     "output_type": "stream",
     "text": [
      "\n"
     ]
    },
    {
     "name": "stdout",
     "output_type": "stream",
     "text": [
      "\n",
      "Ticker: FLT\n",
      "Rentabilidad: 181.71%\n",
      "\n",
      "[*********************100%***********************]  1 of 1 completed\n",
      "Entrenando para FLT...\n",
      "\n"
     ]
    },
    {
     "name": "stderr",
     "output_type": "stream",
     "text": [
      "100%|█████████████████████████████████████████| 100/100 [00:43<00:00,  2.31it/s]"
     ]
    },
    {
     "name": "stdout",
     "output_type": "stream",
     "text": [
      "\r",
      "[*********************100%***********************]  1 of 1 completed"
     ]
    },
    {
     "name": "stderr",
     "output_type": "stream",
     "text": [
      "\n"
     ]
    },
    {
     "name": "stdout",
     "output_type": "stream",
     "text": [
      "\n",
      "Ticker: FLT\n",
      "Rentabilidad: 182.2%\n",
      "\n",
      "[*********************100%***********************]  1 of 1 completed\n",
      "Entrenando para FLT...\n",
      "\n"
     ]
    },
    {
     "name": "stderr",
     "output_type": "stream",
     "text": [
      "100%|█████████████████████████████████████████| 100/100 [00:43<00:00,  2.30it/s]"
     ]
    },
    {
     "name": "stdout",
     "output_type": "stream",
     "text": [
      "\r",
      "[*********************100%***********************]  1 of 1 completed"
     ]
    },
    {
     "name": "stderr",
     "output_type": "stream",
     "text": [
      "\n"
     ]
    },
    {
     "name": "stdout",
     "output_type": "stream",
     "text": [
      "\n",
      "Ticker: FLT\n",
      "Rentabilidad: 306.69%\n",
      "\n",
      "[*********************100%***********************]  1 of 1 completed\n",
      "Entrenando para FLT...\n",
      "\n"
     ]
    },
    {
     "name": "stderr",
     "output_type": "stream",
     "text": [
      "100%|█████████████████████████████████████████| 100/100 [00:43<00:00,  2.30it/s]"
     ]
    },
    {
     "name": "stdout",
     "output_type": "stream",
     "text": [
      "\r",
      "[*********************100%***********************]  1 of 1 completed"
     ]
    },
    {
     "name": "stderr",
     "output_type": "stream",
     "text": [
      "\n"
     ]
    },
    {
     "name": "stdout",
     "output_type": "stream",
     "text": [
      "\n",
      "Ticker: FLT\n",
      "Rentabilidad: 225.12%\n",
      "\n",
      "[*********************100%***********************]  1 of 1 completed\n",
      "Entrenando para FLT...\n",
      "\n"
     ]
    },
    {
     "name": "stderr",
     "output_type": "stream",
     "text": [
      "100%|█████████████████████████████████████████| 100/100 [00:43<00:00,  2.30it/s]"
     ]
    },
    {
     "name": "stdout",
     "output_type": "stream",
     "text": [
      "\r",
      "[*********************100%***********************]  1 of 1 completed"
     ]
    },
    {
     "name": "stderr",
     "output_type": "stream",
     "text": [
      "\n"
     ]
    },
    {
     "name": "stdout",
     "output_type": "stream",
     "text": [
      "\n",
      "Ticker: FLT\n",
      "Rentabilidad: 213.2%\n",
      "\n",
      "[*********************100%***********************]  1 of 1 completed\n",
      "Entrenando para FLT...\n",
      "\n"
     ]
    },
    {
     "name": "stderr",
     "output_type": "stream",
     "text": [
      "100%|█████████████████████████████████████████| 100/100 [00:43<00:00,  2.30it/s]"
     ]
    },
    {
     "name": "stdout",
     "output_type": "stream",
     "text": [
      "\r",
      "[*********************100%***********************]  1 of 1 completed"
     ]
    },
    {
     "name": "stderr",
     "output_type": "stream",
     "text": [
      "\n"
     ]
    },
    {
     "name": "stdout",
     "output_type": "stream",
     "text": [
      "\n",
      "Ticker: FLT\n",
      "Rentabilidad: 115.56%\n",
      "\n"
     ]
    }
   ],
   "source": [
    "# Demostración funcionamiento en AMD --> Media de 169,47% de rentabilidad (20 + 1 iteraciones)\n",
    "pd.options.mode.chained_assignment = None  # default='warn'\n",
    "\n",
    "# Simulamos para cada una de los tickets\n",
    "initial_capital = 10000000\n",
    "cap_per_stock_FLT = 10000000\n",
    "for ticker in [\"FLT\"] * 20:\n",
    "    final_cap_FLT, FLT_hist = train_test_agent(ticker = ticker, initial_cash = cap_per_stock_FLT, initial_stock = 0, n_episodes = 100,\n",
    "                            start_date_train = datetime(2012,1,1), end_date_train = datetime(2017,1,1), \n",
    "                            start_date_test = datetime(2017,1,1), end_date_test = datetime(2022,10,30),\n",
    "                            window = 3, window_lt = 252)\n",
    "    print(f\"Ticker: {ticker}\\nRentabilidad: {round((final_cap_FLT / cap_per_stock_FLT - 1) * 100, 2)}%\\n\")\n",
    "\n",
    "pd.options.mode.chained_assignment = \"warn\"  # default='warn'"
   ]
  },
  {
   "cell_type": "code",
   "execution_count": 156,
   "id": "557c32ae",
   "metadata": {},
   "outputs": [
    {
     "name": "stdout",
     "output_type": "stream",
     "text": [
      "[*********************100%***********************]  1 of 1 completed\n"
     ]
    }
   ],
   "source": [
    "FLT_data = yf.download(\"FLT\", start = datetime(2017,4,24), end = datetime(2022,10,30))[\"Adj Close\"]\n",
    "FLT_data_10M = FLT_data / FLT_data.iloc[0] * 10000000"
   ]
  },
  {
   "cell_type": "code",
   "execution_count": 163,
   "id": "4db341df",
   "metadata": {},
   "outputs": [
    {
     "data": {
      "image/png": "[encoded data removed]",
      "text/plain": [
       "<Figure size 576x360 with 1 Axes>"
      ]
     },
     "metadata": {
      "needs_background": "light"
     },
     "output_type": "display_data"
    }
   ],
   "source": [
    "# Ejemplo rentabilidad robot 207.42%\n",
    "def to_millions(x, pos):\n",
    "    return f'{x*1e-6:.1f}M'\n",
    "formatter = mtick.FuncFormatter(to_millions)\n",
    "\n",
    "\n",
    "plt.figure(figsize=(8, 5))\n",
    "plt.plot(FLT_hist.Capital, label = \"Robot Q-Learning\")\n",
    "plt.plot(FLT_data_10M, label = \"Estrategia de compra\")\n",
    "plt.legend(loc = 'upper left')\n",
    "plt.gca().yaxis.set_major_formatter(formatter)\n",
    "plt.show()"
   ]
  },
  {
   "cell_type": "code",
   "execution_count": 109,
   "id": "ddc194c0",
   "metadata": {
    "scrolled": true
   },
   "outputs": [
    {
     "name": "stdout",
     "output_type": "stream",
     "text": [
      "[*********************100%***********************]  1 of 1 completed\n",
      "Entrenando para AMD...\n",
      "\n"
     ]
    },
    {
     "name": "stderr",
     "output_type": "stream",
     "text": [
      "100%|█████████████████████████████████████████| 100/100 [00:43<00:00,  2.28it/s]"
     ]
    },
    {
     "name": "stdout",
     "output_type": "stream",
     "text": [
      "\r",
      "[*********************100%***********************]  1 of 1 completed"
     ]
    },
    {
     "name": "stderr",
     "output_type": "stream",
     "text": [
      "\n"
     ]
    },
    {
     "name": "stdout",
     "output_type": "stream",
     "text": [
      "\n",
      "Ticker: AMD\n",
      "Rentabilidad: 117.89%\n",
      "\n",
      "[*********************100%***********************]  1 of 1 completed\n",
      "Entrenando para AMD...\n",
      "\n"
     ]
    },
    {
     "name": "stderr",
     "output_type": "stream",
     "text": [
      "100%|█████████████████████████████████████████| 100/100 [00:43<00:00,  2.29it/s]\n"
     ]
    },
    {
     "name": "stdout",
     "output_type": "stream",
     "text": [
      "[*********************100%***********************]  1 of 1 completed\n",
      "Ticker: AMD\n",
      "Rentabilidad: 1229.72%\n",
      "\n",
      "[*********************100%***********************]  1 of 1 completed\n",
      "Entrenando para AMD...\n",
      "\n"
     ]
    },
    {
     "name": "stderr",
     "output_type": "stream",
     "text": [
      "100%|█████████████████████████████████████████| 100/100 [00:43<00:00,  2.28it/s]"
     ]
    },
    {
     "name": "stdout",
     "output_type": "stream",
     "text": [
      "\r",
      "[*********************100%***********************]  1 of 1 completed"
     ]
    },
    {
     "name": "stderr",
     "output_type": "stream",
     "text": [
      "\n"
     ]
    },
    {
     "name": "stdout",
     "output_type": "stream",
     "text": [
      "\n",
      "Ticker: AMD\n",
      "Rentabilidad: 747.12%\n",
      "\n",
      "[*********************100%***********************]  1 of 1 completed\n",
      "Entrenando para AMD...\n",
      "\n"
     ]
    },
    {
     "name": "stderr",
     "output_type": "stream",
     "text": [
      "100%|█████████████████████████████████████████| 100/100 [00:43<00:00,  2.28it/s]\n"
     ]
    },
    {
     "name": "stdout",
     "output_type": "stream",
     "text": [
      "[*********************100%***********************]  1 of 1 completed\n",
      "Ticker: AMD\n",
      "Rentabilidad: 461.0%\n",
      "\n",
      "[*********************100%***********************]  1 of 1 completed\n",
      "Entrenando para AMD...\n",
      "\n"
     ]
    },
    {
     "name": "stderr",
     "output_type": "stream",
     "text": [
      "100%|█████████████████████████████████████████| 100/100 [00:43<00:00,  2.29it/s]"
     ]
    },
    {
     "name": "stdout",
     "output_type": "stream",
     "text": [
      "\r",
      "[*********************100%***********************]  1 of 1 completed"
     ]
    },
    {
     "name": "stderr",
     "output_type": "stream",
     "text": [
      "\n"
     ]
    },
    {
     "name": "stdout",
     "output_type": "stream",
     "text": [
      "\n",
      "Ticker: AMD\n",
      "Rentabilidad: 824.44%\n",
      "\n",
      "[*********************100%***********************]  1 of 1 completed\n",
      "Entrenando para AMD...\n",
      "\n"
     ]
    },
    {
     "name": "stderr",
     "output_type": "stream",
     "text": [
      "100%|█████████████████████████████████████████| 100/100 [00:43<00:00,  2.29it/s]"
     ]
    },
    {
     "name": "stdout",
     "output_type": "stream",
     "text": [
      "\r",
      "[*********************100%***********************]  1 of 1 completed"
     ]
    },
    {
     "name": "stderr",
     "output_type": "stream",
     "text": [
      "\n"
     ]
    },
    {
     "name": "stdout",
     "output_type": "stream",
     "text": [
      "\n",
      "Ticker: AMD\n",
      "Rentabilidad: 791.52%\n",
      "\n",
      "[*********************100%***********************]  1 of 1 completed\n",
      "Entrenando para AMD...\n",
      "\n"
     ]
    },
    {
     "name": "stderr",
     "output_type": "stream",
     "text": [
      "100%|█████████████████████████████████████████| 100/100 [00:43<00:00,  2.29it/s]\n"
     ]
    },
    {
     "name": "stdout",
     "output_type": "stream",
     "text": [
      "[*********************100%***********************]  1 of 1 completed\n",
      "Ticker: AMD\n",
      "Rentabilidad: 274.17%\n",
      "\n",
      "[*********************100%***********************]  1 of 1 completed\n",
      "Entrenando para AMD...\n",
      "\n"
     ]
    },
    {
     "name": "stderr",
     "output_type": "stream",
     "text": [
      "100%|█████████████████████████████████████████| 100/100 [00:43<00:00,  2.29it/s]"
     ]
    },
    {
     "name": "stdout",
     "output_type": "stream",
     "text": [
      "\r",
      "[*********************100%***********************]  1 of 1 completed"
     ]
    },
    {
     "name": "stderr",
     "output_type": "stream",
     "text": [
      "\n"
     ]
    },
    {
     "name": "stdout",
     "output_type": "stream",
     "text": [
      "\n",
      "Ticker: AMD\n",
      "Rentabilidad: 1199.09%\n",
      "\n",
      "[*********************100%***********************]  1 of 1 completed\n",
      "Entrenando para AMD...\n",
      "\n"
     ]
    },
    {
     "name": "stderr",
     "output_type": "stream",
     "text": [
      "100%|█████████████████████████████████████████| 100/100 [00:43<00:00,  2.29it/s]"
     ]
    },
    {
     "name": "stdout",
     "output_type": "stream",
     "text": [
      "\r",
      "[*********************100%***********************]  1 of 1 completed"
     ]
    },
    {
     "name": "stderr",
     "output_type": "stream",
     "text": [
      "\n"
     ]
    },
    {
     "name": "stdout",
     "output_type": "stream",
     "text": [
      "\n",
      "Ticker: AMD\n",
      "Rentabilidad: 417.23%\n",
      "\n",
      "[*********************100%***********************]  1 of 1 completed\n",
      "Entrenando para AMD...\n",
      "\n"
     ]
    },
    {
     "name": "stderr",
     "output_type": "stream",
     "text": [
      "100%|█████████████████████████████████████████| 100/100 [00:43<00:00,  2.29it/s]"
     ]
    },
    {
     "name": "stdout",
     "output_type": "stream",
     "text": [
      "\r",
      "[*********************100%***********************]  1 of 1 completed"
     ]
    },
    {
     "name": "stderr",
     "output_type": "stream",
     "text": [
      "\n"
     ]
    },
    {
     "name": "stdout",
     "output_type": "stream",
     "text": [
      "\n",
      "Ticker: AMD\n",
      "Rentabilidad: 36.61%\n",
      "\n",
      "[*********************100%***********************]  1 of 1 completed\n",
      "Entrenando para AMD...\n",
      "\n"
     ]
    },
    {
     "name": "stderr",
     "output_type": "stream",
     "text": [
      "100%|█████████████████████████████████████████| 100/100 [00:43<00:00,  2.28it/s]"
     ]
    },
    {
     "name": "stdout",
     "output_type": "stream",
     "text": [
      "\r",
      "[*********************100%***********************]  1 of 1 completed"
     ]
    },
    {
     "name": "stderr",
     "output_type": "stream",
     "text": [
      "\n"
     ]
    },
    {
     "name": "stdout",
     "output_type": "stream",
     "text": [
      "\n",
      "Ticker: AMD\n",
      "Rentabilidad: 405.91%\n",
      "\n",
      "[*********************100%***********************]  1 of 1 completed\n",
      "Entrenando para AMD...\n",
      "\n"
     ]
    },
    {
     "name": "stderr",
     "output_type": "stream",
     "text": [
      "100%|█████████████████████████████████████████| 100/100 [00:43<00:00,  2.28it/s]"
     ]
    },
    {
     "name": "stdout",
     "output_type": "stream",
     "text": [
      "\r",
      "[*********************100%***********************]  1 of 1 completed"
     ]
    },
    {
     "name": "stderr",
     "output_type": "stream",
     "text": [
      "\n"
     ]
    },
    {
     "name": "stdout",
     "output_type": "stream",
     "text": [
      "\n",
      "Ticker: AMD\n",
      "Rentabilidad: 681.28%\n",
      "\n",
      "[*********************100%***********************]  1 of 1 completed\n",
      "Entrenando para AMD...\n",
      "\n"
     ]
    },
    {
     "name": "stderr",
     "output_type": "stream",
     "text": [
      "100%|█████████████████████████████████████████| 100/100 [00:43<00:00,  2.28it/s]\n"
     ]
    },
    {
     "name": "stdout",
     "output_type": "stream",
     "text": [
      "[*********************100%***********************]  1 of 1 completed\n",
      "Ticker: AMD\n",
      "Rentabilidad: 475.6%\n",
      "\n",
      "[*********************100%***********************]  1 of 1 completed\n",
      "Entrenando para AMD...\n",
      "\n"
     ]
    },
    {
     "name": "stderr",
     "output_type": "stream",
     "text": [
      "100%|█████████████████████████████████████████| 100/100 [00:43<00:00,  2.28it/s]"
     ]
    },
    {
     "name": "stdout",
     "output_type": "stream",
     "text": [
      "\r",
      "[*********************100%***********************]  1 of 1 completed"
     ]
    },
    {
     "name": "stderr",
     "output_type": "stream",
     "text": [
      "\n"
     ]
    },
    {
     "name": "stdout",
     "output_type": "stream",
     "text": [
      "\n",
      "Ticker: AMD\n",
      "Rentabilidad: 158.7%\n",
      "\n",
      "[*********************100%***********************]  1 of 1 completed\n",
      "Entrenando para AMD...\n",
      "\n"
     ]
    },
    {
     "name": "stderr",
     "output_type": "stream",
     "text": [
      "100%|█████████████████████████████████████████| 100/100 [00:43<00:00,  2.29it/s]"
     ]
    },
    {
     "name": "stdout",
     "output_type": "stream",
     "text": [
      "\r",
      "[*********************100%***********************]  1 of 1 completed"
     ]
    },
    {
     "name": "stderr",
     "output_type": "stream",
     "text": [
      "\n"
     ]
    },
    {
     "name": "stdout",
     "output_type": "stream",
     "text": [
      "\n",
      "Ticker: AMD\n",
      "Rentabilidad: 1274.31%\n",
      "\n",
      "[*********************100%***********************]  1 of 1 completed\n",
      "Entrenando para AMD...\n",
      "\n"
     ]
    },
    {
     "name": "stderr",
     "output_type": "stream",
     "text": [
      "100%|█████████████████████████████████████████| 100/100 [00:43<00:00,  2.29it/s]"
     ]
    },
    {
     "name": "stdout",
     "output_type": "stream",
     "text": [
      "\r",
      "[*********************100%***********************]  1 of 1 completed"
     ]
    },
    {
     "name": "stderr",
     "output_type": "stream",
     "text": [
      "\n"
     ]
    },
    {
     "name": "stdout",
     "output_type": "stream",
     "text": [
      "\n",
      "Ticker: AMD\n",
      "Rentabilidad: 416.03%\n",
      "\n",
      "[*********************100%***********************]  1 of 1 completed\n",
      "Entrenando para AMD...\n",
      "\n"
     ]
    },
    {
     "name": "stderr",
     "output_type": "stream",
     "text": [
      "100%|█████████████████████████████████████████| 100/100 [00:43<00:00,  2.29it/s]\n"
     ]
    },
    {
     "name": "stdout",
     "output_type": "stream",
     "text": [
      "[*********************100%***********************]  1 of 1 completed\n",
      "Ticker: AMD\n",
      "Rentabilidad: 277.44%\n",
      "\n",
      "[*********************100%***********************]  1 of 1 completed\n",
      "Entrenando para AMD...\n",
      "\n"
     ]
    },
    {
     "name": "stderr",
     "output_type": "stream",
     "text": [
      "100%|█████████████████████████████████████████| 100/100 [00:43<00:00,  2.28it/s]"
     ]
    },
    {
     "name": "stdout",
     "output_type": "stream",
     "text": [
      "\r",
      "[*********************100%***********************]  1 of 1 completed"
     ]
    },
    {
     "name": "stderr",
     "output_type": "stream",
     "text": [
      "\n"
     ]
    },
    {
     "name": "stdout",
     "output_type": "stream",
     "text": [
      "\n",
      "Ticker: AMD\n",
      "Rentabilidad: 1450.23%\n",
      "\n",
      "[*********************100%***********************]  1 of 1 completed\n",
      "Entrenando para AMD...\n",
      "\n"
     ]
    },
    {
     "name": "stderr",
     "output_type": "stream",
     "text": [
      "100%|█████████████████████████████████████████| 100/100 [00:43<00:00,  2.30it/s]"
     ]
    },
    {
     "name": "stdout",
     "output_type": "stream",
     "text": [
      "\r",
      "[*********************100%***********************]  1 of 1 completed"
     ]
    },
    {
     "name": "stderr",
     "output_type": "stream",
     "text": [
      "\n"
     ]
    },
    {
     "name": "stdout",
     "output_type": "stream",
     "text": [
      "\n",
      "Ticker: AMD\n",
      "Rentabilidad: 274.9%\n",
      "\n",
      "[*********************100%***********************]  1 of 1 completed\n",
      "Entrenando para AMD...\n",
      "\n"
     ]
    },
    {
     "name": "stderr",
     "output_type": "stream",
     "text": [
      "100%|█████████████████████████████████████████| 100/100 [00:43<00:00,  2.31it/s]"
     ]
    },
    {
     "name": "stdout",
     "output_type": "stream",
     "text": [
      "\r",
      "[*********************100%***********************]  1 of 1 completed"
     ]
    },
    {
     "name": "stderr",
     "output_type": "stream",
     "text": [
      "\n"
     ]
    },
    {
     "name": "stdout",
     "output_type": "stream",
     "text": [
      "\n",
      "Ticker: AMD\n",
      "Rentabilidad: 197.51%\n",
      "\n"
     ]
    }
   ],
   "source": [
    "# Demostración funcionamiento en AMD --> Media de 641,94% de rentabilidad (20 + 1 iteraciones)\n",
    "pd.options.mode.chained_assignment = None  # default='warn'\n",
    "\n",
    "# Simulamos para cada una de los tickets\n",
    "initial_capital = 10000000\n",
    "cap_per_stock_AMD = 10000000\n",
    "for ticker in [\"AMD\"] * 20:\n",
    "    final_cap_AMD, AMD_hist = train_test_agent(ticker = ticker, initial_cash = cap_per_stock_AMD, initial_stock = 0, n_episodes = 100,\n",
    "                            start_date_train = datetime(2012,1,1), end_date_train = datetime(2017,1,1), \n",
    "                            start_date_test = datetime(2017,1,1), end_date_test = datetime(2022,10,30),\n",
    "                            window = 3, window_lt = 252)\n",
    "    print(f\"Ticker: {ticker}\\nRentabilidad: {round((final_cap_AMD / cap_per_stock_AMD - 1) * 100, 2)}%\\n\")\n",
    "\n",
    "pd.options.mode.chained_assignment = \"warn\"  # default='warn'"
   ]
  },
  {
   "cell_type": "code",
   "execution_count": 144,
   "id": "3e829728",
   "metadata": {},
   "outputs": [
    {
     "name": "stdout",
     "output_type": "stream",
     "text": [
      "[*********************100%***********************]  1 of 1 completed\n"
     ]
    }
   ],
   "source": [
    "AMD_data = yf.download(\"AMD\", start = datetime(2017,4,24), end = datetime(2022,10,30))[\"Adj Close\"]\n",
    "AMD_data_10M = AMD_data / AMD_data.iloc[0] * 10000000"
   ]
  },
  {
   "cell_type": "code",
   "execution_count": 145,
   "id": "113a7530",
   "metadata": {},
   "outputs": [
    {
     "data": {
      "image/png": "[encoded data removed]",
      "text/plain": [
       "<Figure size 576x360 with 1 Axes>"
      ]
     },
     "metadata": {
      "needs_background": "light"
     },
     "output_type": "display_data"
    }
   ],
   "source": [
    "# Ejemplo rentabilidad robot 1770.13%\n",
    "def to_millions(x, pos):\n",
    "    return f'{x*1e-6:.1f}M'\n",
    "formatter = mtick.FuncFormatter(to_millions)\n",
    "\n",
    "\n",
    "plt.figure(figsize=(8, 5))\n",
    "plt.plot(AMD_hist.Capital, label = \"Robot Q-Learning\")\n",
    "plt.plot(AMD_data_10M, label = \"Estrategia de compra\")\n",
    "plt.legend(loc = 'upper left')\n",
    "plt.gca().yaxis.set_major_formatter(formatter)\n",
    "plt.show()"
   ]
  },
  {
   "cell_type": "code",
   "execution_count": 86,
   "id": "3433d04c",
   "metadata": {},
   "outputs": [
    {
     "data": {
      "image/png": "[encoded data removed]",
      "text/plain": [
       "<Figure size 576x360 with 1 Axes>"
      ]
     },
     "metadata": {
      "needs_background": "light"
     },
     "output_type": "display_data"
    }
   ],
   "source": [
    "plt.figure(figsize=(8, 5))\n",
    "plt.fill_between(sum_hist_invested.index, sum_history.Capital, label=\"Invertido\")\n",
    "plt.fill_between(sum_history.index, sum_history.Capital - sum_hist_invested, label=\"Efectivo\")\n",
    "plt.legend(loc = 'upper left')\n",
    "plt.gca().yaxis.set_major_formatter(mtick.FormatStrFormatter('%.f'))\n",
    "plt.xticks(sum_history.index[::120], rotation = 45)\n",
    "plt.show()"
   ]
  },
  {
   "cell_type": "code",
   "execution_count": 15,
   "id": "c2bbd60a",
   "metadata": {},
   "outputs": [
    {
     "name": "stdout",
     "output_type": "stream",
     "text": [
      "Total Return: 16.98%\n",
      "Annualized Return: 2.88%\n",
      "Volatility: 4.00%\n",
      "Maximum Drawdown: -7.05%\n",
      "Sharpe Ratio: 0.47\n"
     ]
    }
   ],
   "source": [
    "total_return = (sum_history.Capital.iloc[-1]/sum_history.Capital.iloc[0] - 1)\n",
    "print(f\"Total Return: {round(total_return * 100, 2)}%\")\n",
    "total_capital = sum_history.Capital\n",
    "daily_return = total_capital.pct_change()\n",
    "annualized_return = ((total_capital.iloc[-1] / total_capital.iloc[0]) ** (252 / len(total_capital)) - 1)\n",
    "print(\"Annualized Return: {:.2f}%\".format(annualized_return * 100))\n",
    "volatility = daily_return.std() * np.sqrt(252)\n",
    "print(\"Volatility: {:.2f}%\".format(volatility * 100))\n",
    "cumulative_returns = (1 + daily_return).cumprod()\n",
    "cumulative_returns.iloc[0] = 1\n",
    "drawdown = cumulative_returns / cumulative_returns.cummax() - 1\n",
    "max_drawdown = drawdown.min()\n",
    "print(\"Maximum Drawdown: {:.2f}%\".format(max_drawdown*100))\n",
    "\n",
    "daily_risk_free = pd.read_csv(\"Datos/F-F_Research_Data_Factors_daily-3.csv\", index_col = 0)\n",
    "daily_risk_free.index = pd.to_datetime(daily_risk_free.index, format='%Y%m%d')\n",
    "daily_risk_free = daily_risk_free[daily_risk_free.index >= pd.to_datetime(\"2017-01-01\")].RF\n",
    "daily_risk_free = daily_risk_free[daily_risk_free.index <= pd.to_datetime(\"2022-10-31\")]\n",
    "daily_risk_free = daily_risk_free / 100\n",
    "daily_excess_returns = (daily_return - daily_risk_free).dropna()\n",
    "mean_daily_excess_returns = daily_excess_returns.mean()\n",
    "daily_volatility_er = daily_excess_returns.std()\n",
    "daily_sharpe_ratio = mean_daily_excess_returns / daily_volatility_er\n",
    "sharpe_ratio = daily_sharpe_ratio * np.sqrt(252)\n",
    "print(\"Sharpe Ratio: {:.2f}\".format(sharpe_ratio))"
   ]
  }
 ],
 "metadata": {
  "kernelspec": {
   "display_name": "Python 3 (ipykernel)",
   "language": "python",
   "name": "python3"
  },
  "language_info": {
   "codemirror_mode": {
    "name": "ipython",
    "version": 3
   },
   "file_extension": ".py",
   "mimetype": "text/x-python",
   "name": "python",
   "nbconvert_exporter": "python",
   "pygments_lexer": "ipython3",
   "version": "3.9.12"
  }
 },
 "nbformat": 4,
 "nbformat_minor": 5
}
